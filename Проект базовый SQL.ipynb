{
 "cells": [
  {
   "cell_type": "markdown",
   "id": "3abd2888",
   "metadata": {},
   "source": [
    "# ПРОЕКТ БАЗОВЫЙ SQL"
   ]
  },
  {
   "cell_type": "markdown",
   "id": "8ac4e236",
   "metadata": {},
   "source": [
    "## Задача 1.\n",
    "Посчитайте, сколько компаний закрылось."
   ]
  },
  {
   "cell_type": "code",
   "execution_count": null,
   "id": "bfae4d17",
   "metadata": {},
   "outputs": [],
   "source": [
    "SELECT COUNT(status)\n",
    "FROM company\n",
    "WHERE status LIKE 'closed';"
   ]
  },
  {
   "cell_type": "code",
   "execution_count": null,
   "id": "236a9a84",
   "metadata": {},
   "outputs": [],
   "source": [
    "count\n",
    "2584"
   ]
  },
  {
   "cell_type": "markdown",
   "id": "2bc325f7",
   "metadata": {},
   "source": [
    "## Задача 2.\n",
    "Отобразите количество привлечённых средств для новостных компаний США. Используйте данные из таблицы company. Отсортируйте таблицу по убыванию значений в поле funding_total ."
   ]
  },
  {
   "cell_type": "code",
   "execution_count": null,
   "id": "55e5acd8",
   "metadata": {},
   "outputs": [],
   "source": [
    "SELECT SUM(funding_total)\n",
    "FROM company\n",
    "WHERE country_code = 'USA'\n",
    "      AND category_code = 'news'\n",
    "GROUP BY id\n",
    "ORDER BY SUM(funding_total) DESC;"
   ]
  },
  {
   "cell_type": "code",
   "execution_count": null,
   "id": "0c8c1353",
   "metadata": {},
   "outputs": [],
   "source": [
    "sum\n",
    "6.22553e+08\n",
    "2.5e+08\n",
    "1.605e+08\n",
    "1.28e+08\n",
    "1.265e+08\n",
    "7e+07\n",
    "6.9e+07\n",
    "6.11322e+07\n",
    "5.64649e+07\n",
    "4.63e+07\n",
    "4.5e+07\n",
    "4.1e+07\n",
    "....."
   ]
  },
  {
   "cell_type": "markdown",
   "id": "b8ffab7d",
   "metadata": {},
   "source": [
    "## Задача 3.\n",
    "Найдите общую сумму сделок по покупке одних компаний другими в долларах. Отберите сделки, которые осуществлялись только за наличные с 2011 по 2013 год включительно."
   ]
  },
  {
   "cell_type": "code",
   "execution_count": null,
   "id": "fcc6c10f",
   "metadata": {},
   "outputs": [],
   "source": [
    "SELECT SUM(price_amount)\n",
    "FROM acquisition\n",
    "WHERE term_code = 'cash'\n",
    "      AND acquired_at BETWEEN '01.01.2011' AND '31.12.2013';"
   ]
  },
  {
   "cell_type": "code",
   "execution_count": null,
   "id": "b595b1ae",
   "metadata": {},
   "outputs": [],
   "source": [
    "sum\n",
    "1.37762e+11"
   ]
  },
  {
   "cell_type": "markdown",
   "id": "3da9ff8a",
   "metadata": {},
   "source": [
    "## Задача 4.\n",
    "Отобразите имя, фамилию и названия аккаунтов людей в твиттере, у которых названия аккаунтов начинаются на 'Silver'."
   ]
  },
  {
   "cell_type": "code",
   "execution_count": null,
   "id": "9f264328",
   "metadata": {},
   "outputs": [],
   "source": [
    "SELECT first_name,\n",
    "       last_name,\n",
    "       twitter_username\n",
    "FROM people\n",
    "WHERE twitter_username LIKE 'Silver%';"
   ]
  },
  {
   "cell_type": "code",
   "execution_count": null,
   "id": "bbd72e28",
   "metadata": {},
   "outputs": [],
   "source": [
    "first_name\tlast_name\ttwitter_username\n",
    "Rebecca\tSilver\tSilverRebecca\n",
    "Mattias\tGuilotte\tSilverreven\n",
    "Silver\tTeede\tSilverMatrixx"
   ]
  },
  {
   "cell_type": "markdown",
   "id": "48c81fd8",
   "metadata": {},
   "source": [
    "## Задача 5.\n",
    "Выведите на экран всю информацию о людях, у которых названия аккаунтов в твиттере содержат подстроку 'money', а фамилия начинается на 'K'."
   ]
  },
  {
   "cell_type": "code",
   "execution_count": null,
   "id": "e0a141c8",
   "metadata": {},
   "outputs": [],
   "source": [
    "SELECT *\n",
    "FROM people\n",
    "WHERE twitter_username LIKE '%_money%'\n",
    "AND last_name LIKE 'K%';"
   ]
  },
  {
   "cell_type": "code",
   "execution_count": null,
   "id": "6219471f",
   "metadata": {},
   "outputs": [],
   "source": [
    "id\tfirst_name\tlast_name\tcompany_id\ttwitter_username\tcreated_at\tupdated_at\n",
    "63081\tGregory\tKim\t\tgmoney75\t2010-07-13 03:46:28\t2011-12-12 22:01:34\n"
   ]
  },
  {
   "cell_type": "markdown",
   "id": "69a6b2b8",
   "metadata": {},
   "source": [
    "## Задача 6.\n",
    "Для каждой страны отобразите общую сумму привлечённых инвестиций, которые получили компании, зарегистрированные в этой стране. Страну, в которой зарегистрирована компания, можно определить по коду страны. Отсортируйте данные по убыванию суммы."
   ]
  },
  {
   "cell_type": "code",
   "execution_count": null,
   "id": "f481aceb",
   "metadata": {},
   "outputs": [],
   "source": [
    "SELECT country_code,\n",
    "       SUM(funding_total)\n",
    "FROM company\n",
    "GROUP BY country_code\n",
    "ORDER BY SUM(funding_total) DESC;"
   ]
  },
  {
   "cell_type": "code",
   "execution_count": null,
   "id": "63d1b3ac",
   "metadata": {},
   "outputs": [],
   "source": [
    "country_code\tsum\n",
    "USA\t3.10588e+11\n",
    "GBR\t1.77056e+10\n",
    "1.08559e+10\n",
    "CHN\t1.06897e+10\n",
    "CAN\t9.86636e+09\n",
    "IND\t6.14141e+09\n",
    "DEU\t5.76577e+09\n",
    "FRA\t4.59514e+09\n",
    "ISR\t4.48009e+09\n",
    "CHE\t2.82925e+09\n",
    "........."
   ]
  },
  {
   "cell_type": "markdown",
   "id": "dc7caa1f",
   "metadata": {},
   "source": [
    "## Задача 7.\n",
    "Составьте таблицу, в которую войдёт дата проведения раунда, а также минимальное и максимальное значения суммы инвестиций, привлечённых в эту дату.\n",
    "Оставьте в итоговой таблице только те записи, в которых минимальное значение суммы инвестиций не равно нулю и не равно максимальному значению."
   ]
  },
  {
   "cell_type": "code",
   "execution_count": null,
   "id": "e9ff30d2",
   "metadata": {},
   "outputs": [],
   "source": [
    "SELECT CAST(funded_at AS date),\n",
    "       MIN(raised_amount) AS min_total,\n",
    "       MAX(raised_amount) AS max_total\n",
    "FROM funding_round\n",
    "GROUP BY CAST(funded_at AS date)\n",
    "HAVING MIN(raised_amount) != 0 \n",
    "       AND MIN(raised_amount) != MAX(raised_amount);"
   ]
  },
  {
   "cell_type": "code",
   "execution_count": null,
   "id": "cc680295",
   "metadata": {},
   "outputs": [],
   "source": [
    "funded_at\tmin_total\tmax_total\n",
    "2012-08-22\t40000\t7.5e+07\n",
    "2010-07-25\t3.27825e+06\t9e+06\n",
    "2002-03-01\t2.84418e+06\t8.95915e+06\n",
    "2010-10-11\t28000\t2e+08\n",
    "2007-01-18\t5.5e+06\t2.3e+07\n",
    "2007-02-27\t1.29e+06\t3.6e+07\n",
    "2006-01-05\t8.9e+06\t2.65e+07\n",
    "2011-10-31\t35000\t2.5e+07\n",
    "............"
   ]
  },
  {
   "cell_type": "markdown",
   "id": "a8542250",
   "metadata": {},
   "source": [
    "## Задача 8.\n",
    "Создайте поле с категориями:\n",
    "Для фондов, которые инвестируют в 100 и более компаний, назначьте категорию high_activity.\n",
    "Для фондов, которые инвестируют в 20 и более компаний до 100, назначьте категорию middle_activity.\n",
    "Если количество инвестируемых компаний фонда не достигает 20, назначьте категорию low_activity.\n",
    "Отобразите все поля таблицы fund и новое поле с категориями."
   ]
  },
  {
   "cell_type": "code",
   "execution_count": null,
   "id": "b6c9c551",
   "metadata": {},
   "outputs": [],
   "source": [
    "SELECT *,\n",
    "      CASE\n",
    "      WHEN invested_companies < 20 THEN 'low_activity'\n",
    "      WHEN invested_companies >= 100 THEN 'high_activity'\n",
    "      ELSE 'middle_activity'\n",
    "      END AS category\n",
    "FROM fund"
   ]
  },
  {
   "cell_type": "code",
   "execution_count": null,
   "id": "1a603e03",
   "metadata": {},
   "outputs": [],
   "source": [
    "id\tname\tfounded_at\tdomain\ttwitter_username\tcountry_code\tinvestment_rounds\tinvested_companies\tmilestones\tcreated_at\tupdated_at\tcategory\n",
    "13131\t\t\t\t\t\t0\t0\t0\t2013-08-19 18:46:55\t2013-08-19 19:55:07\tlow_activity\n",
    "1\tGreylock Partners\t1965-01-01\tgreylock.com\tgreylockvc\tUSA\t307\t196\t0\t2007-05-25 20:18:23\t2012-12-27 00:42:24\thigh_activity"
   ]
  },
  {
   "cell_type": "markdown",
   "id": "d66f16a6",
   "metadata": {},
   "source": [
    "## Задача 9.\n",
    "Для каждой из категорий, назначенных в предыдущем задании, посчитайте округлённое до ближайшего целого числа среднее количество инвестиционных раундов, в которых фонд принимал участие. Выведите на экран категории и среднее число инвестиционных раундов. Отсортируйте таблицу по возрастанию среднего."
   ]
  },
  {
   "cell_type": "code",
   "execution_count": null,
   "id": "a86cc738",
   "metadata": {},
   "outputs": [],
   "source": [
    "SELECT \n",
    "       CASE\n",
    "           WHEN invested_companies>=100 THEN 'high_activity'\n",
    "           WHEN invested_companies>=20 THEN 'middle_activity'\n",
    "           ELSE 'low_activity'\n",
    "       END AS activity,\n",
    "       ROUND(AVG(investment_rounds)) AS avg_rounds\n",
    "FROM fund\n",
    "GROUP BY activity\n",
    "ORDER BY avg_rounds;"
   ]
  },
  {
   "cell_type": "code",
   "execution_count": null,
   "id": "4092baa2",
   "metadata": {},
   "outputs": [],
   "source": [
    "activity\tavg_rounds\n",
    "low_activity\t2\n",
    "middle_activity\t51\n",
    "high_activity\t252"
   ]
  },
  {
   "cell_type": "markdown",
   "id": "e1a2a24b",
   "metadata": {},
   "source": [
    "## Задача 10.\n",
    "Проанализируйте, в каких странах находятся фонды, которые чаще всего инвестируют в стартапы. \n",
    "Для каждой страны посчитайте минимальное, максимальное и среднее число компаний, в которые инвестировали фонды этой страны, основанные с 2010 по 2012 год включительно. Исключите страны с фондами, у которых минимальное число компаний, получивших инвестиции, равно нулю. Выгрузите десять самых активных стран-инвесторов.\n",
    "Отсортируйте таблицу по среднему количеству компаний от большего к меньшему, а затем по коду страны в лексикографическом порядке."
   ]
  },
  {
   "cell_type": "code",
   "execution_count": null,
   "id": "ff31596f",
   "metadata": {},
   "outputs": [],
   "source": [
    "SELECT country_code,\n",
    "       MIN(invested_companies),\n",
    "       MAX(invested_companies),\n",
    "       AVG(invested_companies)\n",
    "FROM fund\n",
    "WHERE founded_at BETWEEN '2010-01-01' AND '2012-12-31'\n",
    "GROUP BY country_code\n",
    "HAVING MIN(invested_companies) != 0\n",
    "ORDER BY AVG(invested_companies) DESC, country_code\n",
    "LIMIT 10;"
   ]
  },
  {
   "cell_type": "code",
   "execution_count": null,
   "id": "d087c47f",
   "metadata": {},
   "outputs": [],
   "source": [
    "country_code\tmin\tmax\tavg\n",
    "BGR\t25\t35\t30\n",
    "CHL\t29\t29\t29\n",
    "UKR\t8\t10\t9\n",
    "LTU\t5\t5\t5\n",
    "IRL\t4\t5\t4.5\n",
    "KEN\t3\t3\t3\n",
    "LBN\t3\t3\t3\n",
    "MUS\t3\t3\t3\n",
    "JPN\t1\t6\t2.83333"
   ]
  },
  {
   "cell_type": "markdown",
   "id": "f8e22e14",
   "metadata": {},
   "source": [
    "## Задача 11.\n",
    "Отобразите имя и фамилию всех сотрудников стартапов. Добавьте поле с названием учебного заведения, которое окончил сотрудник, если эта информация известна."
   ]
  },
  {
   "cell_type": "code",
   "execution_count": null,
   "id": "5c8d9cc4",
   "metadata": {},
   "outputs": [],
   "source": [
    "SELECT p.first_name,\n",
    "       p.last_name,\n",
    "       e.instituition\n",
    "FROM people AS p\n",
    "LEFT JOIN education AS e ON p.id = e.person_id;"
   ]
  },
  {
   "cell_type": "code",
   "execution_count": null,
   "id": "bbf2c3ac",
   "metadata": {},
   "outputs": [],
   "source": [
    "first_name\tlast_name\tinstituition\n",
    "John\tGreen\tWashington University, St. Louis\n",
    "John\tGreen\tBoston University\n",
    "David\tPeters\tRice University\n",
    "Dan\tBirdwhistell\tUniversity of Cambridge\n",
    "Gal\tCohen\tTel Aviv University\n",
    "Chris\tTreadaway\tUniversity of Texas\n",
    "Chris\tTreadaway\tLouisiana State University\n",
    "Sam\tLessin\tHarvard University\n",
    "Guy\tLevy-Yurista\tUniversity of Pennsylvania - The Wharton School\n",
    "James M.\tButler\tUniversity of Maryland\n",
    "Eric\tHeikkinen\tSavannah College of Art and Design\n",
    "Valerie\tRusso\tHunter College\n",
    "Elliott\tNg\tHarvard University\n",
    "Elliott\tNg\tHavard Business School\n",
    "David\tFowler\tGustavus Adolphus College\n",
    "David\tFowler\tUniversity of Minnesota\n",
    "Poya\tGolriz\tUniversity of Maryland, CP\n",
    "Walter\tKorman\tUCSD\n",
    "Walter\tKorman\tUCSD\n",
    "Marc\tTarpenning\tUniversity of California, Berkeley"
   ]
  },
  {
   "cell_type": "markdown",
   "id": "804e35a4",
   "metadata": {},
   "source": [
    "## Задача 12.\n",
    "Для каждой компании найдите количество учебных заведений, которые окончили её сотрудники. Выведите название компании и число уникальных названий учебных заведений. Составьте топ-5 компаний по количеству университетов."
   ]
  },
  {
   "cell_type": "code",
   "execution_count": null,
   "id": "3b40ce8c",
   "metadata": {},
   "outputs": [],
   "source": [
    "SELECT c.name,\n",
    "       COUNT(DISTINCT instituition) AS instituition_count\n",
    "FROM education AS e\n",
    "INNER JOIN people AS p ON p.id = e.person_id\n",
    "INNER JOIN company AS c ON c.id = p.company_id\n",
    "GROUP BY c.name\n",
    "ORDER BY instituition_count DESC\n",
    "LIMIT 5;"
   ]
  },
  {
   "cell_type": "code",
   "execution_count": null,
   "id": "2e4a68dc",
   "metadata": {},
   "outputs": [],
   "source": [
    "name\tinstituition_count\n",
    "Google\t167\n",
    "Yahoo!\t115\n",
    "Microsoft\t111\n",
    "Knight Foundation\t74\n",
    "Comcast\t66"
   ]
  },
  {
   "cell_type": "markdown",
   "id": "0c0bb857",
   "metadata": {},
   "source": [
    "## Задача 13.\n",
    "Составьте список с уникальными названиями закрытых компаний, для которых первый раунд финансирования оказался последним."
   ]
  },
  {
   "cell_type": "code",
   "execution_count": null,
   "id": "11569bc2",
   "metadata": {},
   "outputs": [],
   "source": [
    "SELECT DISTINCT c.name\n",
    "FROM company AS c\n",
    "INNER JOIN funding_round AS f ON c.id = f.company_id\n",
    "WHERE status = 'closed'\n",
    "      AND is_first_round = 1\n",
    "      AND is_last_round = 1\n",
    "GROUP BY c.name;"
   ]
  },
  {
   "cell_type": "code",
   "execution_count": null,
   "id": "71800122",
   "metadata": {},
   "outputs": [],
   "source": [
    "name\n",
    "10BestThings\n",
    "11i Solutions\n",
    "169 ST.\n",
    "1bib\n",
    "........"
   ]
  },
  {
   "cell_type": "markdown",
   "id": "c7a8877e",
   "metadata": {},
   "source": [
    "## Задача 14.\n",
    "Составьте список уникальных номеров сотрудников, которые работают в компаниях, отобранных в предыдущем задании."
   ]
  },
  {
   "cell_type": "code",
   "execution_count": null,
   "id": "7c3bf7e5",
   "metadata": {},
   "outputs": [],
   "source": [
    "SELECT p.id\n",
    "FROM people AS p\n",
    "WHERE p.company_id IN (SELECT DISTINCT c.id\n",
    "                       FROM company AS c\n",
    "                       INNER JOIN funding_round AS f ON c.id = f.company_id\n",
    "                       WHERE status = 'closed'\n",
    "                            AND is_first_round = 1\n",
    "                            AND is_last_round = 1\n",
    "                       GROUP BY c.id);"
   ]
  },
  {
   "cell_type": "code",
   "execution_count": null,
   "id": "bae76afb",
   "metadata": {},
   "outputs": [],
   "source": [
    "id\n",
    "10000\n",
    "10053\n",
    "100690\n",
    "101946\n",
    "102056"
   ]
  },
  {
   "cell_type": "markdown",
   "id": "e0c2cced",
   "metadata": {},
   "source": [
    "## Задача 15.\n",
    "Составьте таблицу, куда войдут уникальные пары с номерами сотрудников из предыдущей задачи и учебным заведением, которое окончил сотрудник."
   ]
  },
  {
   "cell_type": "code",
   "execution_count": null,
   "id": "61dbc81a",
   "metadata": {},
   "outputs": [],
   "source": [
    "SELECT DISTINCT p.id, e.instituition\n",
    "FROM people AS p\n",
    "INNER JOIN education AS e ON p.id = e.person_id\n",
    "WHERE p.id IN (SELECT p.id\n",
    "                       FROM people AS p\n",
    "                       WHERE p.company_id IN (SELECT DISTINCT c.id\n",
    "                                    FROM company AS c\n",
    "                                    INNER JOIN funding_round AS f ON c.id = f.company_id\n",
    "                                    WHERE status = 'closed'\n",
    "                                          AND is_first_round = 1\n",
    "                                          AND is_last_round = 1\n",
    "                                    GROUP BY c.id))\n",
    "GROUP BY p.id, e.instituition;"
   ]
  },
  {
   "cell_type": "code",
   "execution_count": null,
   "id": "7c3fd9de",
   "metadata": {},
   "outputs": [],
   "source": [
    "id\tinstituition\n",
    "349\tAKI\n",
    "349\tArtEZ Hogeschool voor de Kunsten\n",
    "349\tRijks Akademie\n",
    "699\tImperial College\n",
    "779\tHarvard University\n",
    "779\tStanford University\n",
    "968\tUniversity of Notre Dame\n",
    "972\tThe University of Texas at Austin\n",
    "........."
   ]
  },
  {
   "cell_type": "markdown",
   "id": "454eadb5",
   "metadata": {},
   "source": [
    "## Задача 16.\n",
    "Посчитайте количество учебных заведений для каждого сотрудника из предыдущего задания. При подсчёте учитывайте, что некоторые сотрудники могли окончить одно и то же заведение дважды."
   ]
  },
  {
   "cell_type": "code",
   "execution_count": null,
   "id": "4a760f17",
   "metadata": {},
   "outputs": [],
   "source": [
    "SELECT p.id,\n",
    "       COUNT(e.instituition)\n",
    "FROM education AS e\n",
    "INNER JOIN people AS p ON e.person_id = p.id\n",
    "WHERE p.id IN (SELECT p.id\n",
    "                       FROM people AS p\n",
    "                       WHERE p.company_id IN (SELECT DISTINCT c.id\n",
    "                                    FROM company AS c\n",
    "                                    INNER JOIN funding_round AS f ON c.id = f.company_id\n",
    "                                    WHERE status = 'closed'\n",
    "                                          AND is_first_round = 1\n",
    "                                          AND is_last_round = 1\n",
    "                                    GROUP BY c.id))\n",
    "GROUP BY p.id;"
   ]
  },
  {
   "cell_type": "code",
   "execution_count": null,
   "id": "1fcc2012",
   "metadata": {},
   "outputs": [],
   "source": [
    "id\tcount\n",
    "349\t3\n",
    "699\t1\n",
    "779\t2\n",
    "968\t1\n",
    "........"
   ]
  },
  {
   "cell_type": "markdown",
   "id": "d031bff2",
   "metadata": {},
   "source": [
    "## Задача 17.\n",
    "Дополните предыдущий запрос и выведите среднее число учебных заведений (всех, не только уникальных), которые окончили сотрудники разных компаний. Нужно вывести только одну запись, группировка здесь не понадобится."
   ]
  },
  {
   "cell_type": "code",
   "execution_count": null,
   "id": "fa58f215",
   "metadata": {},
   "outputs": [],
   "source": [
    "WITH base AS\n",
    "(SELECT p.id,\n",
    "COUNT(e.instituition)\n",
    "FROM people AS p\n",
    "LEFT JOIN education AS e ON p.id = e.person_id\n",
    "WHERE p.company_id IN\n",
    "(SELECT c.id\n",
    "FROM company AS c\n",
    "JOIN funding_round AS fr ON c.id = fr.company_id\n",
    "WHERE STATUS ='closed'\n",
    "     AND is_first_round = 1\n",
    "     AND is_last_round = 1\n",
    "GROUP BY c.id)\n",
    "GROUP BY p.id\n",
    "HAVING COUNT(DISTINCT e.instituition) >0)\n",
    "SELECT AVG(COUNT)\n",
    "FROM base;"
   ]
  },
  {
   "cell_type": "code",
   "execution_count": null,
   "id": "0c6df98d",
   "metadata": {},
   "outputs": [],
   "source": [
    "avg\n",
    "1.41509"
   ]
  },
  {
   "cell_type": "markdown",
   "id": "91cf5393",
   "metadata": {},
   "source": [
    "## Задача 18.\n",
    "Напишите похожий запрос: выведите среднее число учебных заведений (всех, не только уникальных), которые окончили сотрудники Facebook*.\n",
    "*(сервис, запрещённый на территории РФ)"
   ]
  },
  {
   "cell_type": "code",
   "execution_count": null,
   "id": "b82997e6",
   "metadata": {},
   "outputs": [],
   "source": [
    "WITH base AS \n",
    "(SELECT p.id,\n",
    "COUNT(e.instituition)\n",
    "FROM people AS p\n",
    "RIGHT JOIN education AS e ON p.id = e.person_id\n",
    "WHERE p.company_id IN\n",
    "(SELECT id\n",
    "FROM company\n",
    "WHERE name = 'Facebook')\n",
    "GROUP BY p.id)\n",
    "SELECT AVG(COUNT)\n",
    "FROM base;"
   ]
  },
  {
   "cell_type": "code",
   "execution_count": null,
   "id": "951d0f97",
   "metadata": {},
   "outputs": [],
   "source": [
    "avg\n",
    "1.51111"
   ]
  },
  {
   "cell_type": "markdown",
   "id": "c492df19",
   "metadata": {},
   "source": [
    "## Задача 19.\n",
    "Составьте таблицу из полей:\n",
    "name_of_fund — название фонда;\n",
    "name_of_company — название компании;\n",
    "amount — сумма инвестиций, которую привлекла компания в раунде.\n",
    "В таблицу войдут данные о компаниях, в истории которых было больше шести важных этапов, а раунды финансирования проходили с 2012 по 2013 год включительно."
   ]
  },
  {
   "cell_type": "code",
   "execution_count": null,
   "id": "c92819f2",
   "metadata": {},
   "outputs": [],
   "source": [
    "SELECT f.name AS name_of_fund,\n",
    "       c.name AS name_of_company,\n",
    "       fr.raised_amount AS amount\n",
    "FROM investment AS i\n",
    "LEFT JOIN company AS c ON i.company_id = c.id\n",
    "LEFT JOIN fund AS f ON f.id = i.fund_id\n",
    "LEFT JOIN funding_round AS fr ON fr.id = i.funding_round_id\n",
    "WHERE c.milestones > 6\n",
    "     AND funded_at BETWEEN '2012-01-01' AND '2013-12-31';"
   ]
  },
  {
   "cell_type": "code",
   "execution_count": null,
   "id": "523ae67a",
   "metadata": {},
   "outputs": [],
   "source": [
    "name_of_fund\tname_of_company\tamount\n",
    "Advance Publication\tGigya\t1.53e+07\n",
    "Mayfield Fund\tGigya\t1.53e+07\n",
    "Benchmark\tGigya\t1.53e+07\n",
    "DAG Ventures\tGigya\t1.53e+07\n",
    "......................."
   ]
  },
  {
   "cell_type": "markdown",
   "id": "18dac0d8",
   "metadata": {},
   "source": [
    "## Задача 20.\n",
    "Выгрузите таблицу, в которой будут такие поля:\n",
    "название компании-покупателя;\n",
    "сумма сделки;\n",
    "название компании, которую купили;\n",
    "сумма инвестиций, вложенных в купленную компанию;\n",
    "доля, которая отображает, во сколько раз сумма покупки превысила сумму вложенных в компанию инвестиций, округлённая до ближайшего целого числа.\n",
    "Не учитывайте те сделки, в которых сумма покупки равна нулю. Если сумма инвестиций в компанию равна нулю, исключите такую компанию из таблицы. \n",
    "Отсортируйте таблицу по сумме сделки от большей к меньшей, а затем по названию купленной компании в лексикографическом порядке. Ограничьте таблицу первыми десятью записями."
   ]
  },
  {
   "cell_type": "code",
   "execution_count": null,
   "id": "4ad2f70e",
   "metadata": {},
   "outputs": [],
   "source": [
    "SELECT company_buyer.name AS company_buyer,\n",
    "       a.price_amount,\n",
    "       company_product.name AS company_product,\n",
    "       company_product.funding_total,\n",
    "       ROUND(a.price_amount/company_product.funding_total) AS fraction\n",
    "FROM acquisition AS a\n",
    "LEFT JOIN company AS company_buyer ON a.acquiring_company_id = company_buyer.id\n",
    "LEFT JOIN company AS company_product ON a.acquired_company_id = company_product.id\n",
    "WHERE company_product.funding_total !=0\n",
    "      AND a.price_amount !=0\n",
    "ORDER BY a.price_amount DESC, company_product\n",
    "LIMIT 10;"
   ]
  },
  {
   "cell_type": "code",
   "execution_count": null,
   "id": "16e5f68e",
   "metadata": {},
   "outputs": [],
   "source": [
    "company_buyer\tprice_amount\tcompany_product\tfunding_total\tfraction\n",
    "Microsoft\t8.5e+09\tSkype\t7.6805e+07\t111\n",
    "Scout Labs\t4.9e+09\tVarian Semiconductor Equipment Associates\t4.8e+06\t1021\n",
    "Broadcom\t3.7e+09\tAeluros\t7.97e+06\t464\n",
    "Broadcom\t3.7e+09\tNetLogic Microsystems\t1.88527e+08\t20"
   ]
  },
  {
   "cell_type": "markdown",
   "id": "5271da0a",
   "metadata": {},
   "source": [
    "## Задача 21.\n",
    "Выгрузите таблицу, в которую войдут названия компаний из категории social, получившие финансирование с 2010 по 2013 год включительно. Проверьте, что сумма инвестиций не равна нулю. Выведите также номер месяца, в котором проходил раунд финансирования."
   ]
  },
  {
   "cell_type": "code",
   "execution_count": null,
   "id": "5fb36fab",
   "metadata": {},
   "outputs": [],
   "source": [
    "SELECT c.name,\n",
    "       EXTRACT(MONTH FROM funded_at) AS month_round\n",
    "FROM company AS c\n",
    "LEFT JOIN funding_round AS fr ON fr.company_id = c.id\n",
    "WHERE category_code = 'social'\n",
    "      AND fr.funded_at BETWEEN '2010-01-01' AND '2013-12-31'\n",
    "      AND fr.raised_amount != 0;"
   ]
  },
  {
   "cell_type": "code",
   "execution_count": null,
   "id": "9a8c679a",
   "metadata": {},
   "outputs": [],
   "source": [
    "name\tmonth_round\n",
    "Klout\t1\n",
    "WorkSimple\t3\n",
    "HengZhi\t1\n",
    "Twitter\t1\n",
    ".........."
   ]
  },
  {
   "cell_type": "markdown",
   "id": "a75dab59",
   "metadata": {},
   "source": [
    "## Задача 22.\n",
    "Отберите данные по месяцам с 2010 по 2013 год, когда проходили инвестиционные раунды. Сгруппируйте данные по номеру месяца и получите таблицу, в которой будут поля:\n",
    "номер месяца, в котором проходили раунды;\n",
    "количество уникальных названий фондов из США, которые инвестировали в этом месяце;\n",
    "количество компаний, купленных за этот месяц;\n",
    "общая сумма сделок по покупкам в этом месяце."
   ]
  },
  {
   "cell_type": "code",
   "execution_count": null,
   "id": "dc6e4f92",
   "metadata": {},
   "outputs": [],
   "source": [
    "WITH \n",
    "fundings AS\n",
    "(SELECT EXTRACT(MONTH FROM CAST(fr.funded_at AS DATE)) AS funding_month,\n",
    "        COUNT(DISTINCT f.id) AS us_funds\n",
    "        FROM fund AS f\n",
    "        LEFT JOIN investment AS i ON f.id = i.fund_id\n",
    "        LEFT JOIN funding_round AS fr ON i.funding_round_id = fr.id\n",
    "        WHERE f.country_code = 'USA'\n",
    "        AND EXTRACT(YEAR FROM CAST(fr.funded_at AS DATE)) BETWEEN 2010 AND 2013\n",
    "        GROUP BY funding_month),\n",
    "acquisitions AS\n",
    "(SELECT EXTRACT(MONTH FROM CAST(acquired_at AS DATE)) AS funding_month,\n",
    "        COUNT(acquired_company_id) AS bought_co,\n",
    "        SUM(price_amount) AS sum_total\n",
    "        FROM acquisition\n",
    "        WHERE EXTRACT(YEAR FROM CAST(acquired_at AS DATE)) BETWEEN 2010 AND 2013\n",
    "        GROUP BY funding_month)\n",
    "SELECT fnd.funding_month, fnd.us_funds, acq.bought_co, acq.sum_total\n",
    "FROM fundings AS fnd\n",
    "LEFT JOIN acquisitions AS acq ON fnd.funding_month = acq.funding_month;"
   ]
  },
  {
   "cell_type": "code",
   "execution_count": null,
   "id": "fd3d619b",
   "metadata": {},
   "outputs": [],
   "source": [
    "funding_month\tus_funds\tbought_co\tsum_total\n",
    "1\t815\t600\t2.71083e+10\n",
    "2\t637\t418\t4.13903e+10\n",
    "3\t695\t458\t5.95016e+10"
   ]
  },
  {
   "cell_type": "markdown",
   "id": "35efb40c",
   "metadata": {},
   "source": [
    "## Задача 23.\n",
    "Составьте сводную таблицу и выведите среднюю сумму инвестиций для стран, в которых есть стартапы, зарегистрированные в 2011, 2012 и 2013 годах. Данные за каждый год должны быть в отдельном поле. Отсортируйте таблицу по среднему значению инвестиций за 2011 год от большего к меньшему."
   ]
  },
  {
   "cell_type": "code",
   "execution_count": null,
   "id": "6c1b5612",
   "metadata": {},
   "outputs": [],
   "source": [
    "WITH y_11 AS\n",
    "(SELECT country_code AS country,\n",
    "        AVG(funding_total) AS y_2011\n",
    "        FROM company\n",
    "        WHERE EXTRACT(YEAR FROM founded_at::DATE) IN(2011, 2012, 2013)\n",
    "        GROUP BY country, EXTRACT(YEAR FROM founded_at)\n",
    "        HAVING EXTRACT(YEAR FROM founded_at) = '2011'),\n",
    "y_12 AS\n",
    "(SELECT country_code AS country,\n",
    "        AVG(funding_total) AS y_2012\n",
    "        FROM company\n",
    "        WHERE EXTRACT(YEAR FROM founded_at::DATE) IN(2011, 2012, 2013)\n",
    "        GROUP BY country, EXTRACT(YEAR FROM founded_at)\n",
    "        HAVING EXTRACT(YEAR FROM founded_at) = '2012'),\n",
    "y_13 AS\n",
    "(SELECT country_code AS country,\n",
    "        AVG(funding_total) AS y_2013\n",
    "        FROM company\n",
    "        WHERE EXTRACT(YEAR FROM founded_at::DATE) IN(2011, 2012, 2013)\n",
    "        GROUP BY country, EXTRACT(YEAR FROM founded_at)\n",
    "        HAVING EXTRACT(YEAR FROM founded_at) = '2013')\n",
    "SELECT y_11.country, y_2011, y_2012, y_2013\n",
    "FROM y_11\n",
    "JOIN y_12 ON y_11.country = y_12.country\n",
    "JOIN y_13 ON y_12.country = y_13.country\n",
    "ORDER BY y_2011 DESC;"
   ]
  },
  {
   "cell_type": "code",
   "execution_count": null,
   "id": "2f94bddd",
   "metadata": {},
   "outputs": [],
   "source": [
    "country\ty_2011\ty_2012\ty_2013\n",
    "PER\t4e+06\t41000\t25000\n",
    "USA\t2.24396e+06\t1.20671e+06\t1.09336e+06"
   ]
  }
 ],
 "metadata": {
  "kernelspec": {
   "display_name": "Python 3 (ipykernel)",
   "language": "python",
   "name": "python3"
  },
  "language_info": {
   "codemirror_mode": {
    "name": "ipython",
    "version": 3
   },
   "file_extension": ".py",
   "mimetype": "text/x-python",
   "name": "python",
   "nbconvert_exporter": "python",
   "pygments_lexer": "ipython3",
   "version": "3.9.13"
  }
 },
 "nbformat": 4,
 "nbformat_minor": 5
}
