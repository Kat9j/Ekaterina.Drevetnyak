{
 "cells": [
  {
   "cell_type": "markdown",
   "metadata": {},
   "source": [
    "# Описание проекта. Постановка цели, задачи, ход исследования."
   ]
  },
  {
   "cell_type": "markdown",
   "metadata": {},
   "source": [
    "Аналитиком крупного интернет-магазина совместно с отделом маркетинга был подготовлен список гипотез **для увеличения выручки**.<br>\n",
    "Нам предстоит приоритизировать гипотезы для запуска А/Б теста, и **выбрать лучшую гипотезу, запустить A/B-тест и проанализировать результаты**, а так же принять решение о продолжении или завершении теста."
   ]
  },
  {
   "cell_type": "markdown",
   "metadata": {},
   "source": [
    "**Ход исследования:**    "
   ]
  },
  {
   "cell_type": "markdown",
   "metadata": {},
   "source": [
    "Часть 1. Приоритизация гипотез.<br>\n",
    "В файле /datasets/hypothesis.csv 9 гипотез по увеличению выручки интернет-магазина с указанными параметрами Reach, Impact, Confidence, Effort.\n",
    "\n",
    "Задача\n",
    "* Применим фреймворк ICE для приоритизации гипотез. Отсортируем их по убыванию приоритета.\n",
    "* Применим фреймворк RICE для приоритизации гипотез. Отсортируем их по убыванию приоритета.\n",
    "* Выясним, как изменилась приоритизация гипотез при применении RICE вместо ICE. Объясним, почему так произошло.\n",
    "\n",
    "Часть 2. Анализ A/B-теста<br>\n",
    "Проведён A/B-тест и получены результаты, которые описаны в файлах /datasets/orders.csv и /datasets/visitors.csv.\n",
    "\n",
    "Задача\n",
    "Проанализируем A/B-тест:\n",
    "* Построим график кумулятивной выручки по группам. Сделаем выводы и предположения.\n",
    "* Построим график кумулятивного среднего чека по группам. Сделаем выводы и предположения.\n",
    "* Построим график относительного изменения кумулятивного среднего чека группы B к группе A. Сделаем выводы и предположения.\n",
    "* Построим график кумулятивного среднего количества заказов на посетителя по группам. Сделаем выводы и предположения.\n",
    "* Построим график относительного изменения кумулятивного среднего количества заказов на посетителя группы B к группе A. Сделаем выводы и предположения.\n",
    "* Построим точечный график количества заказов по пользователям. Сделаем выводы и предположения.\n",
    "* Посчитаем 95-й и 99-й перцентили количества заказов на пользователя. Выберите границу для определения аномальных пользователей.\n",
    "* Построим точечный график стоимостей заказов. Сделаем выводы и предположения.\n",
    "* Посчитаем 95-й и 99-й перцентили стоимости заказов. Выберите границу для определения аномальных заказов.\n",
    "* Посчитаем статистическую значимость различий в среднем количестве заказов на посетителя между группами по «сырым» данным. Сделаем выводы и предположения.\n",
    "* Посчитаем статистическую значимость различий в среднем чеке заказа между группами по «сырым» данным. Сделаем выводы и предположения.\n",
    "* Посчитаем статистическую значимость различий в среднем количестве заказов на посетителя между группами по «очищенным» данным. Сделаем выводы и предположения.\n",
    "* Посчитаем статистическую значимость различий в среднем чеке заказа между группами по «очищенным» данным. Сделаем выводы и предположения.\n",
    "\n",
    "Примем одно из решений по результатам теста и объясним его. Варианты возможных решений:\n",
    "1. Остановить тест, зафиксировать победу одной из групп.\n",
    "2. Остановить тест, зафиксировать отсутствие различий между группами.\n",
    "3. Продолжить тест."
   ]
  },
  {
   "cell_type": "markdown",
   "metadata": {},
   "source": [
    "## Описание данных"
   ]
  },
  {
   "cell_type": "markdown",
   "metadata": {},
   "source": [
    "В нашем распоряжении три датасета: <br>\n",
    "\n",
    "- В файле /datasets/hypothesis.csv 9 гипотез по увеличению выручки интернет-магазина с указанными параметрами Reach, Impact, Confidence, Effort. <br>\n",
    "  Структура: <br>\n",
    "  * Hypothesis — краткое описание гипотезы;\n",
    "  * Reach — охват пользователей по 10-балльной шкале;\n",
    "  * Impact — влияние на пользователей по 10-балльной шкале;\n",
    "  * Confidence — уверенность в гипотезе по 10-балльной шкале;\n",
    "  * Efforts — затраты ресурсов на проверку гипотезы по 10-балльной шкале. Чем больше значение Efforts, тем дороже проверка гипотезы.\n",
    "  \n",
    "- В файле /datasets/orders.csv - результаты проведения А/Б теста, информация о заказах.<br>\n",
    "  Структура:<br>\n",
    "  * transactionId — идентификатор заказа;\n",
    "  * visitorId — идентификатор пользователя, совершившего заказ;\n",
    "  * date — дата, когда был совершён заказ;\n",
    "  * revenue — выручка заказа;\n",
    "  * group — группа A/B-теста, в которую попал заказ.\n",
    "  \n",
    "- В файле /datasets/visitors.csv - результаты проведения А/Б теста, информация о визитах.<br>\n",
    "  Структура:<br>\n",
    "  * date — дата;\n",
    "  * group — группа A/B-теста;\n",
    "  * visitors — количество пользователей в указанную дату в указанной группе A/B-теста"
   ]
  },
  {
   "cell_type": "markdown",
   "metadata": {},
   "source": [
    "### Загрузка данных и подготовка к анализу"
   ]
  },
  {
   "cell_type": "markdown",
   "metadata": {},
   "source": [
    "Изучим данные и выполним предобработку. Проверим есть ли в данных пропуски и дубликаты. Убедимся, что типы данных во всех колонках соответствуют сохранённым в них значениям."
   ]
  },
  {
   "cell_type": "code",
   "execution_count": 1,
   "metadata": {},
   "outputs": [],
   "source": [
    "# Импортируем библиотеки Pandas\n",
    "import pandas as pd\n",
    "import matplotlib.pyplot as plt\n",
    "from scipy import stats as st\n",
    "import numpy as np\n",
    "import plotly\n",
    "from datetime import datetime, timedelta\n",
    "import datetime as dt\n",
    "import math as mth\n",
    "from pandas.plotting import register_matplotlib_converters\n",
    "import scipy.stats as stats\n",
    "\n",
    "# отображать все столбцы датасета    \n",
    "pd.set_option('display.max_columns', None)\n",
    "\n",
    "# отображать все символы в полях\n",
    "pd.set_option('display.max_colwidth', None)"
   ]
  },
  {
   "cell_type": "code",
   "execution_count": 2,
   "metadata": {},
   "outputs": [
    {
     "data": {
      "text/html": [
       "<div>\n",
       "<style scoped>\n",
       "    .dataframe tbody tr th:only-of-type {\n",
       "        vertical-align: middle;\n",
       "    }\n",
       "\n",
       "    .dataframe tbody tr th {\n",
       "        vertical-align: top;\n",
       "    }\n",
       "\n",
       "    .dataframe thead th {\n",
       "        text-align: right;\n",
       "    }\n",
       "</style>\n",
       "<table border=\"1\" class=\"dataframe\">\n",
       "  <thead>\n",
       "    <tr style=\"text-align: right;\">\n",
       "      <th></th>\n",
       "      <th>Hypothesis</th>\n",
       "      <th>Reach</th>\n",
       "      <th>Impact</th>\n",
       "      <th>Confidence</th>\n",
       "      <th>Efforts</th>\n",
       "    </tr>\n",
       "  </thead>\n",
       "  <tbody>\n",
       "    <tr>\n",
       "      <th>0</th>\n",
       "      <td>Добавить два новых канала привлечения трафика, что позволит привлекать на 30% больше пользователей</td>\n",
       "      <td>3</td>\n",
       "      <td>10</td>\n",
       "      <td>8</td>\n",
       "      <td>6</td>\n",
       "    </tr>\n",
       "    <tr>\n",
       "      <th>1</th>\n",
       "      <td>Запустить собственную службу доставки, что сократит срок доставки заказов</td>\n",
       "      <td>2</td>\n",
       "      <td>5</td>\n",
       "      <td>4</td>\n",
       "      <td>10</td>\n",
       "    </tr>\n",
       "    <tr>\n",
       "      <th>2</th>\n",
       "      <td>Добавить блоки рекомендаций товаров на сайт интернет магазина, чтобы повысить конверсию и средний чек заказа</td>\n",
       "      <td>8</td>\n",
       "      <td>3</td>\n",
       "      <td>7</td>\n",
       "      <td>3</td>\n",
       "    </tr>\n",
       "    <tr>\n",
       "      <th>3</th>\n",
       "      <td>Изменить структура категорий, что увеличит конверсию, т.к. пользователи быстрее найдут нужный товар</td>\n",
       "      <td>8</td>\n",
       "      <td>3</td>\n",
       "      <td>3</td>\n",
       "      <td>8</td>\n",
       "    </tr>\n",
       "    <tr>\n",
       "      <th>4</th>\n",
       "      <td>Изменить цвет фона главной страницы, чтобы увеличить вовлеченность пользователей</td>\n",
       "      <td>3</td>\n",
       "      <td>1</td>\n",
       "      <td>1</td>\n",
       "      <td>1</td>\n",
       "    </tr>\n",
       "    <tr>\n",
       "      <th>5</th>\n",
       "      <td>Добавить страницу отзывов клиентов о магазине, что позволит увеличить количество заказов</td>\n",
       "      <td>3</td>\n",
       "      <td>2</td>\n",
       "      <td>2</td>\n",
       "      <td>3</td>\n",
       "    </tr>\n",
       "    <tr>\n",
       "      <th>6</th>\n",
       "      <td>Показать на главной странице баннеры с актуальными акциями и распродажами, чтобы увеличить конверсию</td>\n",
       "      <td>5</td>\n",
       "      <td>3</td>\n",
       "      <td>8</td>\n",
       "      <td>3</td>\n",
       "    </tr>\n",
       "    <tr>\n",
       "      <th>7</th>\n",
       "      <td>Добавить форму подписки на все основные страницы, чтобы собрать базу клиентов для email-рассылок</td>\n",
       "      <td>10</td>\n",
       "      <td>7</td>\n",
       "      <td>8</td>\n",
       "      <td>5</td>\n",
       "    </tr>\n",
       "    <tr>\n",
       "      <th>8</th>\n",
       "      <td>Запустить акцию, дающую скидку на товар в день рождения</td>\n",
       "      <td>1</td>\n",
       "      <td>9</td>\n",
       "      <td>9</td>\n",
       "      <td>5</td>\n",
       "    </tr>\n",
       "  </tbody>\n",
       "</table>\n",
       "</div>"
      ],
      "text/plain": [
       "                                                                                                     Hypothesis  \\\n",
       "0            Добавить два новых канала привлечения трафика, что позволит привлекать на 30% больше пользователей   \n",
       "1                                     Запустить собственную службу доставки, что сократит срок доставки заказов   \n",
       "2  Добавить блоки рекомендаций товаров на сайт интернет магазина, чтобы повысить конверсию и средний чек заказа   \n",
       "3           Изменить структура категорий, что увеличит конверсию, т.к. пользователи быстрее найдут нужный товар   \n",
       "4                              Изменить цвет фона главной страницы, чтобы увеличить вовлеченность пользователей   \n",
       "5                      Добавить страницу отзывов клиентов о магазине, что позволит увеличить количество заказов   \n",
       "6          Показать на главной странице баннеры с актуальными акциями и распродажами, чтобы увеличить конверсию   \n",
       "7              Добавить форму подписки на все основные страницы, чтобы собрать базу клиентов для email-рассылок   \n",
       "8                                                       Запустить акцию, дающую скидку на товар в день рождения   \n",
       "\n",
       "   Reach  Impact  Confidence  Efforts  \n",
       "0      3      10           8        6  \n",
       "1      2       5           4       10  \n",
       "2      8       3           7        3  \n",
       "3      8       3           3        8  \n",
       "4      3       1           1        1  \n",
       "5      3       2           2        3  \n",
       "6      5       3           8        3  \n",
       "7     10       7           8        5  \n",
       "8      1       9           9        5  "
      ]
     },
     "execution_count": 2,
     "metadata": {},
     "output_type": "execute_result"
    }
   ],
   "source": [
    "# Cчитываем данные из csv-файла datasets/hypothesis.csv в датафрейм и сохраняем в переменную 'hypothesis'\n",
    "\n",
    "try:\n",
    "    hypothesis = pd.read_csv('C:\\\\Users\\\\Александр\\\\Downloads\\\\hypothesis.csv')\n",
    "except:\n",
    "    hypothesis = pd.read_csv('https://code.s3.yandex.net/datasets/hypothesis.csv')\n",
    "    \n",
    "# Выводим на экран первые 10 строк\n",
    "hypothesis.head(10)"
   ]
  },
  {
   "cell_type": "code",
   "execution_count": 3,
   "metadata": {},
   "outputs": [],
   "source": [
    "# Исправим название столбца, приведем к нижнему регистру \n",
    "hypothesis = hypothesis.rename(columns={'Hypothesis':'hypothesis', 'Reach':'reach', \\\n",
    "                                        'Impact':'impact', 'Confidence':'confidence', 'Efforts':'efforts'})"
   ]
  },
  {
   "cell_type": "code",
   "execution_count": 4,
   "metadata": {},
   "outputs": [
    {
     "data": {
      "text/html": [
       "<div>\n",
       "<style scoped>\n",
       "    .dataframe tbody tr th:only-of-type {\n",
       "        vertical-align: middle;\n",
       "    }\n",
       "\n",
       "    .dataframe tbody tr th {\n",
       "        vertical-align: top;\n",
       "    }\n",
       "\n",
       "    .dataframe thead th {\n",
       "        text-align: right;\n",
       "    }\n",
       "</style>\n",
       "<table border=\"1\" class=\"dataframe\">\n",
       "  <thead>\n",
       "    <tr style=\"text-align: right;\">\n",
       "      <th></th>\n",
       "      <th>transactionId</th>\n",
       "      <th>visitorId</th>\n",
       "      <th>date</th>\n",
       "      <th>revenue</th>\n",
       "      <th>group</th>\n",
       "    </tr>\n",
       "  </thead>\n",
       "  <tbody>\n",
       "    <tr>\n",
       "      <th>0</th>\n",
       "      <td>3667963787</td>\n",
       "      <td>3312258926</td>\n",
       "      <td>2019-08-15</td>\n",
       "      <td>1650</td>\n",
       "      <td>B</td>\n",
       "    </tr>\n",
       "    <tr>\n",
       "      <th>1</th>\n",
       "      <td>2804400009</td>\n",
       "      <td>3642806036</td>\n",
       "      <td>2019-08-15</td>\n",
       "      <td>730</td>\n",
       "      <td>B</td>\n",
       "    </tr>\n",
       "    <tr>\n",
       "      <th>2</th>\n",
       "      <td>2961555356</td>\n",
       "      <td>4069496402</td>\n",
       "      <td>2019-08-15</td>\n",
       "      <td>400</td>\n",
       "      <td>A</td>\n",
       "    </tr>\n",
       "    <tr>\n",
       "      <th>3</th>\n",
       "      <td>3797467345</td>\n",
       "      <td>1196621759</td>\n",
       "      <td>2019-08-15</td>\n",
       "      <td>9759</td>\n",
       "      <td>B</td>\n",
       "    </tr>\n",
       "    <tr>\n",
       "      <th>4</th>\n",
       "      <td>2282983706</td>\n",
       "      <td>2322279887</td>\n",
       "      <td>2019-08-15</td>\n",
       "      <td>2308</td>\n",
       "      <td>B</td>\n",
       "    </tr>\n",
       "    <tr>\n",
       "      <th>5</th>\n",
       "      <td>182168103</td>\n",
       "      <td>935554773</td>\n",
       "      <td>2019-08-15</td>\n",
       "      <td>2210</td>\n",
       "      <td>B</td>\n",
       "    </tr>\n",
       "    <tr>\n",
       "      <th>6</th>\n",
       "      <td>398296753</td>\n",
       "      <td>2900797465</td>\n",
       "      <td>2019-08-15</td>\n",
       "      <td>1860</td>\n",
       "      <td>B</td>\n",
       "    </tr>\n",
       "    <tr>\n",
       "      <th>7</th>\n",
       "      <td>2626614568</td>\n",
       "      <td>78758296</td>\n",
       "      <td>2019-08-15</td>\n",
       "      <td>1044</td>\n",
       "      <td>A</td>\n",
       "    </tr>\n",
       "    <tr>\n",
       "      <th>8</th>\n",
       "      <td>1576988021</td>\n",
       "      <td>295230930</td>\n",
       "      <td>2019-08-15</td>\n",
       "      <td>13710</td>\n",
       "      <td>A</td>\n",
       "    </tr>\n",
       "    <tr>\n",
       "      <th>9</th>\n",
       "      <td>1506739906</td>\n",
       "      <td>1882260405</td>\n",
       "      <td>2019-08-15</td>\n",
       "      <td>1855</td>\n",
       "      <td>B</td>\n",
       "    </tr>\n",
       "  </tbody>\n",
       "</table>\n",
       "</div>"
      ],
      "text/plain": [
       "   transactionId   visitorId        date  revenue group\n",
       "0     3667963787  3312258926  2019-08-15     1650     B\n",
       "1     2804400009  3642806036  2019-08-15      730     B\n",
       "2     2961555356  4069496402  2019-08-15      400     A\n",
       "3     3797467345  1196621759  2019-08-15     9759     B\n",
       "4     2282983706  2322279887  2019-08-15     2308     B\n",
       "5      182168103   935554773  2019-08-15     2210     B\n",
       "6      398296753  2900797465  2019-08-15     1860     B\n",
       "7     2626614568    78758296  2019-08-15     1044     A\n",
       "8     1576988021   295230930  2019-08-15    13710     A\n",
       "9     1506739906  1882260405  2019-08-15     1855     B"
      ]
     },
     "execution_count": 4,
     "metadata": {},
     "output_type": "execute_result"
    }
   ],
   "source": [
    "# Cчитываем данные из csv-файла datasets/orders.csv в датафрейм и сохраняем в переменную 'orders'\n",
    "\n",
    "try:\n",
    "    orders = pd.read_csv('C:\\\\Users\\\\Александр\\\\Downloads\\\\orders.csv')\n",
    "except:\n",
    "    orders = pd.read_csv('https://code.s3.yandex.net/datasets/orders.csv')\n",
    "    \n",
    "# Выводим на экран первые 10 строк\n",
    "orders.head(10)"
   ]
  },
  {
   "cell_type": "code",
   "execution_count": 5,
   "metadata": {},
   "outputs": [
    {
     "name": "stdout",
     "output_type": "stream",
     "text": [
      "<class 'pandas.core.frame.DataFrame'>\n",
      "RangeIndex: 1197 entries, 0 to 1196\n",
      "Data columns (total 5 columns):\n",
      " #   Column         Non-Null Count  Dtype \n",
      "---  ------         --------------  ----- \n",
      " 0   transactionId  1197 non-null   int64 \n",
      " 1   visitorId      1197 non-null   int64 \n",
      " 2   date           1197 non-null   object\n",
      " 3   revenue        1197 non-null   int64 \n",
      " 4   group          1197 non-null   object\n",
      "dtypes: int64(3), object(2)\n",
      "memory usage: 46.9+ KB\n"
     ]
    }
   ],
   "source": [
    "# Выведим основную информацию о датафрейме с помощью метода info()\n",
    "orders.info()"
   ]
  },
  {
   "cell_type": "markdown",
   "metadata": {},
   "source": [
    "Видим, что поле дата имеет неверный тип данных, приведем столбец к нужному типу данных."
   ]
  },
  {
   "cell_type": "code",
   "execution_count": 6,
   "metadata": {},
   "outputs": [],
   "source": [
    "# Приведем столбец с датами в нужный тип\n",
    "orders['date'] = pd.to_datetime(orders['date'])"
   ]
  },
  {
   "cell_type": "code",
   "execution_count": 7,
   "metadata": {},
   "outputs": [],
   "source": [
    "# Исправим название столбцов, приведем к змеиному типу \n",
    "orders = orders.rename(columns={'transactionId':'transaction_id', 'visitorId':'visitor_id'})"
   ]
  },
  {
   "cell_type": "code",
   "execution_count": 8,
   "metadata": {},
   "outputs": [
    {
     "data": {
      "text/html": [
       "<style  type=\"text/css\" >\n",
       "#T_382bc_row0_col0,#T_382bc_row1_col0,#T_382bc_row2_col0,#T_382bc_row3_col0,#T_382bc_row4_col0{\n",
       "            background-color:  #3b4cc0;\n",
       "            color:  #f1f1f1;\n",
       "        }</style><table id=\"T_382bc_\" ><thead>    <tr>        <th class=\"blank level0\" ></th>        <th class=\"col_heading level0 col0\" >0</th>    </tr></thead><tbody>\n",
       "                <tr>\n",
       "                        <th id=\"T_382bc_level0_row0\" class=\"row_heading level0 row0\" >transaction_id</th>\n",
       "                        <td id=\"T_382bc_row0_col0\" class=\"data row0 col0\" >0.000000</td>\n",
       "            </tr>\n",
       "            <tr>\n",
       "                        <th id=\"T_382bc_level0_row1\" class=\"row_heading level0 row1\" >visitor_id</th>\n",
       "                        <td id=\"T_382bc_row1_col0\" class=\"data row1 col0\" >0.000000</td>\n",
       "            </tr>\n",
       "            <tr>\n",
       "                        <th id=\"T_382bc_level0_row2\" class=\"row_heading level0 row2\" >date</th>\n",
       "                        <td id=\"T_382bc_row2_col0\" class=\"data row2 col0\" >0.000000</td>\n",
       "            </tr>\n",
       "            <tr>\n",
       "                        <th id=\"T_382bc_level0_row3\" class=\"row_heading level0 row3\" >revenue</th>\n",
       "                        <td id=\"T_382bc_row3_col0\" class=\"data row3 col0\" >0.000000</td>\n",
       "            </tr>\n",
       "            <tr>\n",
       "                        <th id=\"T_382bc_level0_row4\" class=\"row_heading level0 row4\" >group</th>\n",
       "                        <td id=\"T_382bc_row4_col0\" class=\"data row4 col0\" >0.000000</td>\n",
       "            </tr>\n",
       "    </tbody></table>"
      ],
      "text/plain": [
       "<pandas.io.formats.style.Styler at 0x7fa167dd5670>"
      ]
     },
     "execution_count": 8,
     "metadata": {},
     "output_type": "execute_result"
    }
   ],
   "source": [
    "# Проверим наличие пропусков в информации\n",
    "pd.DataFrame(round(orders.isna().mean()*100,1)).style.background_gradient('coolwarm')"
   ]
  },
  {
   "cell_type": "code",
   "execution_count": 9,
   "metadata": {},
   "outputs": [
    {
     "data": {
      "text/plain": [
       "0"
      ]
     },
     "execution_count": 9,
     "metadata": {},
     "output_type": "execute_result"
    }
   ],
   "source": [
    "# Поиск полных дубликатов\n",
    "orders.duplicated().sum()"
   ]
  },
  {
   "cell_type": "code",
   "execution_count": 10,
   "metadata": {},
   "outputs": [
    {
     "data": {
      "text/plain": [
       "Timestamp('2019-08-01 00:00:00')"
      ]
     },
     "execution_count": 10,
     "metadata": {},
     "output_type": "execute_result"
    }
   ],
   "source": [
    "# Минимальное значение дата заказа\n",
    "orders['date'].min()"
   ]
  },
  {
   "cell_type": "code",
   "execution_count": 11,
   "metadata": {},
   "outputs": [
    {
     "data": {
      "text/plain": [
       "Timestamp('2019-08-31 00:00:00')"
      ]
     },
     "execution_count": 11,
     "metadata": {},
     "output_type": "execute_result"
    }
   ],
   "source": [
    "# Максимальное значение дата заказа\n",
    "orders['date'].max()"
   ]
  },
  {
   "cell_type": "code",
   "execution_count": 12,
   "metadata": {},
   "outputs": [
    {
     "data": {
      "text/html": [
       "<div>\n",
       "<style scoped>\n",
       "    .dataframe tbody tr th:only-of-type {\n",
       "        vertical-align: middle;\n",
       "    }\n",
       "\n",
       "    .dataframe tbody tr th {\n",
       "        vertical-align: top;\n",
       "    }\n",
       "\n",
       "    .dataframe thead th {\n",
       "        text-align: right;\n",
       "    }\n",
       "</style>\n",
       "<table border=\"1\" class=\"dataframe\">\n",
       "  <thead>\n",
       "    <tr style=\"text-align: right;\">\n",
       "      <th></th>\n",
       "      <th>date</th>\n",
       "      <th>group</th>\n",
       "      <th>visitors</th>\n",
       "    </tr>\n",
       "  </thead>\n",
       "  <tbody>\n",
       "    <tr>\n",
       "      <th>0</th>\n",
       "      <td>2019-08-01</td>\n",
       "      <td>A</td>\n",
       "      <td>719</td>\n",
       "    </tr>\n",
       "    <tr>\n",
       "      <th>1</th>\n",
       "      <td>2019-08-02</td>\n",
       "      <td>A</td>\n",
       "      <td>619</td>\n",
       "    </tr>\n",
       "    <tr>\n",
       "      <th>2</th>\n",
       "      <td>2019-08-03</td>\n",
       "      <td>A</td>\n",
       "      <td>507</td>\n",
       "    </tr>\n",
       "    <tr>\n",
       "      <th>3</th>\n",
       "      <td>2019-08-04</td>\n",
       "      <td>A</td>\n",
       "      <td>717</td>\n",
       "    </tr>\n",
       "    <tr>\n",
       "      <th>4</th>\n",
       "      <td>2019-08-05</td>\n",
       "      <td>A</td>\n",
       "      <td>756</td>\n",
       "    </tr>\n",
       "    <tr>\n",
       "      <th>5</th>\n",
       "      <td>2019-08-06</td>\n",
       "      <td>A</td>\n",
       "      <td>667</td>\n",
       "    </tr>\n",
       "    <tr>\n",
       "      <th>6</th>\n",
       "      <td>2019-08-07</td>\n",
       "      <td>A</td>\n",
       "      <td>644</td>\n",
       "    </tr>\n",
       "    <tr>\n",
       "      <th>7</th>\n",
       "      <td>2019-08-08</td>\n",
       "      <td>A</td>\n",
       "      <td>610</td>\n",
       "    </tr>\n",
       "    <tr>\n",
       "      <th>8</th>\n",
       "      <td>2019-08-09</td>\n",
       "      <td>A</td>\n",
       "      <td>617</td>\n",
       "    </tr>\n",
       "    <tr>\n",
       "      <th>9</th>\n",
       "      <td>2019-08-10</td>\n",
       "      <td>A</td>\n",
       "      <td>406</td>\n",
       "    </tr>\n",
       "  </tbody>\n",
       "</table>\n",
       "</div>"
      ],
      "text/plain": [
       "         date group  visitors\n",
       "0  2019-08-01     A       719\n",
       "1  2019-08-02     A       619\n",
       "2  2019-08-03     A       507\n",
       "3  2019-08-04     A       717\n",
       "4  2019-08-05     A       756\n",
       "5  2019-08-06     A       667\n",
       "6  2019-08-07     A       644\n",
       "7  2019-08-08     A       610\n",
       "8  2019-08-09     A       617\n",
       "9  2019-08-10     A       406"
      ]
     },
     "execution_count": 12,
     "metadata": {},
     "output_type": "execute_result"
    }
   ],
   "source": [
    "# Cчитываем данные из csv-файла datasets/visitors.csv в датафрейм и сохраняем в переменную 'visitors'\n",
    "\n",
    "try:\n",
    "    visitors = pd.read_csv('C:\\\\Users\\\\Александр\\\\Downloads\\\\visitors.csv')\n",
    "except:\n",
    "    visitors = pd.read_csv('https://code.s3.yandex.net/datasets/visitors.csv')\n",
    "    \n",
    "# Выводим на экран первые 10 строк\n",
    "visitors.head(10)"
   ]
  },
  {
   "cell_type": "code",
   "execution_count": 13,
   "metadata": {},
   "outputs": [
    {
     "name": "stdout",
     "output_type": "stream",
     "text": [
      "<class 'pandas.core.frame.DataFrame'>\n",
      "RangeIndex: 62 entries, 0 to 61\n",
      "Data columns (total 3 columns):\n",
      " #   Column    Non-Null Count  Dtype \n",
      "---  ------    --------------  ----- \n",
      " 0   date      62 non-null     object\n",
      " 1   group     62 non-null     object\n",
      " 2   visitors  62 non-null     int64 \n",
      "dtypes: int64(1), object(2)\n",
      "memory usage: 1.6+ KB\n"
     ]
    }
   ],
   "source": [
    "# Выведим основную информацию о датафрейме с помощью метода info()\n",
    "visitors.info()"
   ]
  },
  {
   "cell_type": "code",
   "execution_count": 14,
   "metadata": {},
   "outputs": [],
   "source": [
    "# Приведем столбец с датами в нужный тип\n",
    "visitors['date'] = pd.to_datetime(visitors['date'])"
   ]
  },
  {
   "cell_type": "code",
   "execution_count": 15,
   "metadata": {},
   "outputs": [
    {
     "data": {
      "text/html": [
       "<style  type=\"text/css\" >\n",
       "#T_20d20_row0_col0,#T_20d20_row1_col0,#T_20d20_row2_col0{\n",
       "            background-color:  #3b4cc0;\n",
       "            color:  #f1f1f1;\n",
       "        }</style><table id=\"T_20d20_\" ><thead>    <tr>        <th class=\"blank level0\" ></th>        <th class=\"col_heading level0 col0\" >0</th>    </tr></thead><tbody>\n",
       "                <tr>\n",
       "                        <th id=\"T_20d20_level0_row0\" class=\"row_heading level0 row0\" >date</th>\n",
       "                        <td id=\"T_20d20_row0_col0\" class=\"data row0 col0\" >0.000000</td>\n",
       "            </tr>\n",
       "            <tr>\n",
       "                        <th id=\"T_20d20_level0_row1\" class=\"row_heading level0 row1\" >group</th>\n",
       "                        <td id=\"T_20d20_row1_col0\" class=\"data row1 col0\" >0.000000</td>\n",
       "            </tr>\n",
       "            <tr>\n",
       "                        <th id=\"T_20d20_level0_row2\" class=\"row_heading level0 row2\" >visitors</th>\n",
       "                        <td id=\"T_20d20_row2_col0\" class=\"data row2 col0\" >0.000000</td>\n",
       "            </tr>\n",
       "    </tbody></table>"
      ],
      "text/plain": [
       "<pandas.io.formats.style.Styler at 0x7fa167bdd250>"
      ]
     },
     "execution_count": 15,
     "metadata": {},
     "output_type": "execute_result"
    }
   ],
   "source": [
    "# Проверим наличие пропусков в информации\n",
    "pd.DataFrame(round(visitors.isna().mean()*100,1)).style.background_gradient('coolwarm')"
   ]
  },
  {
   "cell_type": "code",
   "execution_count": 16,
   "metadata": {},
   "outputs": [
    {
     "data": {
      "text/plain": [
       "0"
      ]
     },
     "execution_count": 16,
     "metadata": {},
     "output_type": "execute_result"
    }
   ],
   "source": [
    "# Поиск полных дубликатов\n",
    "visitors.duplicated().sum()"
   ]
  },
  {
   "cell_type": "code",
   "execution_count": 17,
   "metadata": {},
   "outputs": [
    {
     "data": {
      "text/plain": [
       "Timestamp('2019-08-01 00:00:00')"
      ]
     },
     "execution_count": 17,
     "metadata": {},
     "output_type": "execute_result"
    }
   ],
   "source": [
    "# Минимальное значение дата визита\n",
    "visitors['date'].min()"
   ]
  },
  {
   "cell_type": "code",
   "execution_count": 18,
   "metadata": {},
   "outputs": [
    {
     "data": {
      "text/plain": [
       "Timestamp('2019-08-31 00:00:00')"
      ]
     },
     "execution_count": 18,
     "metadata": {},
     "output_type": "execute_result"
    }
   ],
   "source": [
    "# Максимальное значение дата визита\n",
    "visitors['date'].max()"
   ]
  },
  {
   "cell_type": "markdown",
   "metadata": {},
   "source": [
    "Посчитаем суммарное число пользователей и заказов в каждой из групп теста. Сгруппируем данные по столбцу с группами A/B-теста методом groupby(), с аргументом as_index=False. Применим агрегирующие функции — найдём, сколько всего посетителей и заказов было в каждой группе:"
   ]
  },
  {
   "cell_type": "code",
   "execution_count": 19,
   "metadata": {},
   "outputs": [
    {
     "data": {
      "text/html": [
       "<div>\n",
       "<style scoped>\n",
       "    .dataframe tbody tr th:only-of-type {\n",
       "        vertical-align: middle;\n",
       "    }\n",
       "\n",
       "    .dataframe tbody tr th {\n",
       "        vertical-align: top;\n",
       "    }\n",
       "\n",
       "    .dataframe thead th {\n",
       "        text-align: right;\n",
       "    }\n",
       "</style>\n",
       "<table border=\"1\" class=\"dataframe\">\n",
       "  <thead>\n",
       "    <tr style=\"text-align: right;\">\n",
       "      <th></th>\n",
       "      <th>group</th>\n",
       "      <th>visitors</th>\n",
       "    </tr>\n",
       "  </thead>\n",
       "  <tbody>\n",
       "    <tr>\n",
       "      <th>0</th>\n",
       "      <td>A</td>\n",
       "      <td>18736</td>\n",
       "    </tr>\n",
       "    <tr>\n",
       "      <th>1</th>\n",
       "      <td>B</td>\n",
       "      <td>18916</td>\n",
       "    </tr>\n",
       "  </tbody>\n",
       "</table>\n",
       "</div>"
      ],
      "text/plain": [
       "  group  visitors\n",
       "0     A     18736\n",
       "1     B     18916"
      ]
     },
     "execution_count": 19,
     "metadata": {},
     "output_type": "execute_result"
    }
   ],
   "source": [
    "# Количество визитов в каждой группе\n",
    "visitors_sum_group = (\n",
    "    visitors.groupby('group', as_index=False)\n",
    "    .agg({'visitors': 'sum'})\n",
    ")\n",
    "\n",
    "visitors_sum_group"
   ]
  },
  {
   "cell_type": "code",
   "execution_count": 20,
   "metadata": {},
   "outputs": [
    {
     "data": {
      "text/html": [
       "<div>\n",
       "<style scoped>\n",
       "    .dataframe tbody tr th:only-of-type {\n",
       "        vertical-align: middle;\n",
       "    }\n",
       "\n",
       "    .dataframe tbody tr th {\n",
       "        vertical-align: top;\n",
       "    }\n",
       "\n",
       "    .dataframe thead th {\n",
       "        text-align: right;\n",
       "    }\n",
       "</style>\n",
       "<table border=\"1\" class=\"dataframe\">\n",
       "  <thead>\n",
       "    <tr style=\"text-align: right;\">\n",
       "      <th></th>\n",
       "      <th>group</th>\n",
       "      <th>revenue</th>\n",
       "      <th>visitor_id</th>\n",
       "    </tr>\n",
       "  </thead>\n",
       "  <tbody>\n",
       "    <tr>\n",
       "      <th>0</th>\n",
       "      <td>A</td>\n",
       "      <td>4084803</td>\n",
       "      <td>557</td>\n",
       "    </tr>\n",
       "    <tr>\n",
       "      <th>1</th>\n",
       "      <td>B</td>\n",
       "      <td>5907760</td>\n",
       "      <td>640</td>\n",
       "    </tr>\n",
       "  </tbody>\n",
       "</table>\n",
       "</div>"
      ],
      "text/plain": [
       "  group  revenue  visitor_id\n",
       "0     A  4084803         557\n",
       "1     B  5907760         640"
      ]
     },
     "execution_count": 20,
     "metadata": {},
     "output_type": "execute_result"
    }
   ],
   "source": [
    "# Количество и сумма заказов в каждой группе\n",
    "orders_sum_group = (\n",
    "    orders.groupby('group', as_index=False)\n",
    "          .agg({'revenue': 'sum', 'visitor_id': 'count'})\n",
    ")\n",
    "\n",
    "orders_sum_group"
   ]
  },
  {
   "cell_type": "code",
   "execution_count": 21,
   "metadata": {},
   "outputs": [
    {
     "data": {
      "text/html": [
       "<div>\n",
       "<style scoped>\n",
       "    .dataframe tbody tr th:only-of-type {\n",
       "        vertical-align: middle;\n",
       "    }\n",
       "\n",
       "    .dataframe tbody tr th {\n",
       "        vertical-align: top;\n",
       "    }\n",
       "\n",
       "    .dataframe thead th {\n",
       "        text-align: right;\n",
       "    }\n",
       "</style>\n",
       "<table border=\"1\" class=\"dataframe\">\n",
       "  <thead>\n",
       "    <tr style=\"text-align: right;\">\n",
       "      <th></th>\n",
       "      <th>group</th>\n",
       "      <th>revenue</th>\n",
       "      <th>visitor_id</th>\n",
       "      <th>orders_sum_mean</th>\n",
       "    </tr>\n",
       "  </thead>\n",
       "  <tbody>\n",
       "    <tr>\n",
       "      <th>0</th>\n",
       "      <td>A</td>\n",
       "      <td>4084803</td>\n",
       "      <td>557</td>\n",
       "      <td>7333.58</td>\n",
       "    </tr>\n",
       "    <tr>\n",
       "      <th>1</th>\n",
       "      <td>B</td>\n",
       "      <td>5907760</td>\n",
       "      <td>640</td>\n",
       "      <td>9230.88</td>\n",
       "    </tr>\n",
       "  </tbody>\n",
       "</table>\n",
       "</div>"
      ],
      "text/plain": [
       "  group  revenue  visitor_id orders_sum_mean\n",
       "0     A  4084803         557         7333.58\n",
       "1     B  5907760         640         9230.88"
      ]
     },
     "execution_count": 21,
     "metadata": {},
     "output_type": "execute_result"
    }
   ],
   "source": [
    "# Средняя сумма заказа в каждой группе\n",
    "orders_sum_group['orders_sum_mean'] = (\n",
    "    orders_sum_group['revenue'] / orders_sum_group['visitor_id']\n",
    ").map(lambda x: \"{0:.2f}\".format(x))\n",
    "\n",
    "orders_sum_group "
   ]
  },
  {
   "cell_type": "markdown",
   "metadata": {},
   "source": [
    "### Вывод по предобработке данных\n",
    "Для анализа используются данные визитов и заказов с 1 августа 2019 по 31 августа 2019 года включительно. <br>\n",
    "В данных нет пропусков и нет дубликатов. Столбцы с датами приведены в нужный тип данных. <br>\n",
    "Данные уже поделены на две группы А и Б, но разделение произведено не равномерно. В группе А 18736 визитов, в группе Б 18916 визитов, отклонение составляет чуть меньше 1%, что является допустимым. Также группа Б больше по заказам 640 заказаов, против 557 заазов в группе А, отклонение составляет 15% и это существенная разница. Также мы видим, что средняя сумма заказа в группе В значительно выше, чем в греппе A, и составляет 7333,58 и 9230,88 соответсвенно."
   ]
  },
  {
   "cell_type": "markdown",
   "metadata": {},
   "source": [
    "Рассмотрим количество пользователей в каждой группе, используя данные из таблицы с заказами"
   ]
  },
  {
   "cell_type": "code",
   "execution_count": 22,
   "metadata": {},
   "outputs": [
    {
     "data": {
      "text/html": [
       "<div>\n",
       "<style scoped>\n",
       "    .dataframe tbody tr th:only-of-type {\n",
       "        vertical-align: middle;\n",
       "    }\n",
       "\n",
       "    .dataframe tbody tr th {\n",
       "        vertical-align: top;\n",
       "    }\n",
       "\n",
       "    .dataframe thead th {\n",
       "        text-align: right;\n",
       "    }\n",
       "</style>\n",
       "<table border=\"1\" class=\"dataframe\">\n",
       "  <thead>\n",
       "    <tr style=\"text-align: right;\">\n",
       "      <th></th>\n",
       "      <th>group</th>\n",
       "      <th>visitor_id</th>\n",
       "    </tr>\n",
       "  </thead>\n",
       "  <tbody>\n",
       "    <tr>\n",
       "      <th>0</th>\n",
       "      <td>A</td>\n",
       "      <td>503</td>\n",
       "    </tr>\n",
       "    <tr>\n",
       "      <th>1</th>\n",
       "      <td>B</td>\n",
       "      <td>586</td>\n",
       "    </tr>\n",
       "  </tbody>\n",
       "</table>\n",
       "</div>"
      ],
      "text/plain": [
       "  group  visitor_id\n",
       "0     A         503\n",
       "1     B         586"
      ]
     },
     "execution_count": 22,
     "metadata": {},
     "output_type": "execute_result"
    }
   ],
   "source": [
    "# Количество пользователей в каждой группе\n",
    "users_sum_group = (\n",
    "    orders.groupby('group', as_index=False)\n",
    "          .agg({'visitor_id': 'nunique'})\n",
    ")\n",
    "\n",
    "users_sum_group"
   ]
  },
  {
   "cell_type": "markdown",
   "metadata": {},
   "source": [
    "По данным группировочной таблицы, мы видим, что пользователи разделены по группам не равномерно и распределение имеет существунное отклонение, выборки имеют разный размер, группа В больше группы А на 16,5%, что очень сильно повлияет на результаты А/Б теста. <br>\n",
    "Чтобы избежать таких проблем, необходимо перед проведенеим А/Б тестирования провести А/А тест, с помощью которого проверяется корректность деления пользователей на группы. <br>\n",
    "Второй важный критерий для корретного анализа А/Б теста, это уникальность пользователей. Пользователь попавший в группу А, не должен попадать в группу Б, иначе невозмоно достоверно сказать какой из увиденных пользователем версий повлиял на его решение о покупке.<br>"
   ]
  },
  {
   "cell_type": "code",
   "execution_count": 23,
   "metadata": {},
   "outputs": [
    {
     "data": {
      "text/plain": [
       "group    58\n",
       "dtype: int64"
      ]
     },
     "execution_count": 23,
     "metadata": {},
     "output_type": "execute_result"
    }
   ],
   "source": [
    "# Проверим сколько пользователей встречаются в обеих группах\n",
    "orders.groupby('visitor_id').agg({'group' : 'nunique'}).query('group > 1').count()"
   ]
  },
  {
   "cell_type": "markdown",
   "metadata": {},
   "source": [
    "58 пользователей встречаются в обеих группах, для наших выборок это большое значение, около 10% данных непонятно как интерпретировать. К какой все таки группе можно отнести этих пользователей? Мы достоверно определеить не можем, ведь невозможно определеить какую версию сайта он видели в момент оформленя заказа.<br>\n",
    "По большому счету результаттам такого А/Б тестирования верить нельзя. <br>\n",
    "\n",
    "Можно было бы как-то спасти ситуацию и удалить таких пользователей из обеих групп, как буд-то бы они вообще не участвовали в А/Б тестировании, но сделать мы этого не можем, поскольку удалив этих пользователей из таблицы с заказами orders, мы не сможем удалить их из таблицы с визитами visitors, поскольку у нас нет там иденификаторов пользователей. Сделать мердж этих двух таблиц так же не получится.<br>\n",
    "\n",
    "Всех этих проблем можно было бы избежать проведя А/А тест."
   ]
  },
  {
   "cell_type": "markdown",
   "metadata": {},
   "source": [
    "Посмотрим динамику посещений по дням и по группам."
   ]
  },
  {
   "cell_type": "code",
   "execution_count": 24,
   "metadata": {},
   "outputs": [
    {
     "data": {
      "image/png": "[encoded data removed]",
      "text/plain": [
       "<Figure size 864x576 with 1 Axes>"
      ]
     },
     "metadata": {
      "needs_background": "light"
     },
     "output_type": "display_data"
    }
   ],
   "source": [
    "# Диаграмма размаха визитов по дням и по группам\n",
    "visitors.pivot_table(index='date', columns='group', values='visitors', aggfunc='sum') \\\n",
    "        .plot(grid=True, figsize=(12, 8))\n",
    "plt.title('Динамика посещений по дням и по группам')\n",
    "plt.ylabel('Количество посещений')\n",
    "plt.xlabel('Дни проведения А/B теста')\n",
    "plt.legend() \n",
    "plt.show()"
   ]
  },
  {
   "cell_type": "markdown",
   "metadata": {},
   "source": [
    "По графику посещений мы видим, что на поведение пользователей никак не влияет проведение А/Б тестирования. Графиики повторяют друг друга практически как тени. За исключением двух дней. 16 августа в группе А был провал в посещениях до минимального уровня 360 визитов, и 13 августа был пик посещений в группе В до уровня 760 посещений.\n",
    "Нововедения проводимые для пользователей группы В не дают дополнительных посещений сайта."
   ]
  },
  {
   "cell_type": "markdown",
   "metadata": {},
   "source": [
    "## Приоритизация гипотез"
   ]
  },
  {
   "cell_type": "markdown",
   "metadata": {},
   "source": [
    "В нашем датафрейме есть 9 гипотез, чтобы не тратить ценные ресурсы (время и деньги) попусту, выберем лучшую гипотезу для проведения А/Б теста в первую очередь. <br>\n",
    "Для приоритизации гипотез будем исрользовать метод ICE и RICE."
   ]
  },
  {
   "cell_type": "code",
   "execution_count": 25,
   "metadata": {},
   "outputs": [
    {
     "data": {
      "text/html": [
       "<div>\n",
       "<style scoped>\n",
       "    .dataframe tbody tr th:only-of-type {\n",
       "        vertical-align: middle;\n",
       "    }\n",
       "\n",
       "    .dataframe tbody tr th {\n",
       "        vertical-align: top;\n",
       "    }\n",
       "\n",
       "    .dataframe thead th {\n",
       "        text-align: right;\n",
       "    }\n",
       "</style>\n",
       "<table border=\"1\" class=\"dataframe\">\n",
       "  <thead>\n",
       "    <tr style=\"text-align: right;\">\n",
       "      <th></th>\n",
       "      <th>hypothesis</th>\n",
       "      <th>ICE</th>\n",
       "    </tr>\n",
       "  </thead>\n",
       "  <tbody>\n",
       "    <tr>\n",
       "      <th>8</th>\n",
       "      <td>Запустить акцию, дающую скидку на товар в день рождения</td>\n",
       "      <td>16.20</td>\n",
       "    </tr>\n",
       "    <tr>\n",
       "      <th>0</th>\n",
       "      <td>Добавить два новых канала привлечения трафика, что позволит привлекать на 30% больше пользователей</td>\n",
       "      <td>13.33</td>\n",
       "    </tr>\n",
       "    <tr>\n",
       "      <th>7</th>\n",
       "      <td>Добавить форму подписки на все основные страницы, чтобы собрать базу клиентов для email-рассылок</td>\n",
       "      <td>11.20</td>\n",
       "    </tr>\n",
       "    <tr>\n",
       "      <th>6</th>\n",
       "      <td>Показать на главной странице баннеры с актуальными акциями и распродажами, чтобы увеличить конверсию</td>\n",
       "      <td>8.00</td>\n",
       "    </tr>\n",
       "    <tr>\n",
       "      <th>2</th>\n",
       "      <td>Добавить блоки рекомендаций товаров на сайт интернет магазина, чтобы повысить конверсию и средний чек заказа</td>\n",
       "      <td>7.00</td>\n",
       "    </tr>\n",
       "    <tr>\n",
       "      <th>1</th>\n",
       "      <td>Запустить собственную службу доставки, что сократит срок доставки заказов</td>\n",
       "      <td>2.00</td>\n",
       "    </tr>\n",
       "    <tr>\n",
       "      <th>5</th>\n",
       "      <td>Добавить страницу отзывов клиентов о магазине, что позволит увеличить количество заказов</td>\n",
       "      <td>1.33</td>\n",
       "    </tr>\n",
       "    <tr>\n",
       "      <th>3</th>\n",
       "      <td>Изменить структура категорий, что увеличит конверсию, т.к. пользователи быстрее найдут нужный товар</td>\n",
       "      <td>1.12</td>\n",
       "    </tr>\n",
       "    <tr>\n",
       "      <th>4</th>\n",
       "      <td>Изменить цвет фона главной страницы, чтобы увеличить вовлеченность пользователей</td>\n",
       "      <td>1.00</td>\n",
       "    </tr>\n",
       "  </tbody>\n",
       "</table>\n",
       "</div>"
      ],
      "text/plain": [
       "                                                                                                     hypothesis  \\\n",
       "8                                                       Запустить акцию, дающую скидку на товар в день рождения   \n",
       "0            Добавить два новых канала привлечения трафика, что позволит привлекать на 30% больше пользователей   \n",
       "7              Добавить форму подписки на все основные страницы, чтобы собрать базу клиентов для email-рассылок   \n",
       "6          Показать на главной странице баннеры с актуальными акциями и распродажами, чтобы увеличить конверсию   \n",
       "2  Добавить блоки рекомендаций товаров на сайт интернет магазина, чтобы повысить конверсию и средний чек заказа   \n",
       "1                                     Запустить собственную службу доставки, что сократит срок доставки заказов   \n",
       "5                      Добавить страницу отзывов клиентов о магазине, что позволит увеличить количество заказов   \n",
       "3           Изменить структура категорий, что увеличит конверсию, т.к. пользователи быстрее найдут нужный товар   \n",
       "4                              Изменить цвет фона главной страницы, чтобы увеличить вовлеченность пользователей   \n",
       "\n",
       "     ICE  \n",
       "8  16.20  \n",
       "0  13.33  \n",
       "7  11.20  \n",
       "6   8.00  \n",
       "2   7.00  \n",
       "1   2.00  \n",
       "5   1.33  \n",
       "3   1.12  \n",
       "4   1.00  "
      ]
     },
     "metadata": {},
     "output_type": "display_data"
    }
   ],
   "source": [
    "# Создадим столбец ICE и отсортируем гипотезы по убыванию этого значения\n",
    "hypothesis['ICE'] = round((hypothesis['impact'] * hypothesis['confidence']) / hypothesis['efforts'], 2)\n",
    "display(hypothesis[['hypothesis', 'ICE']].sort_values(by='ICE', ascending=False))"
   ]
  },
  {
   "cell_type": "markdown",
   "metadata": {},
   "source": [
    "Мы видим, что наиболее приоритетные гипотезы по ICE, это:\n",
    "    \n",
    "    1. Запустить акцию, дающую скидку на товар в день рождения   \n",
    "    2. Добавить два новых канала привлечения трафика, что позволит привлекать на 30% больше пользователей   \n",
    "    3. Добавить форму подписки на все основные страницы, чтобы собрать базу клиентов для email-рассылок  "
   ]
  },
  {
   "cell_type": "code",
   "execution_count": 26,
   "metadata": {},
   "outputs": [
    {
     "data": {
      "text/html": [
       "<div>\n",
       "<style scoped>\n",
       "    .dataframe tbody tr th:only-of-type {\n",
       "        vertical-align: middle;\n",
       "    }\n",
       "\n",
       "    .dataframe tbody tr th {\n",
       "        vertical-align: top;\n",
       "    }\n",
       "\n",
       "    .dataframe thead th {\n",
       "        text-align: right;\n",
       "    }\n",
       "</style>\n",
       "<table border=\"1\" class=\"dataframe\">\n",
       "  <thead>\n",
       "    <tr style=\"text-align: right;\">\n",
       "      <th></th>\n",
       "      <th>hypothesis</th>\n",
       "      <th>RICE</th>\n",
       "    </tr>\n",
       "  </thead>\n",
       "  <tbody>\n",
       "    <tr>\n",
       "      <th>7</th>\n",
       "      <td>Добавить форму подписки на все основные страницы, чтобы собрать базу клиентов для email-рассылок</td>\n",
       "      <td>112.0</td>\n",
       "    </tr>\n",
       "    <tr>\n",
       "      <th>2</th>\n",
       "      <td>Добавить блоки рекомендаций товаров на сайт интернет магазина, чтобы повысить конверсию и средний чек заказа</td>\n",
       "      <td>56.0</td>\n",
       "    </tr>\n",
       "    <tr>\n",
       "      <th>0</th>\n",
       "      <td>Добавить два новых канала привлечения трафика, что позволит привлекать на 30% больше пользователей</td>\n",
       "      <td>40.0</td>\n",
       "    </tr>\n",
       "    <tr>\n",
       "      <th>6</th>\n",
       "      <td>Показать на главной странице баннеры с актуальными акциями и распродажами, чтобы увеличить конверсию</td>\n",
       "      <td>40.0</td>\n",
       "    </tr>\n",
       "    <tr>\n",
       "      <th>8</th>\n",
       "      <td>Запустить акцию, дающую скидку на товар в день рождения</td>\n",
       "      <td>16.2</td>\n",
       "    </tr>\n",
       "    <tr>\n",
       "      <th>3</th>\n",
       "      <td>Изменить структура категорий, что увеличит конверсию, т.к. пользователи быстрее найдут нужный товар</td>\n",
       "      <td>9.0</td>\n",
       "    </tr>\n",
       "    <tr>\n",
       "      <th>1</th>\n",
       "      <td>Запустить собственную службу доставки, что сократит срок доставки заказов</td>\n",
       "      <td>4.0</td>\n",
       "    </tr>\n",
       "    <tr>\n",
       "      <th>5</th>\n",
       "      <td>Добавить страницу отзывов клиентов о магазине, что позволит увеличить количество заказов</td>\n",
       "      <td>4.0</td>\n",
       "    </tr>\n",
       "    <tr>\n",
       "      <th>4</th>\n",
       "      <td>Изменить цвет фона главной страницы, чтобы увеличить вовлеченность пользователей</td>\n",
       "      <td>3.0</td>\n",
       "    </tr>\n",
       "  </tbody>\n",
       "</table>\n",
       "</div>"
      ],
      "text/plain": [
       "                                                                                                     hypothesis  \\\n",
       "7              Добавить форму подписки на все основные страницы, чтобы собрать базу клиентов для email-рассылок   \n",
       "2  Добавить блоки рекомендаций товаров на сайт интернет магазина, чтобы повысить конверсию и средний чек заказа   \n",
       "0            Добавить два новых канала привлечения трафика, что позволит привлекать на 30% больше пользователей   \n",
       "6          Показать на главной странице баннеры с актуальными акциями и распродажами, чтобы увеличить конверсию   \n",
       "8                                                       Запустить акцию, дающую скидку на товар в день рождения   \n",
       "3           Изменить структура категорий, что увеличит конверсию, т.к. пользователи быстрее найдут нужный товар   \n",
       "1                                     Запустить собственную службу доставки, что сократит срок доставки заказов   \n",
       "5                      Добавить страницу отзывов клиентов о магазине, что позволит увеличить количество заказов   \n",
       "4                              Изменить цвет фона главной страницы, чтобы увеличить вовлеченность пользователей   \n",
       "\n",
       "    RICE  \n",
       "7  112.0  \n",
       "2   56.0  \n",
       "0   40.0  \n",
       "6   40.0  \n",
       "8   16.2  \n",
       "3    9.0  \n",
       "1    4.0  \n",
       "5    4.0  \n",
       "4    3.0  "
      ]
     },
     "metadata": {},
     "output_type": "display_data"
    }
   ],
   "source": [
    "# Создадим столбец RICE и отсортируем гипотезы по убыванию этого значения\n",
    "hypothesis['RICE'] = (hypothesis['reach'] * hypothesis['impact'] * hypothesis['confidence']) / hypothesis['efforts']\n",
    "display(hypothesis[['hypothesis', 'RICE']].sort_values(by='RICE', ascending=False))"
   ]
  },
  {
   "cell_type": "markdown",
   "metadata": {},
   "source": [
    "Мы видим, что наиболее приоритетные гипотезы по RICE, это:\n",
    "    \n",
    "    1. Добавить форму подписки на все основные страницы, чтобы собрать базу клиентов для email-рассылок   \n",
    "    2. Добавить блоки рекомендаций товаров на сайт интернет магазина, чтобы повысить конверсию и средний чек заказа   \n",
    "    3. Добавить два новых канала привлечения трафика, что позволит привлекать на 30% больше пользователей\n",
    "    \n",
    "Причем первая гипотеза лидирует с большим отрывом."
   ]
  },
  {
   "cell_type": "markdown",
   "metadata": {},
   "source": [
    "### Вывод\n",
    "\n",
    "Самая лучшая гипотеза по ICE под номером 8 оказалась на пятом месте при расчете RICE. Это объясняется показателем reach - количество пользователей, которое затронет изменение. Это важный показатель, поскольку тратить ресурсы имеет смысл сперва на самые значимые гипотезы, которые могут затронуть больше всего пользователей и принести смамый лучший экономический эффект.\n",
    "\n",
    "* 7 - Добавить форму подписки на все основные страницы, чтобы собрать базу клиентов для email-рассылок;\n",
    "* 2 - Добавить блоки рекомендаций товаров на сайт интернет магазина, чтобы повысить конверсию и средний чек заказа   \n",
    "* 0 - Добавить два новых канала привлечения трафика, что позволит привлекать на 30% больше пользователей "
   ]
  },
  {
   "cell_type": "markdown",
   "metadata": {},
   "source": [
    "## Анализ A/B-теста"
   ]
  },
  {
   "cell_type": "markdown",
   "metadata": {},
   "source": [
    "## Проверка гипотезы о равенстве долей"
   ]
  },
  {
   "cell_type": "markdown",
   "metadata": {},
   "source": [
    "Cравним доли клиентов, сделавших заказ. Из 18736 визитов, группы А, заказов 557; а из 18916 визитов, группы В - 640 заказаов.\n",
    "Можно ли сделать вывод о разнице в конверсии посещения в заказ для этих двух групп?"
   ]
  },
  {
   "cell_type": "code",
   "execution_count": 27,
   "metadata": {},
   "outputs": [],
   "source": [
    "alpha = .05 # критический уровень статистической значимости\n",
    "\n",
    "successes = np.array([557, 640])\n",
    "trials = np.array([18736, 18916])\n",
    "\n",
    "# пропорция успехов в первой группе:\n",
    "p1 = successes[0]/trials[0]\n",
    "\n",
    "# пропорция успехов во второй группе:\n",
    "p2 = successes[1]/trials[1]\n",
    "\n",
    "# пропорция успехов в комбинированном датасете:\n",
    "p_combined = (successes[0] + successes[1]) / (trials[0] + trials[1])\n",
    "\n",
    "# разница пропорций в датасетах\n",
    "difference = p1 - p2 "
   ]
  },
  {
   "cell_type": "code",
   "execution_count": 28,
   "metadata": {},
   "outputs": [],
   "source": [
    "# считаем статистику в ст.отклонениях стандартного нормального распределения\n",
    "z_value = difference / mth.sqrt(p_combined * (1 - p_combined) * (1/trials[0] + 1/trials[1]))\n",
    "\n",
    "# задаем стандартное нормальное распределение (среднее 0, ст.отклонение 1)\n",
    "distr = st.norm(0, 1)  "
   ]
  },
  {
   "cell_type": "code",
   "execution_count": 29,
   "metadata": {},
   "outputs": [
    {
     "name": "stdout",
     "output_type": "stream",
     "text": [
      "p-значение:  0.02320723394441848\n",
      "Отвергаем нулевую гипотезу: между долями есть значимая разница\n"
     ]
    }
   ],
   "source": [
    "p_value = (1 - distr.cdf(abs(z_value))) * 2\n",
    "\n",
    "print('p-значение: ', p_value)\n",
    "\n",
    "if p_value < alpha:\n",
    "    print('Отвергаем нулевую гипотезу: между долями есть значимая разница')\n",
    "else:\n",
    "    print(\n",
    "        'Не получилось отвергнуть нулевую гипотезу, нет оснований считать доли разными'\n",
    "    ) "
   ]
  },
  {
   "cell_type": "markdown",
   "metadata": {},
   "source": [
    "Такая разница в пропорциях при указанных размерах выборок достаточна, чтобы говорить о статистически значимом различии."
   ]
  },
  {
   "cell_type": "markdown",
   "metadata": {},
   "source": [
    "### График кумулятивной выручки по группам"
   ]
  },
  {
   "cell_type": "code",
   "execution_count": 30,
   "metadata": {},
   "outputs": [
    {
     "data": {
      "text/html": [
       "<div>\n",
       "<style scoped>\n",
       "    .dataframe tbody tr th:only-of-type {\n",
       "        vertical-align: middle;\n",
       "    }\n",
       "\n",
       "    .dataframe tbody tr th {\n",
       "        vertical-align: top;\n",
       "    }\n",
       "\n",
       "    .dataframe thead th {\n",
       "        text-align: right;\n",
       "    }\n",
       "</style>\n",
       "<table border=\"1\" class=\"dataframe\">\n",
       "  <thead>\n",
       "    <tr style=\"text-align: right;\">\n",
       "      <th></th>\n",
       "      <th>date</th>\n",
       "      <th>group</th>\n",
       "      <th>orders</th>\n",
       "      <th>buyers</th>\n",
       "      <th>revenue</th>\n",
       "      <th>visitors</th>\n",
       "    </tr>\n",
       "  </thead>\n",
       "  <tbody>\n",
       "    <tr>\n",
       "      <th>0</th>\n",
       "      <td>2019-08-01</td>\n",
       "      <td>A</td>\n",
       "      <td>24</td>\n",
       "      <td>20</td>\n",
       "      <td>148579</td>\n",
       "      <td>719</td>\n",
       "    </tr>\n",
       "    <tr>\n",
       "      <th>1</th>\n",
       "      <td>2019-08-01</td>\n",
       "      <td>B</td>\n",
       "      <td>21</td>\n",
       "      <td>20</td>\n",
       "      <td>101217</td>\n",
       "      <td>713</td>\n",
       "    </tr>\n",
       "    <tr>\n",
       "      <th>2</th>\n",
       "      <td>2019-08-02</td>\n",
       "      <td>A</td>\n",
       "      <td>44</td>\n",
       "      <td>38</td>\n",
       "      <td>242401</td>\n",
       "      <td>1338</td>\n",
       "    </tr>\n",
       "    <tr>\n",
       "      <th>3</th>\n",
       "      <td>2019-08-02</td>\n",
       "      <td>B</td>\n",
       "      <td>45</td>\n",
       "      <td>43</td>\n",
       "      <td>266748</td>\n",
       "      <td>1294</td>\n",
       "    </tr>\n",
       "    <tr>\n",
       "      <th>4</th>\n",
       "      <td>2019-08-03</td>\n",
       "      <td>A</td>\n",
       "      <td>68</td>\n",
       "      <td>62</td>\n",
       "      <td>354874</td>\n",
       "      <td>1845</td>\n",
       "    </tr>\n",
       "  </tbody>\n",
       "</table>\n",
       "</div>"
      ],
      "text/plain": [
       "        date group  orders  buyers  revenue  visitors\n",
       "0 2019-08-01     A      24      20   148579       719\n",
       "1 2019-08-01     B      21      20   101217       713\n",
       "2 2019-08-02     A      44      38   242401      1338\n",
       "3 2019-08-02     B      45      43   266748      1294\n",
       "4 2019-08-03     A      68      62   354874      1845"
      ]
     },
     "metadata": {},
     "output_type": "display_data"
    }
   ],
   "source": [
    "# создаем массив уникальных пар значений дат и групп теста\n",
    "dates_groups = orders[['date', 'group']].drop_duplicates()\n",
    "\n",
    "# получаем агрегированные кумулятивные по дням данные о заказах \n",
    "orders_aggregated = dates_groups.apply(\n",
    "    lambda x: orders[\n",
    "        np.logical_and(\n",
    "            orders['date'] <= x['date'], orders['group'] == x['group']\n",
    "        )\n",
    "    ].agg(\n",
    "        {\n",
    "            'date': 'max',\n",
    "            'group': 'max',\n",
    "            'transaction_id': 'nunique',\n",
    "            'visitor_id': 'nunique',\n",
    "            'revenue': 'sum',\n",
    "        }\n",
    "    ),\n",
    "    axis=1,\n",
    ").sort_values(by=['date', 'group'])\n",
    "\n",
    "# получаем агрегированные кумулятивные по дням данные о посетителях \n",
    "visitors_aggregated = dates_groups.apply(\n",
    "    lambda x: visitors[\n",
    "        np.logical_and(\n",
    "            visitors['date'] <= x['date'], visitors['group'] == x['group']\n",
    "        )\n",
    "    ].agg({'date': 'max', 'group': 'max', 'visitors': 'sum'}),\n",
    "    axis=1,\n",
    ").sort_values(by=['date', 'group'])\n",
    "\n",
    "# объединяем кумулятивные данные в одной таблице\n",
    "cumulative_data = orders_aggregated.merge(\n",
    "    visitors_aggregated, left_on=['date', 'group'], right_on=['date', 'group']\n",
    ")\n",
    "cumulative_data.columns = [\n",
    "    'date',\n",
    "    'group',\n",
    "    'orders',\n",
    "    'buyers',\n",
    "    'revenue',\n",
    "    'visitors',\n",
    "]\n",
    "\n",
    "display(cumulative_data.head())"
   ]
  },
  {
   "cell_type": "code",
   "execution_count": 31,
   "metadata": {},
   "outputs": [
    {
     "data": {
      "text/plain": [
       "'Минимальная дата в новом датафрейме: 2019-08-01 00:00:00'"
      ]
     },
     "metadata": {},
     "output_type": "display_data"
    },
    {
     "data": {
      "text/plain": [
       "'Максимальная дата в новом датафрейме: 2019-08-31 00:00:00'"
      ]
     },
     "metadata": {},
     "output_type": "display_data"
    }
   ],
   "source": [
    "# Проверим минимальную и максимальную дату в датафрейме\n",
    "display(f'''Минимальная дата в новом датафрейме: {cumulative_data['date'].min()}''')\n",
    "display(f'''Максимальная дата в новом датафрейме: {cumulative_data['date'].max()}''')"
   ]
  },
  {
   "cell_type": "markdown",
   "metadata": {},
   "source": [
    "Новый датафрейм создан корректно, даты А/В теста совпадают с датами в исходных данных."
   ]
  },
  {
   "cell_type": "code",
   "execution_count": 32,
   "metadata": {},
   "outputs": [
    {
     "data": {
      "image/png": "[encoded data removed]",
      "text/plain": [
       "<Figure size 864x576 with 1 Axes>"
      ]
     },
     "metadata": {
      "needs_background": "light"
     },
     "output_type": "display_data"
    }
   ],
   "source": [
    "# датафрейм с кумулятивным количеством заказов и кумулятивной выручкой по дням в группе А\n",
    "cumulative_revenue_a = cumulative_data[cumulative_data['group']=='A'][['date', 'revenue', 'orders']]\n",
    "\n",
    "# датафрейм с кумулятивным количеством заказов и кумулятивной выручкой по дням в группе B\n",
    "cumulative_revenue_b = cumulative_data[cumulative_data['group']=='B'][['date', 'revenue', 'orders']]\n",
    "\n",
    "# задаём размер для графиков\n",
    "plt.figure(figsize=(12, 8))\n",
    "\n",
    "# строим график выручки группы А\n",
    "plt.plot(cumulative_revenue_a['date'], cumulative_revenue_a['revenue'], label='группа A')\n",
    "\n",
    "# строим график выручки группы B\n",
    "plt.plot(cumulative_revenue_b['date'], cumulative_revenue_b['revenue'], label='группа B')\n",
    "\n",
    "plt.grid(visible=True)\n",
    "plt.title('График кумулятивной выручки группы А и группы Б по дням', fontsize=14)\n",
    "plt.xlabel('Дата проведения теста', fontsize=12)\n",
    "plt.ylabel('Выручка, руб.', fontsize=12)\n",
    "plt.legend() \n",
    "plt.show()"
   ]
  },
  {
   "cell_type": "markdown",
   "metadata": {},
   "source": [
    "**Вывод:** <br>\n",
    "Из данных графика видно, что выручка в интернет-магазине росла на протяжении всего месяца. Рост выручки в группе А, равномерный, а группа Б имеет резкий скачок размера выручки 18-19 августа. Это может быть связано с ростом числа заказов или с ростом суммы заказов. "
   ]
  },
  {
   "cell_type": "markdown",
   "metadata": {},
   "source": [
    "### График кумулятивного среднего чека по группам"
   ]
  },
  {
   "cell_type": "code",
   "execution_count": 33,
   "metadata": {},
   "outputs": [
    {
     "data": {
      "image/png": "[encoded data removed]",
      "text/plain": [
       "<Figure size 864x576 with 1 Axes>"
      ]
     },
     "metadata": {
      "needs_background": "light"
     },
     "output_type": "display_data"
    }
   ],
   "source": [
    "# График кумулятивного среднего чека в группе А и группе В\n",
    "plt.figure(figsize=(12, 8))\n",
    "plt.plot(cumulative_revenue_a['date'], cumulative_revenue_a['revenue'] / cumulative_revenue_a['orders'], label='группа A')\n",
    "plt.plot(cumulative_revenue_b['date'], cumulative_revenue_b['revenue'] / cumulative_revenue_b['orders'], label='группа B')\n",
    "\n",
    "plt.grid(visible=True)\n",
    "plt.title('Графики кумулятивного среднего чека по дням и группам A/B-тестирования', fontsize=14)\n",
    "plt.xlabel('Дата проведения теста', fontsize=12)\n",
    "plt.ylabel('Средний чек, руб.', fontsize=12)\n",
    "plt.legend() \n",
    "plt.show()"
   ]
  },
  {
   "cell_type": "markdown",
   "metadata": {},
   "source": [
    "**Вывод:** <br>\n",
    "Графики среднего чека каждой из групп существенно различаются. <br>\n",
    "\n",
    "Группа А в самом начале тетирования имела 6100 руб. более высокий средний чек, чем группа Б, но его уровень постоянно снижался  и примерно через неделю, 5-6 августа достиг своего минимума 4550 руб., это худший показатель из всех групп, но к 13 августа средний чек в группе А стабилизировался в диапазоне 6900 руб, к концу теста средний чек достиг уровня 7300 и стабилизировлся. <br>\n",
    "\n",
    "Группа Б на начало теста имела средний чек на уровне 4800 руб., затем в течение первой недели наблюдался рост до 6200 руб, 04-05.08 было зафиксировано резкое снижение среднего чека до минимального уровня в этой группе 5900 руб. Затем продолжился рост и 18-19 августа зафиксирован резкий рост среднего чека в группе B до уровня 10200 руб., затем пошел спад к концу проведения теста, но уровень среднего чека в группе В зафиксирован выше 9200 руб.\n",
    "\n",
    "Из графика видно, что средние чеки групп живут разной жизнью, но в начале месяца с 3 по 6 августа, в обеих группах набюдается резкое снижение среднего чека, необходимо выяснить с чем это могло быть сязано: технические проблемы интернет-магазина, проблемы с транзакциями или оплатой, либо что-то сезонное, выходные или празничные дни?\n",
    "Также стоит обратить внимание на 18-19 августа в группе В резкое увеличение среднего чека, это может быть связано с ростом числа заказов или нескольких круных по сумме заказов, которые искажают данные."
   ]
  },
  {
   "cell_type": "markdown",
   "metadata": {},
   "source": [
    "### График относительного изменения кумулятивного среднего чека группы B к группе A."
   ]
  },
  {
   "cell_type": "code",
   "execution_count": 34,
   "metadata": {},
   "outputs": [
    {
     "data": {
      "image/png": "[encoded data removed]",
      "text/plain": [
       "<Figure size 864x576 with 1 Axes>"
      ]
     },
     "metadata": {
      "needs_background": "light"
     },
     "output_type": "display_data"
    }
   ],
   "source": [
    "# собираем данные в одном датафрейме\n",
    "merged_cumulative_revenue = cumulative_revenue_a.merge(\n",
    "    cumulative_revenue_b,\n",
    "    left_on='date',\n",
    "    right_on='date',\n",
    "    how='left',\n",
    "    suffixes=['A', 'B'])\n",
    "\n",
    "# задаём размер для графика\n",
    "plt.figure(figsize=(12, 8))\n",
    "\n",
    "# cтроим отношение средних чеков\n",
    "plt.plot(merged_cumulative_revenue['date'],\n",
    "         (merged_cumulative_revenue['revenueB'] / merged_cumulative_revenue['ordersB']) /\n",
    "         (merged_cumulative_revenue['revenueA'] / merged_cumulative_revenue['ordersA'])-1)\n",
    "\n",
    "# добавляем ось X\n",
    "plt.axhline(y=0, color='red', linestyle='--')\n",
    "\n",
    "plt.grid(visible=True)\n",
    "plt.title('График относительного изменения кумулятивного среднего чека группы B к группе A', fontsize=14)\n",
    "plt.xlabel('Дата проведения А/Б теста', fontsize=12)\n",
    "plt.ylabel('Отношение средних чеков', fontsize=12)\n",
    "plt.show()"
   ]
  },
  {
   "cell_type": "markdown",
   "metadata": {},
   "source": [
    "**Вывод:**\n",
    "График отношения средних чеков имеет большие всплески, когда значения между чеками отличались максимально. Мы видим это с 6 по 8 августа, когда средние чеки каждой из групп падали и росли, и 18-19 августа, когда средний чек группы В показал свои максимальные значения более 10 тыс. руб. \n",
    "\n",
    "Средние чеки двух групп были равны только в трех точках 2 августа, 11 августа и 15 августа.\n",
    "В осатльные же дни, средние чеки сужественно различались, что говорит о наличии крепных заказов или большого количества заказов в одной из групп."
   ]
  },
  {
   "cell_type": "markdown",
   "metadata": {},
   "source": [
    "### График кумулятивного среднего количества заказов на посетителя по группам"
   ]
  },
  {
   "cell_type": "code",
   "execution_count": 35,
   "metadata": {},
   "outputs": [
    {
     "data": {
      "image/png": "[encoded data removed]",
      "text/plain": [
       "<Figure size 864x576 with 1 Axes>"
      ]
     },
     "metadata": {
      "needs_background": "light"
     },
     "output_type": "display_data"
    }
   ],
   "source": [
    "# конвертеры, которые позволяют использовать типы pandas в matplotlib  \n",
    "register_matplotlib_converters()\n",
    "\n",
    "# считаем кумулятивное среднее количество заказов на посетителя \n",
    "cumulative_data['conversion'] = cumulative_data['orders'] / cumulative_data['visitors']\n",
    "\n",
    "# отделяем данные по группе A\n",
    "cumulative_data_a = cumulative_data[cumulative_data['group']=='A']\n",
    "\n",
    "# отделяем данные по группе B\n",
    "cumulative_data_b = cumulative_data[cumulative_data['group']=='B']\n",
    "\n",
    "# задаём размер для графиков\n",
    "plt.figure(figsize=(12, 8))\n",
    "\n",
    "# строим графики\n",
    "plt.plot(cumulative_data_a['date'], cumulative_data_a['conversion'], label='группа A')\n",
    "plt.plot(cumulative_data_b['date'], cumulative_data_b['conversion'], label='группа B')\n",
    "\n",
    "# задаем масштаб осей\n",
    "plt.axis([dt.datetime(2019, 8, 1), dt.datetime(2019, 8, 31), 0, 0.05]) \n",
    "\n",
    "plt.grid(visible=True)\n",
    "plt.title('График кумулятивного среднего количества заказов на посетителя по группам', fontsize=14)\n",
    "plt.xlabel('Дата проведения А/Б теста', fontsize=12)\n",
    "plt.ylabel('Среднее сколичество заказов', fontsize=12)\n",
    "plt.legend()\n",
    "plt.show()\n"
   ]
  },
  {
   "cell_type": "markdown",
   "metadata": {},
   "source": [
    "**Вывод:**\n",
    "Из графика видно, что изначально среднее количество заказов в группе В было ниже чем в группе А, но с 6 августа, среднее количество заказов увеличилось и стабилизировалось на более высоком уровне чем группа А. В группе А, же всё наоборот, сперва уровень среднего количествва заказов был выше, затем снилился 06.08 и также стабилизировался."
   ]
  },
  {
   "cell_type": "markdown",
   "metadata": {},
   "source": [
    "### График относительного изменения кумулятивного среднего количества заказов на посетителя группы B к группе A"
   ]
  },
  {
   "cell_type": "code",
   "execution_count": 36,
   "metadata": {},
   "outputs": [
    {
     "data": {
      "image/png": "[encoded data removed]",
      "text/plain": [
       "<Figure size 864x576 with 1 Axes>"
      ]
     },
     "metadata": {
      "needs_background": "light"
     },
     "output_type": "display_data"
    }
   ],
   "source": [
    "# объединяем данные обеих групп\n",
    "merged_cumulative_conversions = cumulative_data_a[['date','conversion']].merge(\n",
    "    cumulative_data_b[['date','conversion']],\n",
    "    left_on='date',\n",
    "    right_on='date',\n",
    "    how='left',\n",
    "    suffixes=['A', 'B'])\n",
    "\n",
    "# задаём размер для графика\n",
    "plt.figure(figsize=(12, 8))\n",
    "\n",
    "# cтроим отношение конверсий\n",
    "plt.plot(merged_cumulative_conversions['date'],\n",
    "         merged_cumulative_conversions['conversionB'] /\n",
    "         merged_cumulative_conversions['conversionA']-1)\n",
    "\n",
    "# добавляем оси X\n",
    "plt.axhline(y=0, color='green', linestyle='--')\n",
    "plt.axhline(y=0.13, color='red', linestyle='--')\n",
    "\n",
    "# задаем масштаб осей\n",
    "plt.axis([dt.datetime(2019, 8, 1), dt.datetime(2019, 8, 31), -0.15, 0.25])\n",
    "\n",
    "plt.grid(visible=True)\n",
    "plt.title('График относительного  изменения кумулятивного среднего количества заказов', fontsize=14)\n",
    "plt.xlabel('Дата проведения теста', fontsize=12)\n",
    "plt.ylabel('Отношение конверсий', fontsize=12)\n",
    "plt.show()"
   ]
  },
  {
   "cell_type": "markdown",
   "metadata": {},
   "source": [
    "**Вывод:**\n",
    "В начале теста конверсии двух групп сильно разичались, группа В проигывала группе А, но с 6.08 произошел рост и конверсия группы В больше чем группы А, и их соотношение стабилизировалось в районе 14%."
   ]
  },
  {
   "cell_type": "markdown",
   "metadata": {},
   "source": [
    "### Точечный график количества заказов по пользователям"
   ]
  },
  {
   "cell_type": "markdown",
   "metadata": {},
   "source": [
    "Создадим таблицу с количеством заказов по пользователям, отсортируем по количеству транзакций. Посмотрим первые 10 пользователей с самым большим количеством заказов."
   ]
  },
  {
   "cell_type": "code",
   "execution_count": 37,
   "metadata": {},
   "outputs": [
    {
     "data": {
      "text/html": [
       "<div>\n",
       "<style scoped>\n",
       "    .dataframe tbody tr th:only-of-type {\n",
       "        vertical-align: middle;\n",
       "    }\n",
       "\n",
       "    .dataframe tbody tr th {\n",
       "        vertical-align: top;\n",
       "    }\n",
       "\n",
       "    .dataframe thead th {\n",
       "        text-align: right;\n",
       "    }\n",
       "</style>\n",
       "<table border=\"1\" class=\"dataframe\">\n",
       "  <thead>\n",
       "    <tr style=\"text-align: right;\">\n",
       "      <th></th>\n",
       "      <th>visitor_id</th>\n",
       "      <th>count_orders</th>\n",
       "    </tr>\n",
       "  </thead>\n",
       "  <tbody>\n",
       "    <tr>\n",
       "      <th>1023</th>\n",
       "      <td>4256040402</td>\n",
       "      <td>11</td>\n",
       "    </tr>\n",
       "    <tr>\n",
       "      <th>591</th>\n",
       "      <td>2458001652</td>\n",
       "      <td>11</td>\n",
       "    </tr>\n",
       "    <tr>\n",
       "      <th>569</th>\n",
       "      <td>2378935119</td>\n",
       "      <td>9</td>\n",
       "    </tr>\n",
       "    <tr>\n",
       "      <th>487</th>\n",
       "      <td>2038680547</td>\n",
       "      <td>8</td>\n",
       "    </tr>\n",
       "    <tr>\n",
       "      <th>44</th>\n",
       "      <td>199603092</td>\n",
       "      <td>5</td>\n",
       "    </tr>\n",
       "    <tr>\n",
       "      <th>744</th>\n",
       "      <td>3062433592</td>\n",
       "      <td>5</td>\n",
       "    </tr>\n",
       "    <tr>\n",
       "      <th>55</th>\n",
       "      <td>237748145</td>\n",
       "      <td>5</td>\n",
       "    </tr>\n",
       "    <tr>\n",
       "      <th>917</th>\n",
       "      <td>3803269165</td>\n",
       "      <td>5</td>\n",
       "    </tr>\n",
       "    <tr>\n",
       "      <th>299</th>\n",
       "      <td>1230306981</td>\n",
       "      <td>5</td>\n",
       "    </tr>\n",
       "    <tr>\n",
       "      <th>897</th>\n",
       "      <td>3717692402</td>\n",
       "      <td>5</td>\n",
       "    </tr>\n",
       "  </tbody>\n",
       "</table>\n",
       "</div>"
      ],
      "text/plain": [
       "      visitor_id  count_orders\n",
       "1023  4256040402            11\n",
       "591   2458001652            11\n",
       "569   2378935119             9\n",
       "487   2038680547             8\n",
       "44     199603092             5\n",
       "744   3062433592             5\n",
       "55     237748145             5\n",
       "917   3803269165             5\n",
       "299   1230306981             5\n",
       "897   3717692402             5"
      ]
     },
     "execution_count": 37,
     "metadata": {},
     "output_type": "execute_result"
    }
   ],
   "source": [
    "# число заказов(транзакций) по пользователям\n",
    "orders_by_users = (\n",
    "    orders.groupby('visitor_id', as_index=False)\n",
    "          .agg({'transaction_id': 'nunique'})\n",
    "          .sort_values(by='transaction_id', ascending=False)\n",
    "          .rename(columns={'transaction_id': 'count_orders'})\n",
    ")\n",
    "\n",
    "orders_by_users.head(10)"
   ]
  },
  {
   "cell_type": "markdown",
   "metadata": {},
   "source": [
    "Видим, что у нас есть всего два пользователя с количеством заказов 11, и два пользователя с количеством заказов 8 и 9 шт., остальные пользователи имеют 5 заказов или меньше.<br>\n",
    "Построим точечный график для наглядности."
   ]
  },
  {
   "cell_type": "code",
   "execution_count": 38,
   "metadata": {},
   "outputs": [
    {
     "data": {
      "image/png": "[encoded data removed]",
      "text/plain": [
       "<Figure size 720x360 with 1 Axes>"
      ]
     },
     "metadata": {
      "needs_background": "light"
     },
     "output_type": "display_data"
    }
   ],
   "source": [
    "# график распределения заказов по пользователям\n",
    "x_values = pd.Series(range(0,len(orders_by_users)))\n",
    "plt.figure(figsize=(10, 5))\n",
    "plt.scatter(x_values, orders_by_users['count_orders'], alpha=0.1)\n",
    "plt.title('Точечный график количества заказов по пользователям', fontsize=14)\n",
    "plt.ylabel('Количество заказов', fontsize=12)\n",
    "plt.show()"
   ]
  },
  {
   "cell_type": "markdown",
   "metadata": {},
   "source": [
    "**Вывод:**\n",
    "По графику хорошо видно, что подавляющее большинство пользователей имеют по 1 заказу, до 100 пользователей имеют 2 заказа, до 10 пользоваелей имеют 3 заказа, и 4 и более заказов имеют всего несколько пользователей."
   ]
  },
  {
   "cell_type": "markdown",
   "metadata": {},
   "source": [
    "### 95-й и 99-й перцентили количества заказов на пользователя. Граница для определения аномальных пользователей."
   ]
  },
  {
   "cell_type": "code",
   "execution_count": 39,
   "metadata": {},
   "outputs": [
    {
     "name": "stdout",
     "output_type": "stream",
     "text": [
      "[2. 4.]\n"
     ]
    }
   ],
   "source": [
    "# Методом np.percentile('column', [percentile1, percentile2, percentile3]) находим перцентили\n",
    "print(np.percentile(orders_by_users['count_orders'], [95, 99]))"
   ]
  },
  {
   "cell_type": "markdown",
   "metadata": {},
   "source": [
    "**Вывод:**\n",
    "В наших данных не более 5% пользователей имеют 2 и более заказа, и не более 1% пользователей имеют 4 и более заказа.\n",
    "Значит можем брать 4 заказа за верхнюю границу количества заказов на пользователя, всё что больше можно считать редкими аномальными значениями. Это безусловно лучшие покупатели, но для А/Б теста их лучше не считать. Для них эффективнее всего сделать отдельную VIP категорию со специальными предложениями."
   ]
  },
  {
   "cell_type": "markdown",
   "metadata": {},
   "source": [
    "### Точечный график стоимостей заказов"
   ]
  },
  {
   "cell_type": "code",
   "execution_count": 40,
   "metadata": {},
   "outputs": [
    {
     "data": {
      "text/html": [
       "<div>\n",
       "<style scoped>\n",
       "    .dataframe tbody tr th:only-of-type {\n",
       "        vertical-align: middle;\n",
       "    }\n",
       "\n",
       "    .dataframe tbody tr th {\n",
       "        vertical-align: top;\n",
       "    }\n",
       "\n",
       "    .dataframe thead th {\n",
       "        text-align: right;\n",
       "    }\n",
       "</style>\n",
       "<table border=\"1\" class=\"dataframe\">\n",
       "  <thead>\n",
       "    <tr style=\"text-align: right;\">\n",
       "      <th></th>\n",
       "      <th>transaction_id</th>\n",
       "      <th>visitor_id</th>\n",
       "      <th>date</th>\n",
       "      <th>revenue</th>\n",
       "      <th>group</th>\n",
       "    </tr>\n",
       "  </thead>\n",
       "  <tbody>\n",
       "    <tr>\n",
       "      <th>425</th>\n",
       "      <td>590470918</td>\n",
       "      <td>1920142716</td>\n",
       "      <td>2019-08-19</td>\n",
       "      <td>1294500</td>\n",
       "      <td>B</td>\n",
       "    </tr>\n",
       "    <tr>\n",
       "      <th>1196</th>\n",
       "      <td>3936777065</td>\n",
       "      <td>2108080724</td>\n",
       "      <td>2019-08-15</td>\n",
       "      <td>202740</td>\n",
       "      <td>B</td>\n",
       "    </tr>\n",
       "    <tr>\n",
       "      <th>858</th>\n",
       "      <td>192721366</td>\n",
       "      <td>1316129916</td>\n",
       "      <td>2019-08-27</td>\n",
       "      <td>93940</td>\n",
       "      <td>A</td>\n",
       "    </tr>\n",
       "    <tr>\n",
       "      <th>1136</th>\n",
       "      <td>666610489</td>\n",
       "      <td>1307669133</td>\n",
       "      <td>2019-08-13</td>\n",
       "      <td>92550</td>\n",
       "      <td>A</td>\n",
       "    </tr>\n",
       "    <tr>\n",
       "      <th>744</th>\n",
       "      <td>3668308183</td>\n",
       "      <td>888512513</td>\n",
       "      <td>2019-08-27</td>\n",
       "      <td>86620</td>\n",
       "      <td>B</td>\n",
       "    </tr>\n",
       "    <tr>\n",
       "      <th>682</th>\n",
       "      <td>1216533772</td>\n",
       "      <td>4266935830</td>\n",
       "      <td>2019-08-29</td>\n",
       "      <td>78990</td>\n",
       "      <td>B</td>\n",
       "    </tr>\n",
       "    <tr>\n",
       "      <th>662</th>\n",
       "      <td>1811671147</td>\n",
       "      <td>4266935830</td>\n",
       "      <td>2019-08-29</td>\n",
       "      <td>78990</td>\n",
       "      <td>A</td>\n",
       "    </tr>\n",
       "    <tr>\n",
       "      <th>743</th>\n",
       "      <td>3603576309</td>\n",
       "      <td>4133034833</td>\n",
       "      <td>2019-08-09</td>\n",
       "      <td>67990</td>\n",
       "      <td>A</td>\n",
       "    </tr>\n",
       "    <tr>\n",
       "      <th>1103</th>\n",
       "      <td>1348774318</td>\n",
       "      <td>1164614297</td>\n",
       "      <td>2019-08-12</td>\n",
       "      <td>66350</td>\n",
       "      <td>A</td>\n",
       "    </tr>\n",
       "    <tr>\n",
       "      <th>1099</th>\n",
       "      <td>316924019</td>\n",
       "      <td>148427295</td>\n",
       "      <td>2019-08-12</td>\n",
       "      <td>65710</td>\n",
       "      <td>A</td>\n",
       "    </tr>\n",
       "    <tr>\n",
       "      <th>949</th>\n",
       "      <td>1347999392</td>\n",
       "      <td>887908475</td>\n",
       "      <td>2019-08-21</td>\n",
       "      <td>60450</td>\n",
       "      <td>A</td>\n",
       "    </tr>\n",
       "    <tr>\n",
       "      <th>940</th>\n",
       "      <td>2420050534</td>\n",
       "      <td>4003628586</td>\n",
       "      <td>2019-08-08</td>\n",
       "      <td>58550</td>\n",
       "      <td>B</td>\n",
       "    </tr>\n",
       "    <tr>\n",
       "      <th>1029</th>\n",
       "      <td>469609643</td>\n",
       "      <td>2378935119</td>\n",
       "      <td>2019-08-10</td>\n",
       "      <td>58220</td>\n",
       "      <td>A</td>\n",
       "    </tr>\n",
       "    <tr>\n",
       "      <th>873</th>\n",
       "      <td>2519737434</td>\n",
       "      <td>4256040402</td>\n",
       "      <td>2019-08-08</td>\n",
       "      <td>58220</td>\n",
       "      <td>B</td>\n",
       "    </tr>\n",
       "    <tr>\n",
       "      <th>60</th>\n",
       "      <td>1421016313</td>\n",
       "      <td>4256040402</td>\n",
       "      <td>2019-08-16</td>\n",
       "      <td>56650</td>\n",
       "      <td>B</td>\n",
       "    </tr>\n",
       "    <tr>\n",
       "      <th>613</th>\n",
       "      <td>4071177889</td>\n",
       "      <td>3931967268</td>\n",
       "      <td>2019-08-07</td>\n",
       "      <td>53904</td>\n",
       "      <td>B</td>\n",
       "    </tr>\n",
       "    <tr>\n",
       "      <th>287</th>\n",
       "      <td>587872075</td>\n",
       "      <td>2254456485</td>\n",
       "      <td>2019-08-24</td>\n",
       "      <td>53904</td>\n",
       "      <td>A</td>\n",
       "    </tr>\n",
       "    <tr>\n",
       "      <th>131</th>\n",
       "      <td>3163614039</td>\n",
       "      <td>2254586615</td>\n",
       "      <td>2019-08-22</td>\n",
       "      <td>53904</td>\n",
       "      <td>A</td>\n",
       "    </tr>\n",
       "    <tr>\n",
       "      <th>1142</th>\n",
       "      <td>3815014015</td>\n",
       "      <td>2606908679</td>\n",
       "      <td>2019-08-13</td>\n",
       "      <td>52900</td>\n",
       "      <td>B</td>\n",
       "    </tr>\n",
       "    <tr>\n",
       "      <th>1006</th>\n",
       "      <td>1861540412</td>\n",
       "      <td>2261934787</td>\n",
       "      <td>2019-08-10</td>\n",
       "      <td>52900</td>\n",
       "      <td>A</td>\n",
       "    </tr>\n",
       "  </tbody>\n",
       "</table>\n",
       "</div>"
      ],
      "text/plain": [
       "      transaction_id  visitor_id       date  revenue group\n",
       "425        590470918  1920142716 2019-08-19  1294500     B\n",
       "1196      3936777065  2108080724 2019-08-15   202740     B\n",
       "858        192721366  1316129916 2019-08-27    93940     A\n",
       "1136       666610489  1307669133 2019-08-13    92550     A\n",
       "744       3668308183   888512513 2019-08-27    86620     B\n",
       "682       1216533772  4266935830 2019-08-29    78990     B\n",
       "662       1811671147  4266935830 2019-08-29    78990     A\n",
       "743       3603576309  4133034833 2019-08-09    67990     A\n",
       "1103      1348774318  1164614297 2019-08-12    66350     A\n",
       "1099       316924019   148427295 2019-08-12    65710     A\n",
       "949       1347999392   887908475 2019-08-21    60450     A\n",
       "940       2420050534  4003628586 2019-08-08    58550     B\n",
       "1029       469609643  2378935119 2019-08-10    58220     A\n",
       "873       2519737434  4256040402 2019-08-08    58220     B\n",
       "60        1421016313  4256040402 2019-08-16    56650     B\n",
       "613       4071177889  3931967268 2019-08-07    53904     B\n",
       "287        587872075  2254456485 2019-08-24    53904     A\n",
       "131       3163614039  2254586615 2019-08-22    53904     A\n",
       "1142      3815014015  2606908679 2019-08-13    52900     B\n",
       "1006      1861540412  2261934787 2019-08-10    52900     A"
      ]
     },
     "execution_count": 40,
     "metadata": {},
     "output_type": "execute_result"
    }
   ],
   "source": [
    "# Посмотрим топ-20 заказов с самой большой суммой\n",
    "orders.sort_values(by='revenue', ascending=False).head(20)"
   ]
  },
  {
   "cell_type": "markdown",
   "metadata": {},
   "source": [
    "Мы нашли один очень дорогой заказ свыше 1 млн рублей, 1 заказ свыше 200 тыс рублей и свего около 10-ка заказов от 60 до 100 тыс рублей.\n",
    "Наши данные явно содержат аномальные значения, установим границы аномалий, отбросим два самых дорогих заказа."
   ]
  },
  {
   "cell_type": "code",
   "execution_count": 41,
   "metadata": {},
   "outputs": [
    {
     "data": {
      "image/png": "[encoded data removed]",
      "text/plain": [
       "<Figure size 720x432 with 1 Axes>"
      ]
     },
     "metadata": {
      "needs_background": "light"
     },
     "output_type": "display_data"
    }
   ],
   "source": [
    "# строим точечный график стоимостей заказов\n",
    "x_values = pd.Series(range(0,len(orders['revenue'])))\n",
    "plt.figure(figsize=(10, 6))\n",
    "plt.scatter(x_values, orders['revenue'], alpha=0.3)\n",
    "plt.ylim(0, 100000)\n",
    "plt.title('Точечный график распределения стоимостей заказов', fontsize=14)\n",
    "plt.ylabel('Стоимость заказа, руб.', fontsize=12)\n",
    "plt.show()"
   ]
  },
  {
   "cell_type": "markdown",
   "metadata": {},
   "source": [
    "### 95-й и 99-й перцентили стоимости заказов. Границу для определения аномальных заказов."
   ]
  },
  {
   "cell_type": "code",
   "execution_count": 42,
   "metadata": {},
   "outputs": [
    {
     "data": {
      "image/png": "[encoded data removed]",
      "text/plain": [
       "<Figure size 432x288 with 1 Axes>"
      ]
     },
     "metadata": {
      "needs_background": "light"
     },
     "output_type": "display_data"
    }
   ],
   "source": [
    "# Диаграмма размаха дохода\n",
    "orders.boxplot(column='revenue')\n",
    "plt.show()"
   ]
  },
  {
   "cell_type": "code",
   "execution_count": 43,
   "metadata": {},
   "outputs": [
    {
     "name": "stdout",
     "output_type": "stream",
     "text": [
      "[28000.  58233.2]\n"
     ]
    }
   ],
   "source": [
    "# Методом np.percentile('column', [percentile1, percentile2, percentile3]) находим перцентили\n",
    "print(np.percentile(orders['revenue'], [95, 99]))"
   ]
  },
  {
   "cell_type": "markdown",
   "metadata": {},
   "source": [
    "**Вывод:**\n",
    "В наших данных не более 5% заказов имеют сумму свыше 28 тыс рублей, и не более 1% заказов имеют сумму свыше 58 тыс рублей. Отсекаем эти заказы для анализа. Большинство заказов имеют сумму до 28 тыс рублей."
   ]
  },
  {
   "cell_type": "markdown",
   "metadata": {},
   "source": [
    "### Стат. значимость различий в среднем количестве заказов на посетителя между группами по «сырым» данным"
   ]
  },
  {
   "cell_type": "markdown",
   "metadata": {},
   "source": [
    "Посчитаем статистическую значимость различий в среднем числе заказов на пользователя и среднем чеке между группами по «сырым» данным — без удаления аномальных пользователей.\n",
    "\n",
    "Сформулируем гипотезы. Нулевая: разколичествеличий в среднем заказов между группами нет. Альтернативная: различия в среднем между группами есть."
   ]
  },
  {
   "cell_type": "code",
   "execution_count": 44,
   "metadata": {},
   "outputs": [
    {
     "data": {
      "text/html": [
       "<div>\n",
       "<style scoped>\n",
       "    .dataframe tbody tr th:only-of-type {\n",
       "        vertical-align: middle;\n",
       "    }\n",
       "\n",
       "    .dataframe tbody tr th {\n",
       "        vertical-align: top;\n",
       "    }\n",
       "\n",
       "    .dataframe thead th {\n",
       "        text-align: right;\n",
       "    }\n",
       "</style>\n",
       "<table border=\"1\" class=\"dataframe\">\n",
       "  <thead>\n",
       "    <tr style=\"text-align: right;\">\n",
       "      <th></th>\n",
       "      <th>date</th>\n",
       "      <th>orders_per_date_a</th>\n",
       "      <th>revenue_per_date_a</th>\n",
       "      <th>orders_per_date_b</th>\n",
       "      <th>revenue_per_date_b</th>\n",
       "      <th>orders_cummulative_a</th>\n",
       "      <th>revenue_cummulative_a</th>\n",
       "      <th>orders_cummulative_b</th>\n",
       "      <th>revenue_cummulative_b</th>\n",
       "      <th>visitors_per_date_a</th>\n",
       "      <th>visitors_per_date_b</th>\n",
       "      <th>visitors_cummulative_a</th>\n",
       "      <th>visitors_cummulative_b</th>\n",
       "    </tr>\n",
       "  </thead>\n",
       "  <tbody>\n",
       "    <tr>\n",
       "      <th>0</th>\n",
       "      <td>2019-08-01</td>\n",
       "      <td>24</td>\n",
       "      <td>148579</td>\n",
       "      <td>21</td>\n",
       "      <td>101217</td>\n",
       "      <td>24</td>\n",
       "      <td>148579</td>\n",
       "      <td>21</td>\n",
       "      <td>101217</td>\n",
       "      <td>719</td>\n",
       "      <td>713</td>\n",
       "      <td>719</td>\n",
       "      <td>713</td>\n",
       "    </tr>\n",
       "    <tr>\n",
       "      <th>1</th>\n",
       "      <td>2019-08-02</td>\n",
       "      <td>20</td>\n",
       "      <td>93822</td>\n",
       "      <td>24</td>\n",
       "      <td>165531</td>\n",
       "      <td>44</td>\n",
       "      <td>242401</td>\n",
       "      <td>45</td>\n",
       "      <td>266748</td>\n",
       "      <td>619</td>\n",
       "      <td>581</td>\n",
       "      <td>1338</td>\n",
       "      <td>1294</td>\n",
       "    </tr>\n",
       "    <tr>\n",
       "      <th>2</th>\n",
       "      <td>2019-08-03</td>\n",
       "      <td>24</td>\n",
       "      <td>112473</td>\n",
       "      <td>16</td>\n",
       "      <td>114248</td>\n",
       "      <td>68</td>\n",
       "      <td>354874</td>\n",
       "      <td>61</td>\n",
       "      <td>380996</td>\n",
       "      <td>507</td>\n",
       "      <td>509</td>\n",
       "      <td>1845</td>\n",
       "      <td>1803</td>\n",
       "    </tr>\n",
       "    <tr>\n",
       "      <th>3</th>\n",
       "      <td>2019-08-04</td>\n",
       "      <td>16</td>\n",
       "      <td>70825</td>\n",
       "      <td>17</td>\n",
       "      <td>108571</td>\n",
       "      <td>84</td>\n",
       "      <td>425699</td>\n",
       "      <td>78</td>\n",
       "      <td>489567</td>\n",
       "      <td>717</td>\n",
       "      <td>770</td>\n",
       "      <td>2562</td>\n",
       "      <td>2573</td>\n",
       "    </tr>\n",
       "    <tr>\n",
       "      <th>4</th>\n",
       "      <td>2019-08-05</td>\n",
       "      <td>25</td>\n",
       "      <td>124218</td>\n",
       "      <td>23</td>\n",
       "      <td>92428</td>\n",
       "      <td>109</td>\n",
       "      <td>549917</td>\n",
       "      <td>101</td>\n",
       "      <td>581995</td>\n",
       "      <td>756</td>\n",
       "      <td>707</td>\n",
       "      <td>3318</td>\n",
       "      <td>3280</td>\n",
       "    </tr>\n",
       "  </tbody>\n",
       "</table>\n",
       "</div>"
      ],
      "text/plain": [
       "        date  orders_per_date_a  revenue_per_date_a  orders_per_date_b  \\\n",
       "0 2019-08-01                 24              148579                 21   \n",
       "1 2019-08-02                 20               93822                 24   \n",
       "2 2019-08-03                 24              112473                 16   \n",
       "3 2019-08-04                 16               70825                 17   \n",
       "4 2019-08-05                 25              124218                 23   \n",
       "\n",
       "   revenue_per_date_b  orders_cummulative_a  revenue_cummulative_a  \\\n",
       "0              101217                    24                 148579   \n",
       "1              165531                    44                 242401   \n",
       "2              114248                    68                 354874   \n",
       "3              108571                    84                 425699   \n",
       "4               92428                   109                 549917   \n",
       "\n",
       "   orders_cummulative_b  revenue_cummulative_b  visitors_per_date_a  \\\n",
       "0                    21                 101217                  719   \n",
       "1                    45                 266748                  619   \n",
       "2                    61                 380996                  507   \n",
       "3                    78                 489567                  717   \n",
       "4                   101                 581995                  756   \n",
       "\n",
       "   visitors_per_date_b  visitors_cummulative_a  visitors_cummulative_b  \n",
       "0                  713                     719                     713  \n",
       "1                  581                    1338                    1294  \n",
       "2                  509                    1845                    1803  \n",
       "3                  770                    2562                    2573  \n",
       "4                  707                    3318                    3280  "
      ]
     },
     "execution_count": 44,
     "metadata": {},
     "output_type": "execute_result"
    }
   ],
   "source": [
    "# расчет количества пользователей в выбранную дату в группе А\n",
    "visitors_a_daily = visitors[visitors['group'] == 'A'][['date', 'visitors']]\n",
    "visitors_a_daily.columns = ['date', 'visitors_per_date_a']\n",
    "\n",
    "# расчет количества пользователей до выбранной даты включительно в группе А\n",
    "visitors_a_cummulative = visitors_a_daily.apply(\n",
    "    lambda x: visitors_a_daily[visitors_a_daily['date'] <= x['date']].agg(\n",
    "        {'date': 'max', 'visitors_per_date_a': 'sum'}\n",
    "    ),\n",
    "    axis=1,\n",
    ")\n",
    "visitors_a_cummulative.columns = ['date', 'visitors_cummulative_a']\n",
    "\n",
    "# расчет количества пользователей в выбранную дату в группе В\n",
    "visitors_b_daily = visitors[visitors['group'] == 'B'][['date', 'visitors']]\n",
    "visitors_b_daily.columns = ['date', 'visitors_per_date_b']\n",
    "\n",
    "# расчет количества пользователей до выбранной даты включительно в группе В\n",
    "visitors_b_cummulative = visitors_b_daily.apply(\n",
    "    lambda x: visitors_b_daily[visitors_b_daily['date'] <= x['date']].agg(\n",
    "        {'date': 'max', 'visitors_per_date_b': 'sum'}\n",
    "    ),\n",
    "    axis=1,\n",
    ")\n",
    "visitors_b_cummulative.columns = ['date', 'visitors_cummulative_b']\n",
    "\n",
    "# расчет количества заказов и суммарной выручки в выбранную дату в группе A\n",
    "orders_a_daily = (\n",
    "    orders[orders['group'] == 'A'][['date', 'transaction_id', 'visitor_id', 'revenue']]\n",
    "    .groupby('date', as_index=False)\n",
    "    .agg({'transaction_id': pd.Series.nunique, 'revenue': 'sum'})\n",
    ")\n",
    "orders_a_daily.columns = ['date', 'orders_per_date_a', 'revenue_per_date_a']\n",
    "\n",
    "# расчет суммарного числа заказов до выбранной даты включительно в группе A\n",
    "orders_a_cummulative = orders_a_daily.apply(\n",
    "    lambda x: orders_a_daily[orders_a_daily['date'] <= x['date']].agg(\n",
    "        {'date': 'max', 'orders_per_date_a': 'sum', 'revenue_per_date_a': 'sum'}\n",
    "    ),\n",
    "    axis=1,\n",
    ").sort_values(by=['date'])\n",
    "orders_a_cummulative.columns = [\n",
    "    'date',\n",
    "    'orders_cummulative_a',\n",
    "    'revenue_cummulative_a',\n",
    "]\n",
    "\n",
    "# расчет количества заказов и суммарной выручки в выбранную дату в группе В\n",
    "orders_b_daily = (\n",
    "    orders[orders['group'] == 'B'][['date', 'transaction_id', 'visitor_id', 'revenue']]\n",
    "    .groupby('date', as_index=False)\n",
    "    .agg({'transaction_id': pd.Series.nunique, 'revenue': 'sum'})\n",
    ")\n",
    "orders_b_daily.columns = ['date', 'orders_per_date_b', 'revenue_per_date_b']\n",
    "\n",
    "# расчет суммарного числа заказов до выбранной даты включительно в группе В\n",
    "orders_b_cummulative = orders_b_daily.apply(\n",
    "    lambda x: orders_b_daily[orders_b_daily['date'] <= x['date']].agg(\n",
    "        {'date': 'max', 'orders_per_date_b': 'sum', 'revenue_per_date_b': 'sum'}\n",
    "    ),\n",
    "    axis=1,\n",
    ").sort_values(by=['date'])\n",
    "orders_b_cummulative.columns = [\n",
    "    'date',\n",
    "    'orders_cummulative_b',\n",
    "    'revenue_cummulative_b',\n",
    "]\n",
    "\n",
    "# объединение датафреймов в один общий\n",
    "data = (\n",
    "    orders_a_daily.merge(\n",
    "        orders_b_daily, left_on='date', right_on='date', how='left'\n",
    "    )\n",
    "    .merge(orders_a_cummulative, left_on='date', right_on='date', how='left')\n",
    "    .merge(orders_b_cummulative, left_on='date', right_on='date', how='left')\n",
    "    .merge(visitors_a_daily, left_on='date', right_on='date', how='left')\n",
    "    .merge(visitors_b_daily, left_on='date', right_on='date', how='left')\n",
    "    .merge(visitors_a_cummulative, left_on='date', right_on='date', how='left')\n",
    "    .merge(visitors_b_cummulative, left_on='date', right_on='date', how='left')\n",
    ")\n",
    "\n",
    "data.head()"
   ]
  },
  {
   "cell_type": "markdown",
   "metadata": {},
   "source": [
    "Напомним названия столбцов данных:\n",
    "* date - дата;\n",
    "* orders_per_date_a - количество заказов в выбранную дату в группе A;\n",
    "* revenue_per_date_a - суммарная выручка в выбранную дату в группе A;\n",
    "* orders_per_date_b - количество заказов в выбранную дату в группе B;\n",
    "* revenue_per_date_b - суммарная выручка в выбранную дату в группе B;\n",
    "* orders_cummulative_a - суммарное число заказов до выбранной даты включительно в группе A;\n",
    "* revenue_cummulative_a - суммарная выручка до выбранной даты включительно в группе A;\n",
    "* orders_cummulative_b - суммарное число заказов до выбранной даты включительно в группе B;\n",
    "* revenue_cummulative_b - суммарная выручка до выбранной даты включительно в группе B;\n",
    "* visitors_per_date_a - количество пользователей в выбранную дату в группе A;\n",
    "* visitors_cummulative_a - количество пользователей до выбранной даты включительно в группе A;\n",
    "* visitors_per_date_b - количество пользователей в выбранную дату в группе B;\n",
    "* visitors_cummulative_b - количество пользователей до выбранной даты включительно в группе B."
   ]
  },
  {
   "cell_type": "markdown",
   "metadata": {},
   "source": [
    "Посчитаем статистическую значимость различия в среднем количестве заказов между группами.\n",
    "\n",
    "Создадим переменные orders_by_users_a и orders_by_users_b со столбцами ['userId', 'orders']. В них для пользователей, которые заказывали хотя бы 1 раз, укажем число совершённых заказов. "
   ]
  },
  {
   "cell_type": "code",
   "execution_count": 45,
   "metadata": {},
   "outputs": [
    {
     "name": "stdout",
     "output_type": "stream",
     "text": [
      "p-value = 0.017\n",
      "Относительное различие в средней конверсии между группами по «сырым» данным: 0.138\n"
     ]
    }
   ],
   "source": [
    "# формирование датафреймов в которых указано число совершённых заказов\n",
    "# для пользователей, которые заказывали хотя бы 1 раз\n",
    "orders_by_users_a = (\n",
    "    orders[orders['group'] == 'A']\n",
    "    .groupby('visitor_id', as_index=False)\n",
    "    .agg({'transaction_id': pd.Series.nunique})\n",
    ")\n",
    "orders_by_users_a.columns = ['visitor_id', 'orders']\n",
    "\n",
    "orders_by_users_b = (\n",
    "    orders[orders['group'] == 'B']\n",
    "    .groupby('visitor_id', as_index=False)\n",
    "    .agg({'transaction_id': pd.Series.nunique})\n",
    ")\n",
    "orders_by_users_b.columns = ['visitor_id', 'orders']\n",
    "\n",
    "# формирование переменных в которых пользователям с заказами\n",
    "# будет соответствовать число заказов пользователя,\n",
    "# а пользователям без заказов — нули\n",
    "sample_a = pd.concat([orders_by_users_a['orders'],\n",
    "                      pd.Series(0, index=np.arange(\n",
    "                          data['visitors_per_date_a'].sum() -\n",
    "                          len(orders_by_users_a['orders'])), name='orders')], axis=0)\n",
    "\n",
    "sample_b = pd.concat([orders_by_users_b['orders'],\n",
    "                      pd.Series(0, index=np.arange(\n",
    "                          data['visitors_per_date_b'].sum() -\n",
    "                          len(orders_by_users_b['orders'])), name='orders')], axis=0)\n",
    "\n",
    "# рассчет статистической значимости различия конверсии по результатам теста Манна-Уитни\n",
    "print('p-value =', '{0:.3f}'.format(stats.mannwhitneyu(sample_a, sample_b)[1]))\n",
    "\n",
    "# рассчет относительного различия в конверсии между группами\n",
    "print('Относительное различие в средней конверсии между группами по «сырым» данным:',\n",
    "      '{0:.3f}'.format(sample_b.mean() / sample_a.mean() - 1))"
   ]
  },
  {
   "cell_type": "markdown",
   "metadata": {},
   "source": [
    "**Вывод:**\n",
    "p-value = 0.017, что меньше 0.05. Значит нулевую гипотезу об отсутствии различий по «сырым» данным в конверсии между группами можно отвергнуть. Средняя конверсия группы В больше средней конверсии группы А."
   ]
  },
  {
   "cell_type": "markdown",
   "metadata": {},
   "source": [
    "### Стат. значимость различий в среднем чеке заказа между группами по «сырым» данным"
   ]
  },
  {
   "cell_type": "markdown",
   "metadata": {},
   "source": [
    "Сформулируем гипотезы:\n",
    "\n",
    "*H₀* - различий в среднем чеке между группами нет; *H₁* - различия в среднем чеке между группами есть.\n",
    "\n",
    "Чтобы рассчитать статистическую значимость различий в среднем чеке, передадим критерию mannwhitneyu() данные о выручке с заказов. Найдём относительные различия в среднем чеке между группами."
   ]
  },
  {
   "cell_type": "code",
   "execution_count": 46,
   "metadata": {},
   "outputs": [
    {
     "name": "stdout",
     "output_type": "stream",
     "text": [
      "p-value = 0.729\n",
      "Относительное различие в среднем чеке между группами по «сырым» данным: 0.259\n"
     ]
    }
   ],
   "source": [
    "# рассчет статистической значимости различия среднего чека по результатам теста Манна-Уитни\n",
    "print('p-value =', '{0:.3f}'.format(stats.mannwhitneyu(\n",
    "    orders[orders['group']=='A']['revenue'],\n",
    "    orders[orders['group']=='B']['revenue'])[1]))\n",
    "\n",
    "# рассчет относительного различия в среднем чеке между группами\n",
    "print('Относительное различие в среднем чеке между группами по «сырым» данным:',\n",
    "      '{0:.3f}'.format(\n",
    "          orders[orders['group']=='B']['revenue'].mean()/\n",
    "          orders[orders['group']=='A']['revenue'].mean()-1)) "
   ]
  },
  {
   "cell_type": "markdown",
   "metadata": {},
   "source": [
    "**Вывод:**\n",
    "p-value = 0.729, что больше 0.05. Значит, что причин отвергать нулевую гипотезу и считать, что в среднем чеке есть различия, нет. Средний чек группы В сильно больше среднего чека группы А."
   ]
  },
  {
   "cell_type": "markdown",
   "metadata": {},
   "source": [
    "### Стат. значимость различий в среднем количестве заказов на посетителя между группами по «очищенным» данным"
   ]
  },
  {
   "cell_type": "markdown",
   "metadata": {},
   "source": [
    "Ранее мы нашли, что 95-й и 99-й перцентили средних чеков равны 28 000 и 58 233 рублям. А 95-й и 99-й перцентили количества заказов на одного пользователя равны 2 и 4 заказам на пользователя.\n",
    "\n",
    "Возьмем за аномальных пользователей тех, кто совершил от 2 заказов или совершил заказ дороже 28 000 рублей и запишем это в переменных many_orders и expensive_orders. Тем самым мы уберём 5% пользователей с наибольшим числом заказов и от 1% до 5% пользователей с дорогими заказами. Сделаем срезы пользователей с числом заказов больше 2 — users_with_many_orders и пользователей, совершивших заказы дороже 28 000 — users_with_expensive_orders. Объединим их в таблице abnormal_users. А также узнаем, сколько всего аномальных пользователей методом shape()."
   ]
  },
  {
   "cell_type": "code",
   "execution_count": 47,
   "metadata": {},
   "outputs": [
    {
     "name": "stdout",
     "output_type": "stream",
     "text": [
      "1099     148427295\n",
      "949      887908475\n",
      "744      888512513\n",
      "1103    1164614297\n",
      "1136    1307669133\n",
      "Name: visitor_id, dtype: int64\n",
      "\n",
      "\n",
      "Количество аномальных пользователей: 15\n"
     ]
    }
   ],
   "source": [
    "many_orders = np.percentile(orders_by_users['count_orders'], 99)\n",
    "expensive_orders = np.percentile(orders['revenue'], 99)\n",
    "users_with_many_orders = pd.concat([\n",
    "    orders_by_users_a[orders_by_users_a['orders'] > many_orders]['visitor_id'],\n",
    "    orders_by_users_b[orders_by_users_b['orders'] > many_orders]['visitor_id']], axis=0)\n",
    "users_with_expensive_orders = orders[orders['revenue'] > expensive_orders]['visitor_id']\n",
    "abnormal_users = (pd.concat([\n",
    "    users_with_many_orders,\n",
    "    users_with_expensive_orders], axis=0)\n",
    "                  .drop_duplicates()\n",
    "                  .sort_values())\n",
    "\n",
    "print(abnormal_users.head())\n",
    "print('\\n')\n",
    "print('Количество аномальных пользователей:', abnormal_users.shape[0])"
   ]
  },
  {
   "cell_type": "markdown",
   "metadata": {},
   "source": [
    "**Вывод:**\n",
    "Нужно понять, как эти 15 пользователей могли повлиять на результаты теста. Посчитаем статистическую значимость различий в конверсии между группами теста по очищенным данным. "
   ]
  },
  {
   "cell_type": "markdown",
   "metadata": {},
   "source": [
    "Гипотезы:\n",
    "H₀ - различий в конверсии между группами нет;\n",
    "H₁ - различия в конверсии между группами есть."
   ]
  },
  {
   "cell_type": "code",
   "execution_count": 48,
   "metadata": {},
   "outputs": [
    {
     "name": "stdout",
     "output_type": "stream",
     "text": [
      "p-value = 0.014\n",
      "Относительное различие в средней конверсии между группами по «очищенным» данным: 0.153\n"
     ]
    }
   ],
   "source": [
    "sample_a_filtered = pd.concat([\n",
    "    orders_by_users_a[np.logical_not(\n",
    "        orders_by_users_a['visitor_id']\n",
    "        .isin(abnormal_users))]['orders'],\n",
    "    pd.Series(0, index=np.arange(data['visitors_per_date_a'].sum() -\n",
    "                                 len(orders_by_users_a['orders'])), name='orders')], axis=0)\n",
    "\n",
    "sample_b_filtered = pd.concat([\n",
    "    orders_by_users_b[np.logical_not(\n",
    "        orders_by_users_b['visitor_id']\n",
    "        .isin(abnormal_users))]['orders'],\n",
    "    pd.Series(0, index=np.arange(data['visitors_per_date_b'].sum() -\n",
    "                                 len(orders_by_users_b['orders'])), name='orders')], axis=0)\n",
    "\n",
    "# рассчет статистической значимости различия конверсии по результатам теста Манна-Уитни\n",
    "print('p-value =', '{0:.3f}'.format(stats.mannwhitneyu(sample_a_filtered, sample_b_filtered)[1]))\n",
    "\n",
    "# рассчет относительного различия в конверсии между группами\n",
    "print('Относительное различие в средней конверсии между группами по «очищенным» данным:',\n",
    "      '{0:.3f}'.format(sample_b_filtered.mean()/sample_a_filtered.mean()-1))"
   ]
  },
  {
   "cell_type": "markdown",
   "metadata": {},
   "source": [
    "**Вывод:**\n",
    "p-value = 0.014, что меньше 0.05. Это означает, что нулевую гипотезу об отсутствии различий по «очищенным» данным в конверсии между группами можно отвергнуть. По «сырым» данным p-value был равен 0.017. Средняя конверсия группы В больше средней конверсии группы А. Относительное различие в конверсии между группами по «сырым» данным было равно 0.153. Результаты по «очищенным» данным незначительно отличаются от результатов по «сырым» данным."
   ]
  },
  {
   "cell_type": "markdown",
   "metadata": {},
   "source": [
    "### Стат. значимость различий в среднем чеке заказа между группами по «очищенным» данным. "
   ]
  },
  {
   "cell_type": "markdown",
   "metadata": {},
   "source": [
    "Сформулируем гипотезы:\n",
    "\n",
    "H₀ - различий в среднем чеке между группами нет; H₁ - различия в среднем чеке между группами есть.\n",
    "\n",
    "Передадим критерию mannwhitneyu() данные о выручке с заказов без учета аномальных пользователей и также найдём относительные различия в среднем чеке между группами."
   ]
  },
  {
   "cell_type": "code",
   "execution_count": 49,
   "metadata": {},
   "outputs": [
    {
     "name": "stdout",
     "output_type": "stream",
     "text": [
      "p-value = 0.851\n",
      "Относительное различие в среднем чеке между группами по «очищенным» данным: -0.006\n"
     ]
    }
   ],
   "source": [
    "print('p-value =',\n",
    "      '{0:.3f}'.format(stats.mannwhitneyu(\n",
    "    orders[np.logical_and(\n",
    "        orders['group'] == 'A',\n",
    "        np.logical_not(orders['visitor_id']\n",
    "                       .isin(abnormal_users)))]['revenue'], \n",
    "    orders[np.logical_and(\n",
    "        orders['group'] == 'B',\n",
    "        np.logical_not(orders['visitor_id']\n",
    "                       .isin(abnormal_users)))]['revenue'])[1]))\n",
    "\n",
    "print('Относительное различие в среднем чеке между группами по «очищенным» данным:',\n",
    "      '{0:.3f}'.format(\n",
    "    orders[np.logical_and(\n",
    "        orders['group'] == 'B',\n",
    "        np.logical_not(orders['visitor_id']\n",
    "                       .isin(abnormal_users)))]['revenue'].mean() /\n",
    "    orders[np.logical_and(\n",
    "        orders['group'] == 'A',\n",
    "        np.logical_not(orders['visitor_id']\n",
    "                       .isin(abnormal_users)))]['revenue'].mean() - 1))"
   ]
  },
  {
   "cell_type": "markdown",
   "metadata": {},
   "source": [
    "**Вывод:**\n",
    "p-value = 0.851, что значительно больше 0.05. Это означает, что причин отвергать нулевую гипотезу и считать, что в среднем чеке по «очищенным» данным есть различия, нет. По «сырым» данным p-value был равен 0.729. Однако по «очищенным» данным средний чек группы А больше среднего чека группы В. По «сырым» данным было наоборот, относительное различие в среднем чеке между группами составляло -0.006."
   ]
  },
  {
   "cell_type": "markdown",
   "metadata": {},
   "source": [
    "## Вывод решение по результатам теста"
   ]
  },
  {
   "cell_type": "markdown",
   "metadata": {},
   "source": [
    "По результатам проведенного анализа А/В теста, нельзя принимать решение поскольку оно может быть ошибочным. <br>\n",
    "Изначально не был проведен А/А тест, не было проверки на правильность деления пользователей на группы, в результате чего 58 пользователей, а это порядка 10% данных, \"гуляли\" по двум группам, что повлияло на их решение о покупке достоверно сказать нельзя. Проведение А/Б теста никак не повлияло на визиты пользователей на сайт, график посещенеий обоих групп очень схож.\n",
    "В результате я бы рекомендовала остановить этот тест и начать его заново, но проверив базовые принципы и правила проведения А/Б теста."
   ]
  }
 ],
 "metadata": {
  "ExecuteTimeLog": [
   {
    "duration": 4,
    "start_time": "2023-02-21T11:55:46.619Z"
   },
   {
    "duration": 55,
    "start_time": "2023-02-21T11:59:56.811Z"
   },
   {
    "duration": 60,
    "start_time": "2023-02-21T12:11:54.536Z"
   },
   {
    "duration": 3,
    "start_time": "2023-02-21T12:15:13.598Z"
   },
   {
    "duration": 3,
    "start_time": "2023-02-21T12:33:23.822Z"
   },
   {
    "duration": 1449,
    "start_time": "2023-02-21T12:34:42.788Z"
   },
   {
    "duration": 103,
    "start_time": "2023-02-21T12:36:37.799Z"
   },
   {
    "duration": 129,
    "start_time": "2023-02-21T12:39:26.669Z"
   },
   {
    "duration": 64,
    "start_time": "2023-02-21T12:40:43.043Z"
   },
   {
    "duration": 99,
    "start_time": "2023-02-21T13:07:00.779Z"
   },
   {
    "duration": 11,
    "start_time": "2023-02-21T13:07:13.885Z"
   },
   {
    "duration": 11,
    "start_time": "2023-02-21T13:07:52.140Z"
   },
   {
    "duration": 10,
    "start_time": "2023-02-21T13:07:58.020Z"
   },
   {
    "duration": 11,
    "start_time": "2023-02-21T13:09:39.519Z"
   },
   {
    "duration": 12,
    "start_time": "2023-02-21T13:11:13.942Z"
   },
   {
    "duration": 60,
    "start_time": "2023-02-25T07:21:17.733Z"
   },
   {
    "duration": 13,
    "start_time": "2023-02-25T07:21:37.335Z"
   },
   {
    "duration": 1471,
    "start_time": "2023-02-25T07:21:47.160Z"
   },
   {
    "duration": 650,
    "start_time": "2023-02-25T07:21:48.633Z"
   },
   {
    "duration": 0,
    "start_time": "2023-02-25T07:21:49.285Z"
   },
   {
    "duration": 0,
    "start_time": "2023-02-25T07:21:49.286Z"
   },
   {
    "duration": 0,
    "start_time": "2023-02-25T07:21:49.288Z"
   },
   {
    "duration": 0,
    "start_time": "2023-02-25T07:21:49.289Z"
   },
   {
    "duration": 11,
    "start_time": "2023-02-25T07:22:28.750Z"
   },
   {
    "duration": 4,
    "start_time": "2023-02-25T07:22:52.641Z"
   },
   {
    "duration": 82,
    "start_time": "2023-02-25T07:22:56.327Z"
   },
   {
    "duration": 4,
    "start_time": "2023-02-25T07:23:48.200Z"
   },
   {
    "duration": 83,
    "start_time": "2023-02-25T07:23:48.962Z"
   },
   {
    "duration": 9,
    "start_time": "2023-02-25T07:24:57.608Z"
   },
   {
    "duration": 71,
    "start_time": "2023-02-25T07:24:58.679Z"
   },
   {
    "duration": 128,
    "start_time": "2023-02-25T07:25:46.622Z"
   },
   {
    "duration": 110,
    "start_time": "2023-02-25T07:25:49.807Z"
   },
   {
    "duration": 21,
    "start_time": "2023-02-25T07:25:53.540Z"
   },
   {
    "duration": 13,
    "start_time": "2023-02-25T07:25:55.521Z"
   },
   {
    "duration": 64,
    "start_time": "2023-02-25T07:36:49.531Z"
   },
   {
    "duration": 12,
    "start_time": "2023-02-25T07:37:30.037Z"
   },
   {
    "duration": 6,
    "start_time": "2023-02-25T07:38:10.037Z"
   },
   {
    "duration": 5,
    "start_time": "2023-02-25T07:38:36.897Z"
   },
   {
    "duration": 4,
    "start_time": "2023-02-25T07:40:50.286Z"
   },
   {
    "duration": 4,
    "start_time": "2023-02-25T07:41:05.117Z"
   },
   {
    "duration": 4,
    "start_time": "2023-02-25T07:41:26.523Z"
   },
   {
    "duration": 5,
    "start_time": "2023-02-25T07:41:36.430Z"
   },
   {
    "duration": 4,
    "start_time": "2023-02-25T07:42:44.162Z"
   },
   {
    "duration": 5,
    "start_time": "2023-02-25T07:43:14.979Z"
   },
   {
    "duration": 11,
    "start_time": "2023-02-25T07:44:54.611Z"
   },
   {
    "duration": 5,
    "start_time": "2023-02-25T07:47:06.040Z"
   },
   {
    "duration": 8,
    "start_time": "2023-02-25T07:47:35.515Z"
   },
   {
    "duration": 14,
    "start_time": "2023-02-25T07:47:41.142Z"
   },
   {
    "duration": 10,
    "start_time": "2023-02-25T07:48:17.212Z"
   },
   {
    "duration": 5,
    "start_time": "2023-02-25T07:48:23.328Z"
   },
   {
    "duration": 40,
    "start_time": "2023-02-25T07:53:44.395Z"
   },
   {
    "duration": 3,
    "start_time": "2023-02-25T07:54:08.568Z"
   },
   {
    "duration": 4,
    "start_time": "2023-02-25T07:54:16.955Z"
   },
   {
    "duration": 8,
    "start_time": "2023-02-25T07:54:30.468Z"
   },
   {
    "duration": 13,
    "start_time": "2023-02-25T07:55:05.621Z"
   },
   {
    "duration": 11,
    "start_time": "2023-02-25T07:55:44.320Z"
   },
   {
    "duration": 12,
    "start_time": "2023-02-25T07:56:11.091Z"
   },
   {
    "duration": 4,
    "start_time": "2023-02-25T07:56:45.116Z"
   },
   {
    "duration": 1159,
    "start_time": "2023-02-25T07:56:53.304Z"
   },
   {
    "duration": 98,
    "start_time": "2023-02-25T07:56:54.465Z"
   },
   {
    "duration": 3,
    "start_time": "2023-02-25T07:56:54.565Z"
   },
   {
    "duration": 108,
    "start_time": "2023-02-25T07:56:54.570Z"
   },
   {
    "duration": 11,
    "start_time": "2023-02-25T07:56:54.680Z"
   },
   {
    "duration": 7,
    "start_time": "2023-02-25T07:56:54.693Z"
   },
   {
    "duration": 51,
    "start_time": "2023-02-25T07:56:54.702Z"
   },
   {
    "duration": 7,
    "start_time": "2023-02-25T07:56:54.755Z"
   },
   {
    "duration": 5,
    "start_time": "2023-02-25T07:56:54.764Z"
   },
   {
    "duration": 7,
    "start_time": "2023-02-25T07:56:54.771Z"
   },
   {
    "duration": 86,
    "start_time": "2023-02-25T07:56:54.780Z"
   },
   {
    "duration": 11,
    "start_time": "2023-02-25T07:56:54.868Z"
   },
   {
    "duration": 7,
    "start_time": "2023-02-25T07:56:54.881Z"
   },
   {
    "duration": 24,
    "start_time": "2023-02-25T07:56:54.891Z"
   },
   {
    "duration": 16,
    "start_time": "2023-02-25T07:56:54.916Z"
   },
   {
    "duration": 20,
    "start_time": "2023-02-25T07:56:54.934Z"
   },
   {
    "duration": 5,
    "start_time": "2023-02-25T07:56:54.957Z"
   },
   {
    "duration": 14,
    "start_time": "2023-02-25T07:56:54.964Z"
   },
   {
    "duration": 11,
    "start_time": "2023-02-25T07:56:54.981Z"
   },
   {
    "duration": 7,
    "start_time": "2023-02-25T07:59:39.936Z"
   },
   {
    "duration": 8,
    "start_time": "2023-02-25T07:59:57.927Z"
   },
   {
    "duration": 791,
    "start_time": "2023-02-25T08:15:21.747Z"
   },
   {
    "duration": 7,
    "start_time": "2023-02-25T08:15:36.914Z"
   },
   {
    "duration": 4,
    "start_time": "2023-02-25T08:19:41.845Z"
   },
   {
    "duration": 17,
    "start_time": "2023-02-25T08:19:45.522Z"
   },
   {
    "duration": 12,
    "start_time": "2023-02-25T08:20:28.023Z"
   },
   {
    "duration": 8,
    "start_time": "2023-02-25T08:21:37.287Z"
   },
   {
    "duration": 9,
    "start_time": "2023-02-25T08:21:46.766Z"
   },
   {
    "duration": 12,
    "start_time": "2023-02-25T08:22:27.479Z"
   },
   {
    "duration": 10,
    "start_time": "2023-02-25T08:23:00.401Z"
   },
   {
    "duration": 12,
    "start_time": "2023-02-25T08:26:32.475Z"
   },
   {
    "duration": 10,
    "start_time": "2023-02-25T08:34:56.522Z"
   },
   {
    "duration": 49,
    "start_time": "2023-02-25T08:37:24.893Z"
   },
   {
    "duration": 9,
    "start_time": "2023-02-25T08:39:14.933Z"
   },
   {
    "duration": 60,
    "start_time": "2023-02-25T08:40:55.254Z"
   },
   {
    "duration": 8,
    "start_time": "2023-02-25T08:50:34.774Z"
   },
   {
    "duration": 2,
    "start_time": "2023-02-25T09:04:17.013Z"
   },
   {
    "duration": 4,
    "start_time": "2023-02-25T09:24:12.702Z"
   },
   {
    "duration": 4,
    "start_time": "2023-02-25T09:26:30.142Z"
   },
   {
    "duration": 9,
    "start_time": "2023-02-25T09:30:35.833Z"
   },
   {
    "duration": 1167,
    "start_time": "2023-02-25T09:31:07.601Z"
   },
   {
    "duration": 93,
    "start_time": "2023-02-25T09:31:08.771Z"
   },
   {
    "duration": 5,
    "start_time": "2023-02-25T09:31:08.865Z"
   },
   {
    "duration": 104,
    "start_time": "2023-02-25T09:31:08.872Z"
   },
   {
    "duration": 11,
    "start_time": "2023-02-25T09:31:08.977Z"
   },
   {
    "duration": 8,
    "start_time": "2023-02-25T09:31:08.990Z"
   },
   {
    "duration": 11,
    "start_time": "2023-02-25T09:31:08.999Z"
   },
   {
    "duration": 55,
    "start_time": "2023-02-25T09:31:09.012Z"
   },
   {
    "duration": 8,
    "start_time": "2023-02-25T09:31:09.069Z"
   },
   {
    "duration": 4,
    "start_time": "2023-02-25T09:31:09.080Z"
   },
   {
    "duration": 8,
    "start_time": "2023-02-25T09:31:09.086Z"
   },
   {
    "duration": 99,
    "start_time": "2023-02-25T09:31:09.096Z"
   },
   {
    "duration": 11,
    "start_time": "2023-02-25T09:31:09.196Z"
   },
   {
    "duration": 6,
    "start_time": "2023-02-25T09:31:09.209Z"
   },
   {
    "duration": 14,
    "start_time": "2023-02-25T09:31:09.216Z"
   },
   {
    "duration": 7,
    "start_time": "2023-02-25T09:31:09.232Z"
   },
   {
    "duration": 7,
    "start_time": "2023-02-25T09:31:09.241Z"
   },
   {
    "duration": 6,
    "start_time": "2023-02-25T09:31:09.250Z"
   },
   {
    "duration": 11,
    "start_time": "2023-02-25T09:31:09.257Z"
   },
   {
    "duration": 14,
    "start_time": "2023-02-25T09:31:09.270Z"
   },
   {
    "duration": 12,
    "start_time": "2023-02-25T09:31:09.286Z"
   },
   {
    "duration": 10,
    "start_time": "2023-02-25T09:31:09.300Z"
   },
   {
    "duration": 11,
    "start_time": "2023-02-25T09:31:09.312Z"
   },
   {
    "duration": 3,
    "start_time": "2023-02-25T09:31:09.354Z"
   },
   {
    "duration": 6,
    "start_time": "2023-02-25T09:31:09.359Z"
   },
   {
    "duration": 5,
    "start_time": "2023-02-25T09:31:29.591Z"
   },
   {
    "duration": 4,
    "start_time": "2023-02-25T09:31:44.800Z"
   },
   {
    "duration": 4,
    "start_time": "2023-02-25T09:31:45.786Z"
   },
   {
    "duration": 5,
    "start_time": "2023-02-25T09:31:47.255Z"
   },
   {
    "duration": 4,
    "start_time": "2023-02-25T09:33:34.963Z"
   },
   {
    "duration": 4,
    "start_time": "2023-02-25T09:33:35.757Z"
   },
   {
    "duration": 4,
    "start_time": "2023-02-25T09:33:36.741Z"
   },
   {
    "duration": 3,
    "start_time": "2023-02-25T09:39:19.091Z"
   },
   {
    "duration": 254,
    "start_time": "2023-02-25T09:44:30.588Z"
   },
   {
    "duration": 103,
    "start_time": "2023-02-25T09:45:22.737Z"
   },
   {
    "duration": 294,
    "start_time": "2023-02-25T09:48:03.378Z"
   },
   {
    "duration": 270,
    "start_time": "2023-02-25T09:49:53.926Z"
   },
   {
    "duration": 358,
    "start_time": "2023-02-25T09:51:15.231Z"
   },
   {
    "duration": 222,
    "start_time": "2023-02-25T09:51:26.731Z"
   },
   {
    "duration": 259,
    "start_time": "2023-02-25T09:51:40.829Z"
   },
   {
    "duration": 224,
    "start_time": "2023-02-25T09:52:00.294Z"
   },
   {
    "duration": 236,
    "start_time": "2023-02-25T09:54:13.371Z"
   },
   {
    "duration": 333,
    "start_time": "2023-02-25T09:59:41.097Z"
   },
   {
    "duration": 255,
    "start_time": "2023-02-25T10:00:01.303Z"
   },
   {
    "duration": 234,
    "start_time": "2023-02-25T10:00:38.492Z"
   },
   {
    "duration": 252,
    "start_time": "2023-02-25T10:01:22.723Z"
   },
   {
    "duration": 224,
    "start_time": "2023-02-25T10:02:02.316Z"
   },
   {
    "duration": 676,
    "start_time": "2023-02-25T10:21:49.434Z"
   },
   {
    "duration": 339,
    "start_time": "2023-02-25T10:22:08.671Z"
   },
   {
    "duration": 368,
    "start_time": "2023-02-25T10:23:11.239Z"
   },
   {
    "duration": 11,
    "start_time": "2023-02-25T10:32:08.339Z"
   },
   {
    "duration": 4,
    "start_time": "2023-02-25T10:32:55.604Z"
   },
   {
    "duration": 1136,
    "start_time": "2023-02-25T10:37:47.627Z"
   },
   {
    "duration": 129,
    "start_time": "2023-02-25T10:37:48.766Z"
   },
   {
    "duration": 6,
    "start_time": "2023-02-25T10:37:48.897Z"
   },
   {
    "duration": 135,
    "start_time": "2023-02-25T10:37:48.906Z"
   },
   {
    "duration": 15,
    "start_time": "2023-02-25T10:37:49.043Z"
   },
   {
    "duration": 7,
    "start_time": "2023-02-25T10:37:49.061Z"
   },
   {
    "duration": 5,
    "start_time": "2023-02-25T10:37:49.070Z"
   },
   {
    "duration": 53,
    "start_time": "2023-02-25T10:37:49.077Z"
   },
   {
    "duration": 28,
    "start_time": "2023-02-25T10:37:49.132Z"
   },
   {
    "duration": 5,
    "start_time": "2023-02-25T10:37:49.162Z"
   },
   {
    "duration": 10,
    "start_time": "2023-02-25T10:37:49.169Z"
   },
   {
    "duration": 97,
    "start_time": "2023-02-25T10:37:49.180Z"
   },
   {
    "duration": 12,
    "start_time": "2023-02-25T10:37:49.278Z"
   },
   {
    "duration": 16,
    "start_time": "2023-02-25T10:37:49.292Z"
   },
   {
    "duration": 15,
    "start_time": "2023-02-25T10:37:49.309Z"
   },
   {
    "duration": 7,
    "start_time": "2023-02-25T10:37:49.326Z"
   },
   {
    "duration": 7,
    "start_time": "2023-02-25T10:37:49.335Z"
   },
   {
    "duration": 10,
    "start_time": "2023-02-25T10:37:49.343Z"
   },
   {
    "duration": 14,
    "start_time": "2023-02-25T10:37:49.355Z"
   },
   {
    "duration": 16,
    "start_time": "2023-02-25T10:37:49.371Z"
   },
   {
    "duration": 10,
    "start_time": "2023-02-25T10:37:49.389Z"
   },
   {
    "duration": 10,
    "start_time": "2023-02-25T10:37:49.401Z"
   },
   {
    "duration": 40,
    "start_time": "2023-02-25T10:37:49.413Z"
   },
   {
    "duration": 4,
    "start_time": "2023-02-25T10:37:49.456Z"
   },
   {
    "duration": 7,
    "start_time": "2023-02-25T10:37:49.462Z"
   },
   {
    "duration": 7,
    "start_time": "2023-02-25T10:37:49.470Z"
   },
   {
    "duration": 376,
    "start_time": "2023-02-25T10:37:49.478Z"
   },
   {
    "duration": 0,
    "start_time": "2023-02-25T10:37:49.855Z"
   },
   {
    "duration": 0,
    "start_time": "2023-02-25T10:37:49.856Z"
   },
   {
    "duration": 0,
    "start_time": "2023-02-25T10:37:49.857Z"
   },
   {
    "duration": 0,
    "start_time": "2023-02-25T10:37:49.859Z"
   },
   {
    "duration": 17,
    "start_time": "2023-02-25T10:38:00.428Z"
   },
   {
    "duration": 276,
    "start_time": "2023-02-25T10:38:40.371Z"
   },
   {
    "duration": 217,
    "start_time": "2023-02-25T10:39:38.821Z"
   },
   {
    "duration": 1210,
    "start_time": "2023-02-25T10:40:22.866Z"
   },
   {
    "duration": 79,
    "start_time": "2023-02-25T10:40:24.078Z"
   },
   {
    "duration": 3,
    "start_time": "2023-02-25T10:40:24.159Z"
   },
   {
    "duration": 73,
    "start_time": "2023-02-25T10:40:24.164Z"
   },
   {
    "duration": 12,
    "start_time": "2023-02-25T10:40:24.239Z"
   },
   {
    "duration": 8,
    "start_time": "2023-02-25T10:40:24.252Z"
   },
   {
    "duration": 6,
    "start_time": "2023-02-25T10:40:24.262Z"
   },
   {
    "duration": 49,
    "start_time": "2023-02-25T10:40:24.270Z"
   },
   {
    "duration": 7,
    "start_time": "2023-02-25T10:40:24.321Z"
   },
   {
    "duration": 4,
    "start_time": "2023-02-25T10:40:24.330Z"
   },
   {
    "duration": 6,
    "start_time": "2023-02-25T10:40:24.352Z"
   },
   {
    "duration": 75,
    "start_time": "2023-02-25T10:40:24.360Z"
   },
   {
    "duration": 11,
    "start_time": "2023-02-25T10:40:24.437Z"
   },
   {
    "duration": 6,
    "start_time": "2023-02-25T10:40:24.450Z"
   },
   {
    "duration": 16,
    "start_time": "2023-02-25T10:40:24.458Z"
   },
   {
    "duration": 13,
    "start_time": "2023-02-25T10:40:24.475Z"
   },
   {
    "duration": 5,
    "start_time": "2023-02-25T10:40:24.489Z"
   },
   {
    "duration": 6,
    "start_time": "2023-02-25T10:40:24.496Z"
   },
   {
    "duration": 13,
    "start_time": "2023-02-25T10:40:24.504Z"
   },
   {
    "duration": 12,
    "start_time": "2023-02-25T10:40:24.519Z"
   },
   {
    "duration": 27,
    "start_time": "2023-02-25T10:40:24.533Z"
   },
   {
    "duration": 11,
    "start_time": "2023-02-25T10:40:24.561Z"
   },
   {
    "duration": 12,
    "start_time": "2023-02-25T10:40:24.574Z"
   },
   {
    "duration": 16,
    "start_time": "2023-02-25T10:40:24.588Z"
   },
   {
    "duration": 7,
    "start_time": "2023-02-25T10:40:24.606Z"
   },
   {
    "duration": 10,
    "start_time": "2023-02-25T10:40:24.615Z"
   },
   {
    "duration": 410,
    "start_time": "2023-02-25T10:40:24.627Z"
   },
   {
    "duration": 0,
    "start_time": "2023-02-25T10:40:25.039Z"
   },
   {
    "duration": 0,
    "start_time": "2023-02-25T10:40:25.040Z"
   },
   {
    "duration": 0,
    "start_time": "2023-02-25T10:40:25.042Z"
   },
   {
    "duration": 0,
    "start_time": "2023-02-25T10:40:25.043Z"
   },
   {
    "duration": 322,
    "start_time": "2023-02-25T10:40:31.922Z"
   },
   {
    "duration": 226,
    "start_time": "2023-02-25T10:41:49.763Z"
   },
   {
    "duration": 19,
    "start_time": "2023-02-25T10:42:19.593Z"
   },
   {
    "duration": 1231,
    "start_time": "2023-02-25T10:42:27.422Z"
   },
   {
    "duration": 307,
    "start_time": "2023-02-25T10:42:28.655Z"
   },
   {
    "duration": 4,
    "start_time": "2023-02-25T10:42:28.964Z"
   },
   {
    "duration": 86,
    "start_time": "2023-02-25T10:42:28.970Z"
   },
   {
    "duration": 16,
    "start_time": "2023-02-25T10:42:29.058Z"
   },
   {
    "duration": 13,
    "start_time": "2023-02-25T10:42:29.077Z"
   },
   {
    "duration": 19,
    "start_time": "2023-02-25T10:42:29.092Z"
   },
   {
    "duration": 78,
    "start_time": "2023-02-25T10:42:29.113Z"
   },
   {
    "duration": 6,
    "start_time": "2023-02-25T10:42:29.193Z"
   },
   {
    "duration": 13,
    "start_time": "2023-02-25T10:42:29.202Z"
   },
   {
    "duration": 8,
    "start_time": "2023-02-25T10:42:29.217Z"
   },
   {
    "duration": 74,
    "start_time": "2023-02-25T10:42:29.227Z"
   },
   {
    "duration": 10,
    "start_time": "2023-02-25T10:42:29.303Z"
   },
   {
    "duration": 14,
    "start_time": "2023-02-25T10:42:29.315Z"
   },
   {
    "duration": 17,
    "start_time": "2023-02-25T10:42:29.330Z"
   },
   {
    "duration": 16,
    "start_time": "2023-02-25T10:42:29.348Z"
   },
   {
    "duration": 25,
    "start_time": "2023-02-25T10:42:29.366Z"
   },
   {
    "duration": 17,
    "start_time": "2023-02-25T10:42:29.393Z"
   },
   {
    "duration": 23,
    "start_time": "2023-02-25T10:42:29.411Z"
   },
   {
    "duration": 20,
    "start_time": "2023-02-25T10:42:29.437Z"
   },
   {
    "duration": 13,
    "start_time": "2023-02-25T10:42:29.459Z"
   },
   {
    "duration": 20,
    "start_time": "2023-02-25T10:42:29.474Z"
   },
   {
    "duration": 27,
    "start_time": "2023-02-25T10:42:29.496Z"
   },
   {
    "duration": 24,
    "start_time": "2023-02-25T10:42:29.525Z"
   },
   {
    "duration": 8,
    "start_time": "2023-02-25T10:42:29.551Z"
   },
   {
    "duration": 12,
    "start_time": "2023-02-25T10:42:29.560Z"
   },
   {
    "duration": 419,
    "start_time": "2023-02-25T10:42:29.574Z"
   },
   {
    "duration": 0,
    "start_time": "2023-02-25T10:42:29.996Z"
   },
   {
    "duration": 0,
    "start_time": "2023-02-25T10:42:29.998Z"
   },
   {
    "duration": 0,
    "start_time": "2023-02-25T10:42:30.000Z"
   },
   {
    "duration": 0,
    "start_time": "2023-02-25T10:42:30.001Z"
   },
   {
    "duration": 4,
    "start_time": "2023-02-25T10:42:41.308Z"
   },
   {
    "duration": 72,
    "start_time": "2023-02-25T10:42:41.995Z"
   },
   {
    "duration": 4,
    "start_time": "2023-02-25T10:42:43.073Z"
   },
   {
    "duration": 123,
    "start_time": "2023-02-25T10:42:43.742Z"
   },
   {
    "duration": 12,
    "start_time": "2023-02-25T10:42:44.442Z"
   },
   {
    "duration": 5,
    "start_time": "2023-02-25T10:42:45.506Z"
   },
   {
    "duration": 4,
    "start_time": "2023-02-25T10:42:45.971Z"
   },
   {
    "duration": 13,
    "start_time": "2023-02-25T10:42:46.360Z"
   },
   {
    "duration": 6,
    "start_time": "2023-02-25T10:42:46.827Z"
   },
   {
    "duration": 8,
    "start_time": "2023-02-25T10:42:47.531Z"
   },
   {
    "duration": 5,
    "start_time": "2023-02-25T10:42:48.117Z"
   },
   {
    "duration": 62,
    "start_time": "2023-02-25T10:42:48.787Z"
   },
   {
    "duration": 11,
    "start_time": "2023-02-25T10:42:49.460Z"
   },
   {
    "duration": 4,
    "start_time": "2023-02-25T10:42:50.162Z"
   },
   {
    "duration": 13,
    "start_time": "2023-02-25T10:42:50.817Z"
   },
   {
    "duration": 5,
    "start_time": "2023-02-25T10:42:51.479Z"
   },
   {
    "duration": 4,
    "start_time": "2023-02-25T10:42:52.138Z"
   },
   {
    "duration": 5,
    "start_time": "2023-02-25T10:42:52.762Z"
   },
   {
    "duration": 12,
    "start_time": "2023-02-25T10:42:54.082Z"
   },
   {
    "duration": 15,
    "start_time": "2023-02-25T10:42:54.815Z"
   },
   {
    "duration": 12,
    "start_time": "2023-02-25T10:42:55.572Z"
   },
   {
    "duration": 11,
    "start_time": "2023-02-25T10:42:59.750Z"
   },
   {
    "duration": 9,
    "start_time": "2023-02-25T10:43:01.692Z"
   },
   {
    "duration": 4,
    "start_time": "2023-02-25T10:43:05.359Z"
   },
   {
    "duration": 5,
    "start_time": "2023-02-25T10:43:05.962Z"
   },
   {
    "duration": 5,
    "start_time": "2023-02-25T10:43:06.661Z"
   },
   {
    "duration": 292,
    "start_time": "2023-02-25T10:43:09.178Z"
   },
   {
    "duration": 412,
    "start_time": "2023-02-25T10:43:33.788Z"
   },
   {
    "duration": 420,
    "start_time": "2023-02-25T10:43:37.098Z"
   },
   {
    "duration": 242,
    "start_time": "2023-02-25T10:43:45.481Z"
   },
   {
    "duration": 334,
    "start_time": "2023-02-25T10:43:54.869Z"
   },
   {
    "duration": 213,
    "start_time": "2023-02-25T10:44:02.297Z"
   },
   {
    "duration": 265,
    "start_time": "2023-02-25T10:52:31.879Z"
   },
   {
    "duration": 297,
    "start_time": "2023-02-25T10:53:03.280Z"
   },
   {
    "duration": 235,
    "start_time": "2023-02-25T10:53:33.022Z"
   },
   {
    "duration": 227,
    "start_time": "2023-02-25T11:00:28.982Z"
   },
   {
    "duration": 327,
    "start_time": "2023-02-25T11:05:57.876Z"
   },
   {
    "duration": 313,
    "start_time": "2023-02-25T11:06:08.624Z"
   },
   {
    "duration": 327,
    "start_time": "2023-02-25T11:06:38.970Z"
   },
   {
    "duration": 326,
    "start_time": "2023-02-25T11:15:35.571Z"
   },
   {
    "duration": 332,
    "start_time": "2023-02-25T11:15:50.666Z"
   },
   {
    "duration": 365,
    "start_time": "2023-02-25T11:21:10.264Z"
   },
   {
    "duration": 347,
    "start_time": "2023-02-25T11:21:32.777Z"
   },
   {
    "duration": 380,
    "start_time": "2023-02-25T11:21:56.449Z"
   },
   {
    "duration": 464,
    "start_time": "2023-02-25T11:22:03.846Z"
   },
   {
    "duration": 14,
    "start_time": "2023-02-25T11:26:19.376Z"
   },
   {
    "duration": 12,
    "start_time": "2023-02-25T11:27:11.480Z"
   },
   {
    "duration": 132,
    "start_time": "2023-02-25T11:30:44.043Z"
   },
   {
    "duration": 712,
    "start_time": "2023-02-25T11:31:28.512Z"
   },
   {
    "duration": 127,
    "start_time": "2023-02-25T11:31:42.719Z"
   },
   {
    "duration": 134,
    "start_time": "2023-02-25T11:31:51.174Z"
   },
   {
    "duration": 140,
    "start_time": "2023-02-25T11:33:47.685Z"
   },
   {
    "duration": 686,
    "start_time": "2023-02-25T11:37:02.539Z"
   },
   {
    "duration": 5,
    "start_time": "2023-02-25T11:37:15.012Z"
   },
   {
    "duration": 10,
    "start_time": "2023-02-25T11:42:45.793Z"
   },
   {
    "duration": 12,
    "start_time": "2023-02-25T11:42:57.890Z"
   },
   {
    "duration": 12,
    "start_time": "2023-02-25T11:44:13.238Z"
   },
   {
    "duration": 47,
    "start_time": "2023-02-25T11:46:34.624Z"
   },
   {
    "duration": 101,
    "start_time": "2023-02-25T11:47:50.762Z"
   },
   {
    "duration": 4,
    "start_time": "2023-02-25T11:48:24.065Z"
   },
   {
    "duration": 799,
    "start_time": "2023-02-25T11:48:46.472Z"
   },
   {
    "duration": 4,
    "start_time": "2023-02-25T11:49:00.114Z"
   },
   {
    "duration": 129,
    "start_time": "2023-02-25T11:51:41.079Z"
   },
   {
    "duration": 112,
    "start_time": "2023-02-25T11:54:30.629Z"
   },
   {
    "duration": 214,
    "start_time": "2023-02-25T11:55:19.606Z"
   },
   {
    "duration": 161,
    "start_time": "2023-02-25T11:55:38.412Z"
   },
   {
    "duration": 211,
    "start_time": "2023-02-25T11:55:51.459Z"
   },
   {
    "duration": 180,
    "start_time": "2023-02-25T11:56:23.497Z"
   },
   {
    "duration": 190,
    "start_time": "2023-02-25T11:57:37.191Z"
   },
   {
    "duration": 244,
    "start_time": "2023-02-25T11:57:45.644Z"
   },
   {
    "duration": 149,
    "start_time": "2023-02-25T11:57:54.498Z"
   },
   {
    "duration": 189,
    "start_time": "2023-02-25T12:01:06.810Z"
   },
   {
    "duration": 148,
    "start_time": "2023-02-25T12:01:19.810Z"
   },
   {
    "duration": 162,
    "start_time": "2023-02-25T12:02:32.466Z"
   },
   {
    "duration": 174,
    "start_time": "2023-02-25T12:04:19.345Z"
   },
   {
    "duration": 160,
    "start_time": "2023-02-25T12:04:26.394Z"
   },
   {
    "duration": 165,
    "start_time": "2023-02-25T12:04:41.599Z"
   },
   {
    "duration": 250,
    "start_time": "2023-02-25T12:29:05.169Z"
   },
   {
    "duration": 48,
    "start_time": "2023-02-25T12:33:42.665Z"
   },
   {
    "duration": 14,
    "start_time": "2023-02-25T12:36:09.157Z"
   },
   {
    "duration": 196,
    "start_time": "2023-02-25T12:37:26.067Z"
   },
   {
    "duration": 6,
    "start_time": "2023-02-25T12:38:59.763Z"
   },
   {
    "duration": 154,
    "start_time": "2023-02-25T12:39:05.665Z"
   },
   {
    "duration": 11,
    "start_time": "2023-02-25T12:41:18.968Z"
   },
   {
    "duration": 672,
    "start_time": "2023-02-25T12:43:40.575Z"
   },
   {
    "duration": 744,
    "start_time": "2023-02-25T12:44:12.360Z"
   },
   {
    "duration": 738,
    "start_time": "2023-02-25T12:44:36.142Z"
   },
   {
    "duration": 712,
    "start_time": "2023-02-25T12:44:57.975Z"
   },
   {
    "duration": 1363,
    "start_time": "2023-02-25T12:45:08.933Z"
   },
   {
    "duration": 113,
    "start_time": "2023-02-25T12:45:10.298Z"
   },
   {
    "duration": 4,
    "start_time": "2023-02-25T12:45:10.413Z"
   },
   {
    "duration": 265,
    "start_time": "2023-02-25T12:45:10.419Z"
   },
   {
    "duration": 13,
    "start_time": "2023-02-25T12:45:10.686Z"
   },
   {
    "duration": 11,
    "start_time": "2023-02-25T12:45:10.701Z"
   },
   {
    "duration": 6,
    "start_time": "2023-02-25T12:45:10.714Z"
   },
   {
    "duration": 59,
    "start_time": "2023-02-25T12:45:10.722Z"
   },
   {
    "duration": 9,
    "start_time": "2023-02-25T12:45:10.783Z"
   },
   {
    "duration": 14,
    "start_time": "2023-02-25T12:45:10.796Z"
   },
   {
    "duration": 6,
    "start_time": "2023-02-25T12:45:10.813Z"
   },
   {
    "duration": 119,
    "start_time": "2023-02-25T12:45:10.822Z"
   },
   {
    "duration": 19,
    "start_time": "2023-02-25T12:45:10.943Z"
   },
   {
    "duration": 26,
    "start_time": "2023-02-25T12:45:10.966Z"
   },
   {
    "duration": 16,
    "start_time": "2023-02-25T12:45:10.994Z"
   },
   {
    "duration": 9,
    "start_time": "2023-02-25T12:45:11.013Z"
   },
   {
    "duration": 8,
    "start_time": "2023-02-25T12:45:11.024Z"
   },
   {
    "duration": 6,
    "start_time": "2023-02-25T12:45:11.034Z"
   },
   {
    "duration": 22,
    "start_time": "2023-02-25T12:45:11.042Z"
   },
   {
    "duration": 25,
    "start_time": "2023-02-25T12:45:11.066Z"
   },
   {
    "duration": 17,
    "start_time": "2023-02-25T12:45:11.093Z"
   },
   {
    "duration": 13,
    "start_time": "2023-02-25T12:45:11.112Z"
   },
   {
    "duration": 30,
    "start_time": "2023-02-25T12:45:11.127Z"
   },
   {
    "duration": 23,
    "start_time": "2023-02-25T12:45:11.160Z"
   },
   {
    "duration": 187,
    "start_time": "2023-02-25T12:45:11.186Z"
   },
   {
    "duration": 0,
    "start_time": "2023-02-25T12:45:11.375Z"
   },
   {
    "duration": 0,
    "start_time": "2023-02-25T12:45:11.377Z"
   },
   {
    "duration": 0,
    "start_time": "2023-02-25T12:45:11.378Z"
   },
   {
    "duration": 0,
    "start_time": "2023-02-25T12:45:11.380Z"
   },
   {
    "duration": 0,
    "start_time": "2023-02-25T12:45:11.381Z"
   },
   {
    "duration": 0,
    "start_time": "2023-02-25T12:45:11.382Z"
   },
   {
    "duration": 0,
    "start_time": "2023-02-25T12:45:11.383Z"
   },
   {
    "duration": 0,
    "start_time": "2023-02-25T12:45:11.385Z"
   },
   {
    "duration": 0,
    "start_time": "2023-02-25T12:45:11.387Z"
   },
   {
    "duration": 0,
    "start_time": "2023-02-25T12:45:11.388Z"
   },
   {
    "duration": 0,
    "start_time": "2023-02-25T12:45:11.390Z"
   },
   {
    "duration": 0,
    "start_time": "2023-02-25T12:45:11.391Z"
   },
   {
    "duration": 0,
    "start_time": "2023-02-25T12:45:11.392Z"
   },
   {
    "duration": 0,
    "start_time": "2023-02-25T12:45:11.393Z"
   },
   {
    "duration": 0,
    "start_time": "2023-02-25T12:45:11.394Z"
   },
   {
    "duration": 0,
    "start_time": "2023-02-25T12:45:11.395Z"
   },
   {
    "duration": 0,
    "start_time": "2023-02-25T12:45:11.396Z"
   },
   {
    "duration": 0,
    "start_time": "2023-02-25T12:45:11.398Z"
   },
   {
    "duration": 11,
    "start_time": "2023-02-25T12:47:28.977Z"
   },
   {
    "duration": 1176,
    "start_time": "2023-02-25T12:49:13.192Z"
   },
   {
    "duration": 108,
    "start_time": "2023-02-25T12:49:14.370Z"
   },
   {
    "duration": 3,
    "start_time": "2023-02-25T12:49:14.480Z"
   },
   {
    "duration": 96,
    "start_time": "2023-02-25T12:49:14.485Z"
   },
   {
    "duration": 13,
    "start_time": "2023-02-25T12:49:14.583Z"
   },
   {
    "duration": 8,
    "start_time": "2023-02-25T12:49:14.600Z"
   },
   {
    "duration": 12,
    "start_time": "2023-02-25T12:49:14.609Z"
   },
   {
    "duration": 66,
    "start_time": "2023-02-25T12:49:14.623Z"
   },
   {
    "duration": 7,
    "start_time": "2023-02-25T12:49:14.691Z"
   },
   {
    "duration": 4,
    "start_time": "2023-02-25T12:49:14.701Z"
   },
   {
    "duration": 9,
    "start_time": "2023-02-25T12:49:14.707Z"
   },
   {
    "duration": 101,
    "start_time": "2023-02-25T12:49:14.719Z"
   },
   {
    "duration": 11,
    "start_time": "2023-02-25T12:49:14.823Z"
   },
   {
    "duration": 5,
    "start_time": "2023-02-25T12:49:14.836Z"
   },
   {
    "duration": 23,
    "start_time": "2023-02-25T12:49:14.843Z"
   },
   {
    "duration": 9,
    "start_time": "2023-02-25T12:49:14.871Z"
   },
   {
    "duration": 6,
    "start_time": "2023-02-25T12:49:14.882Z"
   },
   {
    "duration": 9,
    "start_time": "2023-02-25T12:49:14.889Z"
   },
   {
    "duration": 14,
    "start_time": "2023-02-25T12:49:14.900Z"
   },
   {
    "duration": 14,
    "start_time": "2023-02-25T12:49:14.916Z"
   },
   {
    "duration": 39,
    "start_time": "2023-02-25T12:49:14.931Z"
   },
   {
    "duration": 8,
    "start_time": "2023-02-25T12:49:14.972Z"
   },
   {
    "duration": 16,
    "start_time": "2023-02-25T12:49:14.982Z"
   },
   {
    "duration": 6,
    "start_time": "2023-02-25T12:49:14.999Z"
   },
   {
    "duration": 121,
    "start_time": "2023-02-25T12:49:15.006Z"
   },
   {
    "duration": 0,
    "start_time": "2023-02-25T12:49:15.130Z"
   },
   {
    "duration": 0,
    "start_time": "2023-02-25T12:49:15.131Z"
   },
   {
    "duration": 0,
    "start_time": "2023-02-25T12:49:15.132Z"
   },
   {
    "duration": 0,
    "start_time": "2023-02-25T12:49:15.134Z"
   },
   {
    "duration": 0,
    "start_time": "2023-02-25T12:49:15.136Z"
   },
   {
    "duration": 0,
    "start_time": "2023-02-25T12:49:15.137Z"
   },
   {
    "duration": 0,
    "start_time": "2023-02-25T12:49:15.159Z"
   },
   {
    "duration": 0,
    "start_time": "2023-02-25T12:49:15.160Z"
   },
   {
    "duration": 0,
    "start_time": "2023-02-25T12:49:15.161Z"
   },
   {
    "duration": 0,
    "start_time": "2023-02-25T12:49:15.162Z"
   },
   {
    "duration": 0,
    "start_time": "2023-02-25T12:49:15.163Z"
   },
   {
    "duration": 0,
    "start_time": "2023-02-25T12:49:15.164Z"
   },
   {
    "duration": 0,
    "start_time": "2023-02-25T12:49:15.165Z"
   },
   {
    "duration": 0,
    "start_time": "2023-02-25T12:49:15.166Z"
   },
   {
    "duration": 0,
    "start_time": "2023-02-25T12:49:15.167Z"
   },
   {
    "duration": 0,
    "start_time": "2023-02-25T12:49:15.168Z"
   },
   {
    "duration": 0,
    "start_time": "2023-02-25T12:49:15.169Z"
   },
   {
    "duration": 0,
    "start_time": "2023-02-25T12:49:15.170Z"
   },
   {
    "duration": 13,
    "start_time": "2023-02-25T12:54:07.913Z"
   },
   {
    "duration": 12,
    "start_time": "2023-02-25T12:56:20.103Z"
   },
   {
    "duration": 4,
    "start_time": "2023-02-25T12:56:30.397Z"
   },
   {
    "duration": 91,
    "start_time": "2023-02-25T12:56:30.872Z"
   },
   {
    "duration": 4,
    "start_time": "2023-02-25T12:56:31.367Z"
   },
   {
    "duration": 98,
    "start_time": "2023-02-25T12:56:32.027Z"
   },
   {
    "duration": 12,
    "start_time": "2023-02-25T12:56:32.521Z"
   },
   {
    "duration": 6,
    "start_time": "2023-02-25T12:56:33.672Z"
   },
   {
    "duration": 4,
    "start_time": "2023-02-25T12:56:34.183Z"
   },
   {
    "duration": 16,
    "start_time": "2023-02-25T12:56:34.687Z"
   },
   {
    "duration": 8,
    "start_time": "2023-02-25T12:56:35.212Z"
   },
   {
    "duration": 4,
    "start_time": "2023-02-25T12:56:35.781Z"
   },
   {
    "duration": 5,
    "start_time": "2023-02-25T12:56:36.283Z"
   },
   {
    "duration": 91,
    "start_time": "2023-02-25T12:56:36.808Z"
   },
   {
    "duration": 15,
    "start_time": "2023-02-25T12:56:37.293Z"
   },
   {
    "duration": 6,
    "start_time": "2023-02-25T12:56:37.924Z"
   },
   {
    "duration": 12,
    "start_time": "2023-02-25T12:56:38.530Z"
   },
   {
    "duration": 6,
    "start_time": "2023-02-25T12:56:39.285Z"
   },
   {
    "duration": 5,
    "start_time": "2023-02-25T12:56:40.346Z"
   },
   {
    "duration": 5,
    "start_time": "2023-02-25T12:56:40.993Z"
   },
   {
    "duration": 16,
    "start_time": "2023-02-25T12:56:42.062Z"
   },
   {
    "duration": 13,
    "start_time": "2023-02-25T12:56:42.612Z"
   },
   {
    "duration": 10,
    "start_time": "2023-02-25T12:56:43.168Z"
   },
   {
    "duration": 9,
    "start_time": "2023-02-25T12:56:45.596Z"
   },
   {
    "duration": 9,
    "start_time": "2023-02-25T12:56:46.904Z"
   },
   {
    "duration": 4,
    "start_time": "2023-02-25T12:56:50.596Z"
   },
   {
    "duration": 14,
    "start_time": "2023-02-25T12:56:51.168Z"
   },
   {
    "duration": 14,
    "start_time": "2023-02-25T12:56:55.830Z"
   },
   {
    "duration": 10,
    "start_time": "2023-02-25T12:56:59.617Z"
   },
   {
    "duration": 306,
    "start_time": "2023-02-25T12:57:03.475Z"
   },
   {
    "duration": 335,
    "start_time": "2023-02-25T12:57:04.574Z"
   },
   {
    "duration": 258,
    "start_time": "2023-02-25T12:57:08.572Z"
   },
   {
    "duration": 361,
    "start_time": "2023-02-25T12:57:10.634Z"
   },
   {
    "duration": 257,
    "start_time": "2023-02-25T12:57:13.277Z"
   },
   {
    "duration": 343,
    "start_time": "2023-02-25T12:57:16.611Z"
   },
   {
    "duration": 15,
    "start_time": "2023-02-25T12:57:21.473Z"
   },
   {
    "duration": 152,
    "start_time": "2023-02-25T12:57:22.828Z"
   },
   {
    "duration": 4,
    "start_time": "2023-02-25T12:57:26.370Z"
   },
   {
    "duration": 11,
    "start_time": "2023-02-25T12:57:28.542Z"
   },
   {
    "duration": 282,
    "start_time": "2023-02-25T12:57:30.028Z"
   },
   {
    "duration": 107,
    "start_time": "2023-02-25T12:57:31.500Z"
   },
   {
    "duration": 4,
    "start_time": "2023-02-25T12:57:32.366Z"
   },
   {
    "duration": 246,
    "start_time": "2023-02-25T12:57:35.299Z"
   },
   {
    "duration": 159,
    "start_time": "2023-02-25T12:57:37.826Z"
   },
   {
    "duration": 12,
    "start_time": "2023-02-25T12:57:40.569Z"
   },
   {
    "duration": 647,
    "start_time": "2023-02-25T12:57:43.655Z"
   },
   {
    "duration": 1146,
    "start_time": "2023-02-25T12:59:39.577Z"
   },
   {
    "duration": 73,
    "start_time": "2023-02-25T12:59:40.726Z"
   },
   {
    "duration": 3,
    "start_time": "2023-02-25T12:59:40.801Z"
   },
   {
    "duration": 72,
    "start_time": "2023-02-25T12:59:40.807Z"
   },
   {
    "duration": 19,
    "start_time": "2023-02-25T12:59:40.883Z"
   },
   {
    "duration": 5,
    "start_time": "2023-02-25T12:59:40.904Z"
   },
   {
    "duration": 10,
    "start_time": "2023-02-25T12:59:40.911Z"
   },
   {
    "duration": 54,
    "start_time": "2023-02-25T12:59:40.923Z"
   },
   {
    "duration": 6,
    "start_time": "2023-02-25T12:59:40.979Z"
   },
   {
    "duration": 4,
    "start_time": "2023-02-25T12:59:40.989Z"
   },
   {
    "duration": 7,
    "start_time": "2023-02-25T12:59:40.995Z"
   },
   {
    "duration": 74,
    "start_time": "2023-02-25T12:59:41.003Z"
   },
   {
    "duration": 12,
    "start_time": "2023-02-25T12:59:41.078Z"
   },
   {
    "duration": 10,
    "start_time": "2023-02-25T12:59:41.092Z"
   },
   {
    "duration": 14,
    "start_time": "2023-02-25T12:59:41.103Z"
   },
   {
    "duration": 10,
    "start_time": "2023-02-25T12:59:41.119Z"
   },
   {
    "duration": 8,
    "start_time": "2023-02-25T12:59:41.131Z"
   },
   {
    "duration": 16,
    "start_time": "2023-02-25T12:59:41.141Z"
   },
   {
    "duration": 13,
    "start_time": "2023-02-25T12:59:41.159Z"
   },
   {
    "duration": 12,
    "start_time": "2023-02-25T12:59:41.174Z"
   },
   {
    "duration": 12,
    "start_time": "2023-02-25T12:59:41.188Z"
   },
   {
    "duration": 10,
    "start_time": "2023-02-25T12:59:41.202Z"
   },
   {
    "duration": 42,
    "start_time": "2023-02-25T12:59:41.214Z"
   },
   {
    "duration": 25,
    "start_time": "2023-02-25T12:59:41.257Z"
   },
   {
    "duration": 114,
    "start_time": "2023-02-25T12:59:41.284Z"
   },
   {
    "duration": 0,
    "start_time": "2023-02-25T12:59:41.400Z"
   },
   {
    "duration": 0,
    "start_time": "2023-02-25T12:59:41.402Z"
   },
   {
    "duration": 0,
    "start_time": "2023-02-25T12:59:41.403Z"
   },
   {
    "duration": 0,
    "start_time": "2023-02-25T12:59:41.404Z"
   },
   {
    "duration": 0,
    "start_time": "2023-02-25T12:59:41.405Z"
   },
   {
    "duration": 0,
    "start_time": "2023-02-25T12:59:41.406Z"
   },
   {
    "duration": 0,
    "start_time": "2023-02-25T12:59:41.407Z"
   },
   {
    "duration": 0,
    "start_time": "2023-02-25T12:59:41.408Z"
   },
   {
    "duration": 0,
    "start_time": "2023-02-25T12:59:41.409Z"
   },
   {
    "duration": 0,
    "start_time": "2023-02-25T12:59:41.411Z"
   },
   {
    "duration": 0,
    "start_time": "2023-02-25T12:59:41.412Z"
   },
   {
    "duration": 0,
    "start_time": "2023-02-25T12:59:41.414Z"
   },
   {
    "duration": 0,
    "start_time": "2023-02-25T12:59:41.414Z"
   },
   {
    "duration": 0,
    "start_time": "2023-02-25T12:59:41.415Z"
   },
   {
    "duration": 0,
    "start_time": "2023-02-25T12:59:41.416Z"
   },
   {
    "duration": 0,
    "start_time": "2023-02-25T12:59:41.417Z"
   },
   {
    "duration": 0,
    "start_time": "2023-02-25T12:59:41.418Z"
   },
   {
    "duration": 0,
    "start_time": "2023-02-25T12:59:41.419Z"
   },
   {
    "duration": 4,
    "start_time": "2023-02-25T13:00:00.122Z"
   },
   {
    "duration": 70,
    "start_time": "2023-02-25T13:00:00.807Z"
   },
   {
    "duration": 4,
    "start_time": "2023-02-25T13:00:01.474Z"
   },
   {
    "duration": 105,
    "start_time": "2023-02-25T13:00:02.042Z"
   },
   {
    "duration": 11,
    "start_time": "2023-02-25T13:00:02.722Z"
   },
   {
    "duration": 6,
    "start_time": "2023-02-25T13:00:03.965Z"
   },
   {
    "duration": 4,
    "start_time": "2023-02-25T13:00:04.506Z"
   },
   {
    "duration": 22,
    "start_time": "2023-02-25T13:00:05.066Z"
   },
   {
    "duration": 8,
    "start_time": "2023-02-25T13:00:05.762Z"
   },
   {
    "duration": 6,
    "start_time": "2023-02-25T13:00:06.702Z"
   },
   {
    "duration": 5,
    "start_time": "2023-02-25T13:00:07.311Z"
   },
   {
    "duration": 95,
    "start_time": "2023-02-25T13:00:08.072Z"
   },
   {
    "duration": 10,
    "start_time": "2023-02-25T13:00:08.760Z"
   },
   {
    "duration": 5,
    "start_time": "2023-02-25T13:00:09.562Z"
   },
   {
    "duration": 15,
    "start_time": "2023-02-25T13:00:10.221Z"
   },
   {
    "duration": 6,
    "start_time": "2023-02-25T13:02:43.584Z"
   },
   {
    "duration": 4,
    "start_time": "2023-02-25T13:02:44.155Z"
   },
   {
    "duration": 4,
    "start_time": "2023-02-25T13:02:45.124Z"
   },
   {
    "duration": 11,
    "start_time": "2023-02-25T13:02:46.861Z"
   },
   {
    "duration": 14,
    "start_time": "2023-02-25T13:02:47.652Z"
   },
   {
    "duration": 10,
    "start_time": "2023-02-25T13:02:48.524Z"
   },
   {
    "duration": 8,
    "start_time": "2023-02-25T13:02:51.390Z"
   },
   {
    "duration": 9,
    "start_time": "2023-02-25T13:02:53.258Z"
   },
   {
    "duration": 3,
    "start_time": "2023-02-25T13:02:57.336Z"
   },
   {
    "duration": 12,
    "start_time": "2023-02-25T13:02:58.858Z"
   },
   {
    "duration": 59,
    "start_time": "2023-02-25T13:04:22.891Z"
   },
   {
    "duration": 1325,
    "start_time": "2023-02-25T13:04:27.247Z"
   },
   {
    "duration": 103,
    "start_time": "2023-02-25T13:04:28.574Z"
   },
   {
    "duration": 4,
    "start_time": "2023-02-25T13:04:28.678Z"
   },
   {
    "duration": 82,
    "start_time": "2023-02-25T13:04:28.683Z"
   },
   {
    "duration": 12,
    "start_time": "2023-02-25T13:04:28.768Z"
   },
   {
    "duration": 10,
    "start_time": "2023-02-25T13:04:28.782Z"
   },
   {
    "duration": 7,
    "start_time": "2023-02-25T13:04:28.794Z"
   },
   {
    "duration": 59,
    "start_time": "2023-02-25T13:04:28.803Z"
   },
   {
    "duration": 9,
    "start_time": "2023-02-25T13:04:28.863Z"
   },
   {
    "duration": 5,
    "start_time": "2023-02-25T13:04:28.874Z"
   },
   {
    "duration": 6,
    "start_time": "2023-02-25T13:04:28.881Z"
   },
   {
    "duration": 76,
    "start_time": "2023-02-25T13:04:28.889Z"
   },
   {
    "duration": 10,
    "start_time": "2023-02-25T13:04:28.966Z"
   },
   {
    "duration": 4,
    "start_time": "2023-02-25T13:04:28.980Z"
   },
   {
    "duration": 13,
    "start_time": "2023-02-25T13:04:28.985Z"
   },
   {
    "duration": 9,
    "start_time": "2023-02-25T13:04:29.001Z"
   },
   {
    "duration": 9,
    "start_time": "2023-02-25T13:04:29.013Z"
   },
   {
    "duration": 7,
    "start_time": "2023-02-25T13:04:29.024Z"
   },
   {
    "duration": 14,
    "start_time": "2023-02-25T13:04:29.053Z"
   },
   {
    "duration": 15,
    "start_time": "2023-02-25T13:04:29.069Z"
   },
   {
    "duration": 12,
    "start_time": "2023-02-25T13:04:29.086Z"
   },
   {
    "duration": 10,
    "start_time": "2023-02-25T13:04:29.100Z"
   },
   {
    "duration": 11,
    "start_time": "2023-02-25T13:04:29.111Z"
   },
   {
    "duration": 32,
    "start_time": "2023-02-25T13:04:29.125Z"
   },
   {
    "duration": 7,
    "start_time": "2023-02-25T13:04:29.158Z"
   },
   {
    "duration": 12,
    "start_time": "2023-02-25T13:04:29.167Z"
   },
   {
    "duration": 300,
    "start_time": "2023-02-25T13:04:29.181Z"
   },
   {
    "duration": 370,
    "start_time": "2023-02-25T13:04:29.483Z"
   },
   {
    "duration": 234,
    "start_time": "2023-02-25T13:04:29.855Z"
   },
   {
    "duration": 339,
    "start_time": "2023-02-25T13:04:30.091Z"
   },
   {
    "duration": 233,
    "start_time": "2023-02-25T13:04:30.432Z"
   },
   {
    "duration": 331,
    "start_time": "2023-02-25T13:04:30.667Z"
   },
   {
    "duration": 10,
    "start_time": "2023-02-25T13:04:31.001Z"
   },
   {
    "duration": 165,
    "start_time": "2023-02-25T13:04:31.014Z"
   },
   {
    "duration": 5,
    "start_time": "2023-02-25T13:04:31.180Z"
   },
   {
    "duration": 33,
    "start_time": "2023-02-25T13:04:31.187Z"
   },
   {
    "duration": 272,
    "start_time": "2023-02-25T13:04:31.222Z"
   },
   {
    "duration": 95,
    "start_time": "2023-02-25T13:04:31.496Z"
   },
   {
    "duration": 4,
    "start_time": "2023-02-25T13:04:31.593Z"
   },
   {
    "duration": 231,
    "start_time": "2023-02-25T13:04:31.599Z"
   },
   {
    "duration": 201,
    "start_time": "2023-02-25T13:04:31.835Z"
   },
   {
    "duration": 22,
    "start_time": "2023-02-25T13:04:32.038Z"
   },
   {
    "duration": 997,
    "start_time": "2023-02-25T13:04:32.062Z"
   },
   {
    "duration": 697,
    "start_time": "2023-02-25T13:04:54.073Z"
   },
   {
    "duration": 763,
    "start_time": "2023-02-25T13:06:59.747Z"
   },
   {
    "duration": 10,
    "start_time": "2023-02-25T13:07:13.130Z"
   },
   {
    "duration": 11,
    "start_time": "2023-02-25T13:10:49.396Z"
   },
   {
    "duration": 10,
    "start_time": "2023-02-25T13:12:54.645Z"
   },
   {
    "duration": 46,
    "start_time": "2023-02-25T13:15:09.871Z"
   },
   {
    "duration": 27,
    "start_time": "2023-02-25T13:15:28.623Z"
   },
   {
    "duration": 15,
    "start_time": "2023-02-25T13:17:19.372Z"
   },
   {
    "duration": 1156,
    "start_time": "2023-02-25T13:50:50.956Z"
   },
   {
    "duration": 71,
    "start_time": "2023-02-25T13:50:52.113Z"
   },
   {
    "duration": 4,
    "start_time": "2023-02-25T13:50:52.186Z"
   },
   {
    "duration": 91,
    "start_time": "2023-02-25T13:50:52.192Z"
   },
   {
    "duration": 13,
    "start_time": "2023-02-25T13:50:52.285Z"
   },
   {
    "duration": 9,
    "start_time": "2023-02-25T13:50:52.300Z"
   },
   {
    "duration": 10,
    "start_time": "2023-02-25T13:50:52.310Z"
   },
   {
    "duration": 53,
    "start_time": "2023-02-25T13:50:52.322Z"
   },
   {
    "duration": 7,
    "start_time": "2023-02-25T13:50:52.376Z"
   },
   {
    "duration": 7,
    "start_time": "2023-02-25T13:50:52.385Z"
   },
   {
    "duration": 18,
    "start_time": "2023-02-25T13:50:52.393Z"
   },
   {
    "duration": 65,
    "start_time": "2023-02-25T13:50:52.413Z"
   },
   {
    "duration": 11,
    "start_time": "2023-02-25T13:50:52.479Z"
   },
   {
    "duration": 8,
    "start_time": "2023-02-25T13:50:52.492Z"
   },
   {
    "duration": 14,
    "start_time": "2023-02-25T13:50:52.501Z"
   },
   {
    "duration": 8,
    "start_time": "2023-02-25T13:50:52.516Z"
   },
   {
    "duration": 6,
    "start_time": "2023-02-25T13:50:52.525Z"
   },
   {
    "duration": 14,
    "start_time": "2023-02-25T13:50:52.533Z"
   },
   {
    "duration": 12,
    "start_time": "2023-02-25T13:50:52.549Z"
   },
   {
    "duration": 16,
    "start_time": "2023-02-25T13:50:52.563Z"
   },
   {
    "duration": 25,
    "start_time": "2023-02-25T13:50:52.580Z"
   },
   {
    "duration": 9,
    "start_time": "2023-02-25T13:50:52.607Z"
   },
   {
    "duration": 12,
    "start_time": "2023-02-25T13:50:52.617Z"
   },
   {
    "duration": 18,
    "start_time": "2023-02-25T13:50:52.630Z"
   },
   {
    "duration": 14,
    "start_time": "2023-02-25T13:50:52.650Z"
   },
   {
    "duration": 15,
    "start_time": "2023-02-25T13:50:52.665Z"
   },
   {
    "duration": 283,
    "start_time": "2023-02-25T13:50:52.682Z"
   },
   {
    "duration": 343,
    "start_time": "2023-02-25T13:50:52.970Z"
   },
   {
    "duration": 245,
    "start_time": "2023-02-25T13:50:53.315Z"
   },
   {
    "duration": 344,
    "start_time": "2023-02-25T13:50:53.562Z"
   },
   {
    "duration": 229,
    "start_time": "2023-02-25T13:50:53.908Z"
   },
   {
    "duration": 326,
    "start_time": "2023-02-25T13:50:54.139Z"
   },
   {
    "duration": 12,
    "start_time": "2023-02-25T13:50:54.466Z"
   },
   {
    "duration": 153,
    "start_time": "2023-02-25T13:50:54.479Z"
   },
   {
    "duration": 4,
    "start_time": "2023-02-25T13:50:54.633Z"
   },
   {
    "duration": 14,
    "start_time": "2023-02-25T13:50:54.639Z"
   },
   {
    "duration": 277,
    "start_time": "2023-02-25T13:50:54.655Z"
   },
   {
    "duration": 102,
    "start_time": "2023-02-25T13:50:54.933Z"
   },
   {
    "duration": 4,
    "start_time": "2023-02-25T13:50:55.036Z"
   },
   {
    "duration": 243,
    "start_time": "2023-02-25T13:50:55.042Z"
   },
   {
    "duration": 188,
    "start_time": "2023-02-25T13:50:55.287Z"
   },
   {
    "duration": 10,
    "start_time": "2023-02-25T13:50:55.476Z"
   },
   {
    "duration": 20,
    "start_time": "2023-02-25T13:50:55.488Z"
   },
   {
    "duration": 27,
    "start_time": "2023-02-25T13:50:55.510Z"
   },
   {
    "duration": 17,
    "start_time": "2023-02-25T13:50:55.538Z"
   },
   {
    "duration": 1110,
    "start_time": "2023-02-25T17:57:47.818Z"
   },
   {
    "duration": 116,
    "start_time": "2023-02-25T17:57:48.930Z"
   },
   {
    "duration": 3,
    "start_time": "2023-02-25T17:57:49.048Z"
   },
   {
    "duration": 238,
    "start_time": "2023-02-25T17:57:49.054Z"
   },
   {
    "duration": 11,
    "start_time": "2023-02-25T17:57:49.293Z"
   },
   {
    "duration": 7,
    "start_time": "2023-02-25T17:57:49.306Z"
   },
   {
    "duration": 6,
    "start_time": "2023-02-25T17:57:49.315Z"
   },
   {
    "duration": 55,
    "start_time": "2023-02-25T17:57:49.322Z"
   },
   {
    "duration": 6,
    "start_time": "2023-02-25T17:57:49.379Z"
   },
   {
    "duration": 16,
    "start_time": "2023-02-25T17:57:49.387Z"
   },
   {
    "duration": 14,
    "start_time": "2023-02-25T17:57:49.404Z"
   },
   {
    "duration": 122,
    "start_time": "2023-02-25T17:57:49.419Z"
   },
   {
    "duration": 8,
    "start_time": "2023-02-25T17:57:49.543Z"
   },
   {
    "duration": 14,
    "start_time": "2023-02-25T17:57:49.552Z"
   },
   {
    "duration": 16,
    "start_time": "2023-02-25T17:57:49.567Z"
   },
   {
    "duration": 10,
    "start_time": "2023-02-25T17:57:49.584Z"
   },
   {
    "duration": 6,
    "start_time": "2023-02-25T17:57:49.595Z"
   },
   {
    "duration": 11,
    "start_time": "2023-02-25T17:57:49.602Z"
   },
   {
    "duration": 15,
    "start_time": "2023-02-25T17:57:49.614Z"
   },
   {
    "duration": 11,
    "start_time": "2023-02-25T17:57:49.631Z"
   },
   {
    "duration": 13,
    "start_time": "2023-02-25T17:57:49.643Z"
   },
   {
    "duration": 9,
    "start_time": "2023-02-25T17:57:49.658Z"
   },
   {
    "duration": 9,
    "start_time": "2023-02-25T17:57:49.669Z"
   },
   {
    "duration": 23,
    "start_time": "2023-02-25T17:57:49.680Z"
   },
   {
    "duration": 4,
    "start_time": "2023-02-25T17:57:49.705Z"
   },
   {
    "duration": 10,
    "start_time": "2023-02-25T17:57:49.710Z"
   },
   {
    "duration": 290,
    "start_time": "2023-02-25T17:57:49.722Z"
   },
   {
    "duration": 316,
    "start_time": "2023-02-25T17:57:50.017Z"
   },
   {
    "duration": 231,
    "start_time": "2023-02-25T17:57:50.335Z"
   },
   {
    "duration": 364,
    "start_time": "2023-02-25T17:57:50.568Z"
   },
   {
    "duration": 235,
    "start_time": "2023-02-25T17:57:50.934Z"
   },
   {
    "duration": 350,
    "start_time": "2023-02-25T17:57:51.171Z"
   },
   {
    "duration": 10,
    "start_time": "2023-02-25T17:57:51.523Z"
   },
   {
    "duration": 143,
    "start_time": "2023-02-25T17:57:51.535Z"
   },
   {
    "duration": 3,
    "start_time": "2023-02-25T17:57:51.680Z"
   },
   {
    "duration": 24,
    "start_time": "2023-02-25T17:57:51.685Z"
   },
   {
    "duration": 218,
    "start_time": "2023-02-25T17:57:51.710Z"
   },
   {
    "duration": 104,
    "start_time": "2023-02-25T17:57:51.930Z"
   },
   {
    "duration": 4,
    "start_time": "2023-02-25T17:57:52.035Z"
   },
   {
    "duration": 231,
    "start_time": "2023-02-25T17:57:52.041Z"
   },
   {
    "duration": 168,
    "start_time": "2023-02-25T17:57:52.273Z"
   },
   {
    "duration": 9,
    "start_time": "2023-02-25T17:57:52.442Z"
   },
   {
    "duration": 25,
    "start_time": "2023-02-25T17:57:52.452Z"
   },
   {
    "duration": 30,
    "start_time": "2023-02-25T17:57:52.479Z"
   },
   {
    "duration": 14,
    "start_time": "2023-02-25T17:57:52.510Z"
   },
   {
    "duration": 1177,
    "start_time": "2023-02-25T19:09:33.202Z"
   },
   {
    "duration": 132,
    "start_time": "2023-02-25T19:09:34.380Z"
   },
   {
    "duration": 3,
    "start_time": "2023-02-25T19:09:34.514Z"
   },
   {
    "duration": 129,
    "start_time": "2023-02-25T19:09:34.519Z"
   },
   {
    "duration": 9,
    "start_time": "2023-02-25T19:09:34.650Z"
   },
   {
    "duration": 7,
    "start_time": "2023-02-25T19:09:34.661Z"
   },
   {
    "duration": 8,
    "start_time": "2023-02-25T19:09:34.670Z"
   },
   {
    "duration": 51,
    "start_time": "2023-02-25T19:09:34.679Z"
   },
   {
    "duration": 6,
    "start_time": "2023-02-25T19:09:34.732Z"
   },
   {
    "duration": 4,
    "start_time": "2023-02-25T19:09:34.740Z"
   },
   {
    "duration": 6,
    "start_time": "2023-02-25T19:09:34.746Z"
   },
   {
    "duration": 102,
    "start_time": "2023-02-25T19:09:34.753Z"
   },
   {
    "duration": 10,
    "start_time": "2023-02-25T19:09:34.857Z"
   },
   {
    "duration": 8,
    "start_time": "2023-02-25T19:09:34.869Z"
   },
   {
    "duration": 12,
    "start_time": "2023-02-25T19:09:34.879Z"
   },
   {
    "duration": 8,
    "start_time": "2023-02-25T19:09:34.892Z"
   },
   {
    "duration": 5,
    "start_time": "2023-02-25T19:09:34.901Z"
   },
   {
    "duration": 8,
    "start_time": "2023-02-25T19:09:34.908Z"
   },
   {
    "duration": 15,
    "start_time": "2023-02-25T19:09:34.917Z"
   },
   {
    "duration": 15,
    "start_time": "2023-02-25T19:09:34.934Z"
   },
   {
    "duration": 14,
    "start_time": "2023-02-25T19:09:34.950Z"
   },
   {
    "duration": 15,
    "start_time": "2023-02-25T19:09:34.965Z"
   },
   {
    "duration": 10,
    "start_time": "2023-02-25T19:09:34.981Z"
   },
   {
    "duration": 11,
    "start_time": "2023-02-25T19:09:34.992Z"
   },
   {
    "duration": 16,
    "start_time": "2023-02-25T19:09:35.005Z"
   },
   {
    "duration": 10,
    "start_time": "2023-02-25T19:09:35.022Z"
   },
   {
    "duration": 277,
    "start_time": "2023-02-25T19:09:35.034Z"
   },
   {
    "duration": 312,
    "start_time": "2023-02-25T19:09:35.316Z"
   },
   {
    "duration": 233,
    "start_time": "2023-02-25T19:09:35.631Z"
   },
   {
    "duration": 350,
    "start_time": "2023-02-25T19:09:35.867Z"
   },
   {
    "duration": 223,
    "start_time": "2023-02-25T19:09:36.219Z"
   },
   {
    "duration": 297,
    "start_time": "2023-02-25T19:09:36.444Z"
   },
   {
    "duration": 12,
    "start_time": "2023-02-25T19:09:36.743Z"
   },
   {
    "duration": 138,
    "start_time": "2023-02-25T19:09:36.756Z"
   },
   {
    "duration": 9,
    "start_time": "2023-02-25T19:09:36.896Z"
   },
   {
    "duration": 16,
    "start_time": "2023-02-25T19:09:36.906Z"
   },
   {
    "duration": 248,
    "start_time": "2023-02-25T19:09:36.924Z"
   },
   {
    "duration": 94,
    "start_time": "2023-02-25T19:09:37.174Z"
   },
   {
    "duration": 4,
    "start_time": "2023-02-25T19:09:37.270Z"
   },
   {
    "duration": 289,
    "start_time": "2023-02-25T19:09:37.275Z"
   },
   {
    "duration": 169,
    "start_time": "2023-02-25T19:09:37.565Z"
   },
   {
    "duration": 11,
    "start_time": "2023-02-25T19:09:37.736Z"
   },
   {
    "duration": 20,
    "start_time": "2023-02-25T19:09:37.748Z"
   },
   {
    "duration": 39,
    "start_time": "2023-02-25T19:09:37.770Z"
   },
   {
    "duration": 13,
    "start_time": "2023-02-25T19:09:37.810Z"
   },
   {
    "duration": 1333,
    "start_time": "2023-02-25T20:12:52.032Z"
   },
   {
    "duration": 1128,
    "start_time": "2023-02-27T06:51:36.766Z"
   },
   {
    "duration": 123,
    "start_time": "2023-02-27T06:51:37.896Z"
   },
   {
    "duration": 4,
    "start_time": "2023-02-27T06:51:38.021Z"
   },
   {
    "duration": 102,
    "start_time": "2023-02-27T06:51:38.027Z"
   },
   {
    "duration": 12,
    "start_time": "2023-02-27T06:51:38.131Z"
   },
   {
    "duration": 10,
    "start_time": "2023-02-27T06:51:38.144Z"
   },
   {
    "duration": 5,
    "start_time": "2023-02-27T06:51:38.155Z"
   },
   {
    "duration": 49,
    "start_time": "2023-02-27T06:51:38.162Z"
   },
   {
    "duration": 7,
    "start_time": "2023-02-27T06:51:38.213Z"
   },
   {
    "duration": 4,
    "start_time": "2023-02-27T06:51:38.239Z"
   },
   {
    "duration": 6,
    "start_time": "2023-02-27T06:51:38.244Z"
   },
   {
    "duration": 108,
    "start_time": "2023-02-27T06:51:38.252Z"
   },
   {
    "duration": 10,
    "start_time": "2023-02-27T06:51:38.361Z"
   },
   {
    "duration": 7,
    "start_time": "2023-02-27T06:51:38.372Z"
   },
   {
    "duration": 12,
    "start_time": "2023-02-27T06:51:38.380Z"
   },
   {
    "duration": 7,
    "start_time": "2023-02-27T06:51:38.394Z"
   },
   {
    "duration": 5,
    "start_time": "2023-02-27T06:51:38.402Z"
   },
   {
    "duration": 6,
    "start_time": "2023-02-27T06:51:38.408Z"
   },
   {
    "duration": 22,
    "start_time": "2023-02-27T06:51:38.416Z"
   },
   {
    "duration": 11,
    "start_time": "2023-02-27T06:51:38.439Z"
   },
   {
    "duration": 11,
    "start_time": "2023-02-27T06:51:38.452Z"
   },
   {
    "duration": 9,
    "start_time": "2023-02-27T06:51:38.464Z"
   },
   {
    "duration": 9,
    "start_time": "2023-02-27T06:51:38.475Z"
   },
   {
    "duration": 4,
    "start_time": "2023-02-27T06:51:38.486Z"
   },
   {
    "duration": 6,
    "start_time": "2023-02-27T06:51:38.491Z"
   },
   {
    "duration": 7,
    "start_time": "2023-02-27T06:51:38.498Z"
   },
   {
    "duration": 293,
    "start_time": "2023-02-27T06:51:38.507Z"
   },
   {
    "duration": 293,
    "start_time": "2023-02-27T06:51:38.803Z"
   },
   {
    "duration": 210,
    "start_time": "2023-02-27T06:51:39.098Z"
   },
   {
    "duration": 390,
    "start_time": "2023-02-27T06:51:39.310Z"
   },
   {
    "duration": 210,
    "start_time": "2023-02-27T06:51:39.701Z"
   },
   {
    "duration": 337,
    "start_time": "2023-02-27T06:51:39.912Z"
   },
   {
    "duration": 11,
    "start_time": "2023-02-27T06:51:40.251Z"
   },
   {
    "duration": 139,
    "start_time": "2023-02-27T06:51:40.264Z"
   },
   {
    "duration": 3,
    "start_time": "2023-02-27T06:51:40.405Z"
   },
   {
    "duration": 14,
    "start_time": "2023-02-27T06:51:40.410Z"
   },
   {
    "duration": 185,
    "start_time": "2023-02-27T06:51:40.426Z"
   },
   {
    "duration": 155,
    "start_time": "2023-02-27T06:51:40.613Z"
   },
   {
    "duration": 6,
    "start_time": "2023-02-27T06:51:40.770Z"
   },
   {
    "duration": 219,
    "start_time": "2023-02-27T06:51:40.778Z"
   },
   {
    "duration": 145,
    "start_time": "2023-02-27T06:51:40.999Z"
   },
   {
    "duration": 9,
    "start_time": "2023-02-27T06:51:41.146Z"
   },
   {
    "duration": 9,
    "start_time": "2023-02-27T06:51:41.156Z"
   },
   {
    "duration": 22,
    "start_time": "2023-02-27T06:51:41.166Z"
   },
   {
    "duration": 11,
    "start_time": "2023-02-27T06:51:41.190Z"
   },
   {
    "duration": 10,
    "start_time": "2023-02-27T06:55:24.008Z"
   },
   {
    "duration": 10,
    "start_time": "2023-02-27T06:56:08.402Z"
   },
   {
    "duration": 16,
    "start_time": "2023-02-27T06:58:24.937Z"
   },
   {
    "duration": 14,
    "start_time": "2023-02-27T06:58:31.972Z"
   },
   {
    "duration": 10,
    "start_time": "2023-02-27T07:16:05.408Z"
   },
   {
    "duration": 10,
    "start_time": "2023-02-27T07:16:32.352Z"
   },
   {
    "duration": 114,
    "start_time": "2023-02-27T07:34:40.024Z"
   },
   {
    "duration": 249,
    "start_time": "2023-02-27T07:34:48.035Z"
   },
   {
    "duration": 245,
    "start_time": "2023-02-27T07:35:55.111Z"
   },
   {
    "duration": 238,
    "start_time": "2023-02-27T07:36:20.572Z"
   },
   {
    "duration": 240,
    "start_time": "2023-02-27T07:36:31.532Z"
   },
   {
    "duration": 278,
    "start_time": "2023-02-27T07:36:58.147Z"
   },
   {
    "duration": 261,
    "start_time": "2023-02-27T07:37:12.589Z"
   },
   {
    "duration": 264,
    "start_time": "2023-02-27T07:38:58.261Z"
   },
   {
    "duration": 10,
    "start_time": "2023-02-27T07:47:48.118Z"
   },
   {
    "duration": 73,
    "start_time": "2023-02-27T07:49:29.807Z"
   },
   {
    "duration": 10,
    "start_time": "2023-02-27T07:50:02.884Z"
   },
   {
    "duration": 15,
    "start_time": "2023-02-27T07:51:09.681Z"
   },
   {
    "duration": 12,
    "start_time": "2023-02-27T07:51:23.406Z"
   },
   {
    "duration": 12,
    "start_time": "2023-02-27T07:51:29.429Z"
   },
   {
    "duration": 11,
    "start_time": "2023-02-27T07:51:36.430Z"
   },
   {
    "duration": 12,
    "start_time": "2023-02-27T07:51:42.170Z"
   },
   {
    "duration": 48,
    "start_time": "2023-02-27T07:52:30.245Z"
   },
   {
    "duration": 3,
    "start_time": "2023-02-27T07:52:53.446Z"
   },
   {
    "duration": 10,
    "start_time": "2023-02-27T07:52:59.642Z"
   },
   {
    "duration": 16,
    "start_time": "2023-02-27T07:53:15.015Z"
   },
   {
    "duration": 11,
    "start_time": "2023-02-27T07:53:20.791Z"
   },
   {
    "duration": 18,
    "start_time": "2023-02-27T07:54:29.468Z"
   },
   {
    "duration": 15,
    "start_time": "2023-02-27T07:54:42.129Z"
   },
   {
    "duration": 40,
    "start_time": "2023-02-27T07:54:50.181Z"
   },
   {
    "duration": 10,
    "start_time": "2023-02-27T07:54:56.946Z"
   },
   {
    "duration": 14,
    "start_time": "2023-02-27T07:56:49.589Z"
   },
   {
    "duration": 273,
    "start_time": "2023-02-27T07:58:30.387Z"
   },
   {
    "duration": 327,
    "start_time": "2023-02-27T07:58:50.767Z"
   },
   {
    "duration": 5,
    "start_time": "2023-02-27T08:01:09.587Z"
   },
   {
    "duration": 6,
    "start_time": "2023-02-27T08:01:54.428Z"
   },
   {
    "duration": 62,
    "start_time": "2023-02-27T08:02:56.471Z"
   },
   {
    "duration": 50,
    "start_time": "2023-02-27T08:03:34.931Z"
   },
   {
    "duration": 7,
    "start_time": "2023-02-27T08:03:49.321Z"
   },
   {
    "duration": 12,
    "start_time": "2023-02-27T08:04:47.909Z"
   },
   {
    "duration": 30,
    "start_time": "2023-02-27T08:07:00.199Z"
   },
   {
    "duration": 20,
    "start_time": "2023-02-27T08:07:43.591Z"
   },
   {
    "duration": 1052,
    "start_time": "2023-02-27T08:09:40.106Z"
   },
   {
    "duration": 238,
    "start_time": "2023-02-27T08:09:41.160Z"
   },
   {
    "duration": 5,
    "start_time": "2023-02-27T08:09:41.400Z"
   },
   {
    "duration": 192,
    "start_time": "2023-02-27T08:09:41.407Z"
   },
   {
    "duration": 11,
    "start_time": "2023-02-27T08:09:41.601Z"
   },
   {
    "duration": 9,
    "start_time": "2023-02-27T08:09:41.614Z"
   },
   {
    "duration": 6,
    "start_time": "2023-02-27T08:09:41.624Z"
   },
   {
    "duration": 50,
    "start_time": "2023-02-27T08:09:41.632Z"
   },
   {
    "duration": 7,
    "start_time": "2023-02-27T08:09:41.684Z"
   },
   {
    "duration": 5,
    "start_time": "2023-02-27T08:09:41.695Z"
   },
   {
    "duration": 7,
    "start_time": "2023-02-27T08:09:41.701Z"
   },
   {
    "duration": 119,
    "start_time": "2023-02-27T08:09:41.711Z"
   },
   {
    "duration": 11,
    "start_time": "2023-02-27T08:09:41.832Z"
   },
   {
    "duration": 9,
    "start_time": "2023-02-27T08:09:41.845Z"
   },
   {
    "duration": 15,
    "start_time": "2023-02-27T08:09:41.856Z"
   },
   {
    "duration": 8,
    "start_time": "2023-02-27T08:09:41.873Z"
   },
   {
    "duration": 11,
    "start_time": "2023-02-27T08:09:41.883Z"
   },
   {
    "duration": 9,
    "start_time": "2023-02-27T08:09:41.896Z"
   },
   {
    "duration": 32,
    "start_time": "2023-02-27T08:09:41.906Z"
   },
   {
    "duration": 16,
    "start_time": "2023-02-27T08:09:41.940Z"
   },
   {
    "duration": 16,
    "start_time": "2023-02-27T08:09:41.958Z"
   },
   {
    "duration": 12,
    "start_time": "2023-02-27T08:09:41.976Z"
   },
   {
    "duration": 16,
    "start_time": "2023-02-27T08:09:41.990Z"
   },
   {
    "duration": 368,
    "start_time": "2023-02-27T08:09:42.008Z"
   },
   {
    "duration": 16,
    "start_time": "2023-02-27T08:09:42.378Z"
   },
   {
    "duration": 27,
    "start_time": "2023-02-27T08:09:42.396Z"
   },
   {
    "duration": 11,
    "start_time": "2023-02-27T08:09:42.425Z"
   },
   {
    "duration": 12,
    "start_time": "2023-02-27T08:09:42.442Z"
   },
   {
    "duration": 11,
    "start_time": "2023-02-27T08:09:42.456Z"
   },
   {
    "duration": 340,
    "start_time": "2023-02-27T08:09:42.469Z"
   },
   {
    "duration": 7,
    "start_time": "2023-02-27T08:09:42.810Z"
   },
   {
    "duration": 301,
    "start_time": "2023-02-27T08:09:42.819Z"
   },
   {
    "duration": 223,
    "start_time": "2023-02-27T08:09:43.121Z"
   },
   {
    "duration": 361,
    "start_time": "2023-02-27T08:09:43.346Z"
   },
   {
    "duration": 222,
    "start_time": "2023-02-27T08:09:43.710Z"
   },
   {
    "duration": 336,
    "start_time": "2023-02-27T08:09:43.933Z"
   },
   {
    "duration": 12,
    "start_time": "2023-02-27T08:09:44.271Z"
   },
   {
    "duration": 156,
    "start_time": "2023-02-27T08:09:44.284Z"
   },
   {
    "duration": 6,
    "start_time": "2023-02-27T08:09:44.441Z"
   },
   {
    "duration": 14,
    "start_time": "2023-02-27T08:09:44.448Z"
   },
   {
    "duration": 302,
    "start_time": "2023-02-27T08:09:44.464Z"
   },
   {
    "duration": 111,
    "start_time": "2023-02-27T08:09:44.768Z"
   },
   {
    "duration": 5,
    "start_time": "2023-02-27T08:09:44.880Z"
   },
   {
    "duration": 245,
    "start_time": "2023-02-27T08:09:44.887Z"
   },
   {
    "duration": 150,
    "start_time": "2023-02-27T08:09:45.138Z"
   },
   {
    "duration": 13,
    "start_time": "2023-02-27T08:09:45.290Z"
   },
   {
    "duration": 33,
    "start_time": "2023-02-27T08:09:45.305Z"
   },
   {
    "duration": 40,
    "start_time": "2023-02-27T08:09:45.340Z"
   },
   {
    "duration": 19,
    "start_time": "2023-02-27T08:09:45.382Z"
   },
   {
    "duration": 67,
    "start_time": "2023-02-27T08:11:51.692Z"
   }
  ],
  "kernelspec": {
   "display_name": "Python 3 (ipykernel)",
   "language": "python",
   "name": "python3"
  },
  "language_info": {
   "codemirror_mode": {
    "name": "ipython",
    "version": 3
   },
   "file_extension": ".py",
   "mimetype": "text/x-python",
   "name": "python",
   "nbconvert_exporter": "python",
   "pygments_lexer": "ipython3",
   "version": "3.9.13"
  },
  "toc": {
   "base_numbering": 1,
   "nav_menu": {},
   "number_sections": true,
   "sideBar": true,
   "skip_h1_title": true,
   "title_cell": "Table of Contents",
   "title_sidebar": "Contents",
   "toc_cell": false,
   "toc_position": {},
   "toc_section_display": true,
   "toc_window_display": false
  }
 },
 "nbformat": 4,
 "nbformat_minor": 2
}
