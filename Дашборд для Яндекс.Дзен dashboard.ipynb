{
 "cells": [
  {
   "cell_type": "markdown",
   "id": "f6a5229d",
   "metadata": {},
   "source": [
    "# Дашборд для Яндекс.Дзен"
   ]
  },
  {
   "cell_type": "markdown",
   "id": "da77efd6",
   "metadata": {},
   "source": [
    "## Содержание"
   ]
  },
  {
   "cell_type": "markdown",
   "id": "4ceb7975",
   "metadata": {},
   "source": [
    "[Оглавление](#intro)\n",
    "1. [Описание проекта, цели и задачи](#intro1)\n",
    "2. [Описание данных](#intro2)\n",
    "3. [Макет дашборда](#intro3)\n",
    "4. [Предоработка данных](#intro4)\n",
    "5. [Ссылка на публикацию дашборда:](#intro5)\n",
    "8. [Ссылка на презентацию](#intro6)"
   ]
  },
  {
   "cell_type": "markdown",
   "id": "fe5c456f",
   "metadata": {},
   "source": [
    "## [Описание проекта, цели и задачи](#intro1)"
   ]
  },
  {
   "cell_type": "markdown",
   "id": "ff146bac",
   "metadata": {},
   "source": [
    "На регулярные вопросы менеждеров решено построить дашборд, который будет отвечать на следующие вопросы: \n",
    "* Сколько взаимодействий пользователей с карточками происходит в системе с разбивкой по темам карточек?\n",
    "* Как много карточек генерируют источники с разными темами?\n",
    "* Как соотносятся темы карточек и темы источников?"
   ]
  },
  {
   "cell_type": "markdown",
   "id": "31e02585",
   "metadata": {},
   "source": [
    "**Подготовка:** Нужно подробно обсудить с менеджерами состав дашборда, его внешний вид и набор отображаемых данных. После этого пообщаться с администраторами БД и выяснить, куда и как собираются нужные данные. С ними же нужно решить, где хранить агрегирующие таблицы. В финале приступить к разработке пайплайна и дашборда."
   ]
  },
  {
   "cell_type": "markdown",
   "id": "3fbb03c5",
   "metadata": {},
   "source": [
    "**Краткое ТЗ:**\n",
    "\n",
    "Бизнес-задача: анализ взаимодействия пользователей с карточками Яндекс.Дзен;\n",
    "\n",
    "* Насколько часто предполагается пользоваться дашбордом: не реже, чем раз в неделю;\n",
    "* Кто будет основным пользователем дашборда: менеджеры по анализу контента;\n",
    "\n",
    "Состав данных для дашборда:\n",
    "* История событий по темам карточек (два графика - абсолютные числа и процентное соотношение);\n",
    "* Разбивка событий по темам источников;\n",
    "* Таблица соответствия тем источников темам карточек;\n",
    "\n",
    "По каким параметрам данные должны группироваться:\n",
    "* Дата и время;\n",
    "* Тема карточки;\n",
    "* Тема источника;\n",
    "* Возрастная группа;\n",
    "\n",
    "Характер данных:\n",
    "* История событий по темам карточек — абсолютные величины с разбивкой по минутам;\n",
    "* Разбивка событий по темам источников — относительные величины (% событий);\n",
    "* Соответствия тем источников темам карточек - абсолютные величины;\n",
    "\n",
    "Важность: все графики имеют равную важность;"
   ]
  },
  {
   "cell_type": "markdown",
   "id": "3659dd9f",
   "metadata": {},
   "source": [
    "## [Описание данных](#intro2)"
   ]
  },
  {
   "cell_type": "markdown",
   "id": "ec280c82",
   "metadata": {},
   "source": [
    "Источники данных для дашборда: дата-инженеры обещали подготовить для вас агрегирующую таблицу dash_visits. \n",
    "    \n",
    "Cтруктура данных:\n",
    "* record_id — первичный ключ,\n",
    "* item_topic — тема карточки,\n",
    "* source_topic — тема источника,\n",
    "* age_segment — возрастной сегмент,\n",
    "* dt — дата и время,\n",
    "* visits — количество событий.\n",
    "\n",
    "Таблица хранится в специально подготовленной для вас базе данных zen;\n",
    "Частота обновления данных: один раз в сутки, в полночь по UTC;\n",
    "Какие графики должны отображаться и в каком порядке, какие элементы управления должны быть на дашборде (макет дашборда):"
   ]
  },
  {
   "cell_type": "markdown",
   "id": "7c279408",
   "metadata": {},
   "source": [
    "## [Макет дашборда](#intro3)"
   ]
  },
  {
   "cell_type": "markdown",
   "id": "5939ee1f",
   "metadata": {},
   "source": [
    "<a href=\"https://ibb.co/fY5g19g\"><img src=\"https://i.ibb.co/JR41Bq1/Maket-dashboard.png\" alt=\"Maket-dashboard\" border=\"0\"></a>"
   ]
  },
  {
   "cell_type": "code",
   "execution_count": 1,
   "id": "58fd076d",
   "metadata": {},
   "outputs": [],
   "source": [
    "# установим библиотеку\n",
    "\n",
    "#!pip install psycopg2"
   ]
  },
  {
   "cell_type": "code",
   "execution_count": 2,
   "id": "c91f09e6",
   "metadata": {},
   "outputs": [],
   "source": [
    "# Импортируем необходимые библиотеки\n",
    "\n",
    "import pandas as pd\n",
    "from sqlalchemy import create_engine\n",
    "import sys\n",
    "import getopt\n",
    "import psycopg2"
   ]
  },
  {
   "cell_type": "code",
   "execution_count": 3,
   "id": "8aa8e8f4",
   "metadata": {},
   "outputs": [],
   "source": [
    "# Задаем параметры подключения к серверу\n",
    "\n",
    "db_config = {'user': 'praktikum_student', # имя пользователя\n",
    "            'pwd': 'Sdf4$2;d-d30pp', # пароль\n",
    "            'host': 'rc1b-wcoijxj3yxfsf3fs.mdb.yandexcloud.net',\n",
    "            'port': 6432, # порт подключения\n",
    "            'db': 'data-analyst-zen-project-db'} # название базы данных\n",
    "\n",
    "connection_string = 'postgresql://{}:{}@{}:{}/{}'.format(db_config['user'],\n",
    "                                                db_config['pwd'],\n",
    "                                                db_config['host'],\n",
    "                                                db_config['port'],\n",
    "                                                db_config['db'])\n",
    "\n",
    "engine = create_engine(connection_string)"
   ]
  },
  {
   "cell_type": "code",
   "execution_count": 4,
   "id": "3073409e",
   "metadata": {},
   "outputs": [
    {
     "name": "stdout",
     "output_type": "stream",
     "text": [
      "   record_id item_topic source_topic age_segment                  dt  visits\n",
      "0    1040597     Деньги         Авто       18-25 2019-09-24 18:32:00       3\n",
      "1    1040598     Деньги         Авто       18-25 2019-09-24 18:35:00       1\n",
      "2    1040599     Деньги         Авто       18-25 2019-09-24 18:54:00       4\n",
      "3    1040600     Деньги         Авто       18-25 2019-09-24 18:55:00      17\n",
      "4    1040601     Деньги         Авто       18-25 2019-09-24 18:56:00      27\n"
     ]
    }
   ],
   "source": [
    "# Формируем sql-запрос\n",
    "\n",
    "query = ''' SELECT *             \n",
    "            FROM dash_visits\n",
    " \n",
    "        '''\n",
    " \n",
    "# Выполняем запрос и сохраняем результат\n",
    "# выполнения в DataFrame.\n",
    "# Sqlalchemy автоматически установит названия колонок\n",
    "# такими же, как у таблицы в БД. Нам останется только\n",
    "# указать индексную колонку с помощью index_col.\n",
    "dash_visits = pd.io.sql.read_sql(query, con = engine)\n",
    " \n",
    "# Сделаем предварительный обзор полученных данных:\n",
    "print(dash_visits.head())"
   ]
  },
  {
   "cell_type": "markdown",
   "id": "7c59dd53",
   "metadata": {},
   "source": [
    "## [Предоработка данных](#intro4)"
   ]
  },
  {
   "cell_type": "code",
   "execution_count": 5,
   "id": "f46363f8",
   "metadata": {},
   "outputs": [
    {
     "name": "stdout",
     "output_type": "stream",
     "text": [
      "<class 'pandas.core.frame.DataFrame'>\n",
      "RangeIndex: 30745 entries, 0 to 30744\n",
      "Data columns (total 6 columns):\n",
      " #   Column        Non-Null Count  Dtype         \n",
      "---  ------        --------------  -----         \n",
      " 0   record_id     30745 non-null  int64         \n",
      " 1   item_topic    30745 non-null  object        \n",
      " 2   source_topic  30745 non-null  object        \n",
      " 3   age_segment   30745 non-null  object        \n",
      " 4   dt            30745 non-null  datetime64[ns]\n",
      " 5   visits        30745 non-null  int64         \n",
      "dtypes: datetime64[ns](1), int64(2), object(3)\n",
      "memory usage: 1.4+ MB\n"
     ]
    }
   ],
   "source": [
    "# Выведим основную информацию о датафрейме с помощью метода info()\n",
    "dash_visits.info()"
   ]
  },
  {
   "cell_type": "code",
   "execution_count": 6,
   "id": "eef02b80",
   "metadata": {},
   "outputs": [
    {
     "data": {
      "text/html": [
       "<div>\n",
       "<style scoped>\n",
       "    .dataframe tbody tr th:only-of-type {\n",
       "        vertical-align: middle;\n",
       "    }\n",
       "\n",
       "    .dataframe tbody tr th {\n",
       "        vertical-align: top;\n",
       "    }\n",
       "\n",
       "    .dataframe thead th {\n",
       "        text-align: right;\n",
       "    }\n",
       "</style>\n",
       "<table border=\"1\" class=\"dataframe\">\n",
       "  <thead>\n",
       "    <tr style=\"text-align: right;\">\n",
       "      <th></th>\n",
       "      <th>record_id</th>\n",
       "      <th>item_topic</th>\n",
       "      <th>source_topic</th>\n",
       "      <th>age_segment</th>\n",
       "      <th>dt</th>\n",
       "      <th>visits</th>\n",
       "    </tr>\n",
       "  </thead>\n",
       "  <tbody>\n",
       "    <tr>\n",
       "      <th>0</th>\n",
       "      <td>1040597</td>\n",
       "      <td>Деньги</td>\n",
       "      <td>Авто</td>\n",
       "      <td>18-25</td>\n",
       "      <td>2019-09-24 18:32:00</td>\n",
       "      <td>3</td>\n",
       "    </tr>\n",
       "    <tr>\n",
       "      <th>1</th>\n",
       "      <td>1040598</td>\n",
       "      <td>Деньги</td>\n",
       "      <td>Авто</td>\n",
       "      <td>18-25</td>\n",
       "      <td>2019-09-24 18:35:00</td>\n",
       "      <td>1</td>\n",
       "    </tr>\n",
       "    <tr>\n",
       "      <th>2</th>\n",
       "      <td>1040599</td>\n",
       "      <td>Деньги</td>\n",
       "      <td>Авто</td>\n",
       "      <td>18-25</td>\n",
       "      <td>2019-09-24 18:54:00</td>\n",
       "      <td>4</td>\n",
       "    </tr>\n",
       "    <tr>\n",
       "      <th>3</th>\n",
       "      <td>1040600</td>\n",
       "      <td>Деньги</td>\n",
       "      <td>Авто</td>\n",
       "      <td>18-25</td>\n",
       "      <td>2019-09-24 18:55:00</td>\n",
       "      <td>17</td>\n",
       "    </tr>\n",
       "    <tr>\n",
       "      <th>4</th>\n",
       "      <td>1040601</td>\n",
       "      <td>Деньги</td>\n",
       "      <td>Авто</td>\n",
       "      <td>18-25</td>\n",
       "      <td>2019-09-24 18:56:00</td>\n",
       "      <td>27</td>\n",
       "    </tr>\n",
       "  </tbody>\n",
       "</table>\n",
       "</div>"
      ],
      "text/plain": [
       "   record_id item_topic source_topic age_segment                  dt  visits\n",
       "0    1040597     Деньги         Авто       18-25 2019-09-24 18:32:00       3\n",
       "1    1040598     Деньги         Авто       18-25 2019-09-24 18:35:00       1\n",
       "2    1040599     Деньги         Авто       18-25 2019-09-24 18:54:00       4\n",
       "3    1040600     Деньги         Авто       18-25 2019-09-24 18:55:00      17\n",
       "4    1040601     Деньги         Авто       18-25 2019-09-24 18:56:00      27"
      ]
     },
     "execution_count": 6,
     "metadata": {},
     "output_type": "execute_result"
    }
   ],
   "source": [
    "# Выводим первые 5 строчек датафрейма 'data' на экран\n",
    "dash_visits.head()"
   ]
  },
  {
   "cell_type": "code",
   "execution_count": 7,
   "id": "8bb25cfd",
   "metadata": {},
   "outputs": [
    {
     "data": {
      "text/plain": [
       "record_id       0\n",
       "item_topic      0\n",
       "source_topic    0\n",
       "age_segment     0\n",
       "dt              0\n",
       "visits          0\n",
       "dtype: int64"
      ]
     },
     "execution_count": 7,
     "metadata": {},
     "output_type": "execute_result"
    }
   ],
   "source": [
    "# Найдем все пропуски в таблице и посчитаем их количество:\n",
    "dash_visits.isna().sum()"
   ]
  },
  {
   "cell_type": "code",
   "execution_count": 8,
   "id": "4ab325a5",
   "metadata": {},
   "outputs": [
    {
     "data": {
      "text/plain": [
       "0"
      ]
     },
     "execution_count": 8,
     "metadata": {},
     "output_type": "execute_result"
    }
   ],
   "source": [
    "# Поиск полных дубликатов\n",
    "dash_visits.duplicated().sum()"
   ]
  },
  {
   "cell_type": "code",
   "execution_count": 9,
   "id": "94d93c00",
   "metadata": {},
   "outputs": [
    {
     "data": {
      "text/plain": [
       "array(['Деньги', 'Дети', 'Женская психология', 'Женщины', 'Здоровье',\n",
       "       'Знаменитости', 'Интересные факты', 'Искусство', 'История',\n",
       "       'Красота', 'Культура', 'Наука', 'Общество', 'Отношения',\n",
       "       'Подборки', 'Полезные советы', 'Психология', 'Путешествия',\n",
       "       'Рассказы', 'Россия', 'Семья', 'Скандалы', 'Туризм', 'Шоу', 'Юмор'],\n",
       "      dtype=object)"
      ]
     },
     "execution_count": 9,
     "metadata": {},
     "output_type": "execute_result"
    }
   ],
   "source": [
    "# Список уникальных значений в тема карточки\n",
    "dash_visits['item_topic'].unique()"
   ]
  },
  {
   "cell_type": "code",
   "execution_count": 10,
   "id": "9a2bd0f0",
   "metadata": {},
   "outputs": [
    {
     "data": {
      "text/plain": [
       "array(['Авто', 'Деньги', 'Дети', 'Еда', 'Здоровье', 'Знаменитости',\n",
       "       'Интерьеры', 'Искусство', 'История', 'Кино', 'Музыка', 'Одежда',\n",
       "       'Полезные советы', 'Политика', 'Психология', 'Путешествия',\n",
       "       'Ремонт', 'Россия', 'Сад и дача', 'Сделай сам',\n",
       "       'Семейные отношения', 'Семья', 'Спорт', 'Строительство',\n",
       "       'Технологии', 'Финансы'], dtype=object)"
      ]
     },
     "execution_count": 10,
     "metadata": {},
     "output_type": "execute_result"
    }
   ],
   "source": [
    "# Список уникальных значений в тема источника\n",
    "dash_visits['source_topic'].unique()"
   ]
  },
  {
   "cell_type": "code",
   "execution_count": 11,
   "id": "6b5f7216",
   "metadata": {},
   "outputs": [
    {
     "data": {
      "text/plain": [
       "array(['18-25', '26-30', '31-35', '36-40', '41-45', '45+'], dtype=object)"
      ]
     },
     "execution_count": 11,
     "metadata": {},
     "output_type": "execute_result"
    }
   ],
   "source": [
    "# Список уникальных значений в возрастном сегменте\n",
    "dash_visits['age_segment'].unique()"
   ]
  },
  {
   "cell_type": "code",
   "execution_count": 12,
   "id": "e4cb38e5",
   "metadata": {},
   "outputs": [
    {
     "data": {
      "text/html": [
       "<div>\n",
       "<style scoped>\n",
       "    .dataframe tbody tr th:only-of-type {\n",
       "        vertical-align: middle;\n",
       "    }\n",
       "\n",
       "    .dataframe tbody tr th {\n",
       "        vertical-align: top;\n",
       "    }\n",
       "\n",
       "    .dataframe thead th {\n",
       "        text-align: right;\n",
       "    }\n",
       "</style>\n",
       "<table border=\"1\" class=\"dataframe\">\n",
       "  <thead>\n",
       "    <tr style=\"text-align: right;\">\n",
       "      <th></th>\n",
       "      <th>record_id</th>\n",
       "      <th>visits</th>\n",
       "    </tr>\n",
       "  </thead>\n",
       "  <tbody>\n",
       "    <tr>\n",
       "      <th>count</th>\n",
       "      <td>30745.00</td>\n",
       "      <td>30745.00</td>\n",
       "    </tr>\n",
       "    <tr>\n",
       "      <th>mean</th>\n",
       "      <td>1055969.00</td>\n",
       "      <td>10.09</td>\n",
       "    </tr>\n",
       "    <tr>\n",
       "      <th>std</th>\n",
       "      <td>8875.46</td>\n",
       "      <td>19.73</td>\n",
       "    </tr>\n",
       "    <tr>\n",
       "      <th>min</th>\n",
       "      <td>1040597.00</td>\n",
       "      <td>1.00</td>\n",
       "    </tr>\n",
       "    <tr>\n",
       "      <th>25%</th>\n",
       "      <td>1048283.00</td>\n",
       "      <td>1.00</td>\n",
       "    </tr>\n",
       "    <tr>\n",
       "      <th>50%</th>\n",
       "      <td>1055969.00</td>\n",
       "      <td>3.00</td>\n",
       "    </tr>\n",
       "    <tr>\n",
       "      <th>75%</th>\n",
       "      <td>1063655.00</td>\n",
       "      <td>10.00</td>\n",
       "    </tr>\n",
       "    <tr>\n",
       "      <th>max</th>\n",
       "      <td>1071341.00</td>\n",
       "      <td>371.00</td>\n",
       "    </tr>\n",
       "  </tbody>\n",
       "</table>\n",
       "</div>"
      ],
      "text/plain": [
       "        record_id    visits\n",
       "count    30745.00  30745.00\n",
       "mean   1055969.00     10.09\n",
       "std       8875.46     19.73\n",
       "min    1040597.00      1.00\n",
       "25%    1048283.00      1.00\n",
       "50%    1055969.00      3.00\n",
       "75%    1063655.00     10.00\n",
       "max    1071341.00    371.00"
      ]
     },
     "execution_count": 12,
     "metadata": {},
     "output_type": "execute_result"
    }
   ],
   "source": [
    "# Смотрим описание величин для всех числовых типов данных: количество, среднее арифметическое, стандартное отклонение,\n",
    "# минимум, Q1, Q2 - медиана, Q3, максимум \n",
    "dash_visits.describe().round(2)"
   ]
  },
  {
   "cell_type": "code",
   "execution_count": 13,
   "id": "34b05893",
   "metadata": {},
   "outputs": [
    {
     "data": {
      "text/html": [
       "<div>\n",
       "<style scoped>\n",
       "    .dataframe tbody tr th:only-of-type {\n",
       "        vertical-align: middle;\n",
       "    }\n",
       "\n",
       "    .dataframe tbody tr th {\n",
       "        vertical-align: top;\n",
       "    }\n",
       "\n",
       "    .dataframe thead th {\n",
       "        text-align: right;\n",
       "    }\n",
       "</style>\n",
       "<table border=\"1\" class=\"dataframe\">\n",
       "  <thead>\n",
       "    <tr style=\"text-align: right;\">\n",
       "      <th></th>\n",
       "      <th>item_topic</th>\n",
       "      <th>source_topic</th>\n",
       "      <th>age_segment</th>\n",
       "    </tr>\n",
       "  </thead>\n",
       "  <tbody>\n",
       "    <tr>\n",
       "      <th>count</th>\n",
       "      <td>30745</td>\n",
       "      <td>30745</td>\n",
       "      <td>30745</td>\n",
       "    </tr>\n",
       "    <tr>\n",
       "      <th>unique</th>\n",
       "      <td>25</td>\n",
       "      <td>26</td>\n",
       "      <td>6</td>\n",
       "    </tr>\n",
       "    <tr>\n",
       "      <th>top</th>\n",
       "      <td>Отношения</td>\n",
       "      <td>Семейные отношения</td>\n",
       "      <td>18-25</td>\n",
       "    </tr>\n",
       "    <tr>\n",
       "      <th>freq</th>\n",
       "      <td>1536</td>\n",
       "      <td>1822</td>\n",
       "      <td>7056</td>\n",
       "    </tr>\n",
       "  </tbody>\n",
       "</table>\n",
       "</div>"
      ],
      "text/plain": [
       "       item_topic        source_topic age_segment\n",
       "count       30745               30745       30745\n",
       "unique         25                  26           6\n",
       "top     Отношения  Семейные отношения       18-25\n",
       "freq         1536                1822        7056"
      ]
     },
     "execution_count": 13,
     "metadata": {},
     "output_type": "execute_result"
    }
   ],
   "source": [
    "# Cмотрим описание статистику к нечисловым столбцам (категориальному типу данных): \n",
    "# количество, уникальные, самые частые, их частота\n",
    "dash_visits.describe(include=['O'])"
   ]
  },
  {
   "cell_type": "code",
   "execution_count": 14,
   "id": "af5e0fad",
   "metadata": {},
   "outputs": [],
   "source": [
    "# Выгрузим полученные данные в файл dash_visits.csv\n",
    "\n",
    "dash_visits.to_csv('dash_visits.csv', index=False)"
   ]
  },
  {
   "cell_type": "markdown",
   "id": "660b13b6",
   "metadata": {},
   "source": [
    "## [Ссылка на публикацию дашборда:](#intro5)"
   ]
  },
  {
   "cell_type": "markdown",
   "id": "8cc36d1b",
   "metadata": {},
   "source": [
    "https://public.tableau.com/app/profile/ekaterina.drevetnyak/viz/__16815508960310/Dashboard4"
   ]
  },
  {
   "cell_type": "markdown",
   "id": "cabe5a95",
   "metadata": {},
   "source": [
    "## [Ссылка на презентацию](#intro6)"
   ]
  },
  {
   "cell_type": "markdown",
   "id": "96501b05",
   "metadata": {},
   "source": [
    "https://disk.yandex.ru/i/4VVFfYplN5M-qQ"
   ]
  },
  {
   "cell_type": "code",
   "execution_count": null,
   "id": "169608ce",
   "metadata": {},
   "outputs": [],
   "source": []
  }
 ],
 "metadata": {
  "kernelspec": {
   "display_name": "Python 3 (ipykernel)",
   "language": "python",
   "name": "python3"
  },
  "language_info": {
   "codemirror_mode": {
    "name": "ipython",
    "version": 3
   },
   "file_extension": ".py",
   "mimetype": "text/x-python",
   "name": "python",
   "nbconvert_exporter": "python",
   "pygments_lexer": "ipython3",
   "version": "3.9.13"
  }
 },
 "nbformat": 4,
 "nbformat_minor": 5
}
